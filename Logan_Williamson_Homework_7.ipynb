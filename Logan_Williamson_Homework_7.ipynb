{
 "metadata": {
  "name": "",
  "signature": "sha256:2890adf24d17868c4632f273c7c4e7115a3de1302a96850553f89a11b02a797b"
 },
 "nbformat": 3,
 "nbformat_minor": 0,
 "worksheets": [
  {
   "cells": [
    {
     "cell_type": "markdown",
     "metadata": {},
     "source": [
      "#Logan Williamson"
     ]
    },
    {
     "cell_type": "markdown",
     "metadata": {},
     "source": [
      "Homework 7\n",
      "====\n",
      "####CHE 116: Numerical Methods and Statistics\n",
      "Prof. Andrew White\n",
      "\n",
      "Version 1.1 (3/6/2015)\n",
      "\n",
      "----"
     ]
    },
    {
     "cell_type": "markdown",
     "metadata": {},
     "source": [
      "0. Warmup (1 Point)\n",
      "====\n",
      "\n",
      "We saw many optimization algorithms. Collect all the cells which gave a summary of the different techniques and paste them into your homework below. An example is given below:\n",
      "\n",
      "Newton's Method\n",
      "====\n",
      "\n",
      "**Type:** Root Finding\n",
      "\n",
      "**Discrete/Continuous:** Continuous\n",
      "\n",
      "**Dimensions:** 1\n",
      "\n",
      "**Derivative:** optional\n",
      "\n",
      "**Convex:** yes\n",
      "\n",
      "**Python:** `newton`\n",
      "\n",
      "BFGS\n",
      "====\n",
      "\n",
      "**Type:** Minimization\n",
      "\n",
      "**Discrete/Continuous:** Continuous\n",
      "\n",
      "**Dimensions:** N\n",
      "\n",
      "**Derivative:** optional\n",
      "\n",
      "**Convex:** yes\n",
      "\n",
      "**Python:** `minimize` if no constraints or bounds are given\n",
      "\n",
      "Powell hybrid method\n",
      "====\n",
      "\n",
      "**Type:** Root finding\n",
      "\n",
      "**Discrete/Continuous:** Continuous\n",
      "\n",
      "**Dimensions:** N\n",
      "\n",
      "**Derivative:** optional\n",
      "\n",
      "**Convex:** yes\n",
      "\n",
      "**Python:** `root` unless `method` argument specifies a different method\n",
      "\n",
      "Brent's Method\n",
      "====\n",
      "\n",
      "**Type:** Bounded Root-finding\n",
      "\n",
      "**Discrete/Continuous:** Continuous\n",
      "\n",
      "**Dimensions:** 1\n",
      "\n",
      "**Derivative:** No\n",
      "\n",
      "**Convex:** yes\n",
      "\n",
      "**Python:** `brentq`\n",
      "\n",
      "**Notes:** a and b are two points on the function such that $b > a$ and the signs of $f(a)$ and $f(b)$ are opposite.\n",
      "\n",
      "Sequential Least SQuares Programming (SLSQP)\n",
      "====\n",
      "\n",
      "**Type:** Bounded or Bounded and Constrained Minimization\n",
      "\n",
      "**Discrete/Continuous:** Continuous\n",
      "\n",
      "**Dimensions:** N\n",
      "\n",
      "**Derivative:** optional\n",
      "\n",
      "**Convex:** yes\n",
      "\n",
      "**Python:** `minimize` with bounds argument\n",
      "\n",
      "**Notes:** bounds look like `bounds=[(min_1, max_1), (min_2, max_2), ...]`. One for each dimension\n",
      "\n",
      "L-BFGS-B\n",
      "====\n",
      "\n",
      "**Type:** Constrained Minimization\n",
      "\n",
      "**Discrete/Continuous:** Continuous\n",
      "\n",
      "**Dimensions:** N\n",
      "\n",
      "**Derivative:** optional\n",
      "\n",
      "**Convex:** yes\n",
      "\n",
      "**Python:** `minimize` with constraint arguments\n",
      "\n",
      "Basin-Hopping\n",
      "====\n",
      "\n",
      "**Type:** Non-convex wrapper to a minmimizer\n",
      "\n",
      "**Discrete/Continuous:** Continuous\n",
      "\n",
      "**Dimensions:** N\n",
      "\n",
      "**Derivative:** optional\n",
      "\n",
      "**Convex:** not required\n",
      "\n",
      "**Python:** `basinhopping` with bounds argument\n",
      "\n",
      "**Notes:** Pass `minimize` arguments with a `minimizer_kwargs=min_args`, where `min_args` is a dictionary of arguments to the `minimize` function."
     ]
    },
    {
     "cell_type": "markdown",
     "metadata": {},
     "source": [
      "1. Exercises (5 Points)\n",
      "====\n",
      "1. Minimize the following expression $$\\frac{(x - 4)^2}{2} + \\frac{(x - 2)^2}{4}$$ \n",
      "2. Minimize the following expression: $$4 \\left[ r^{-12} - r^{-6}\\right]$$\n",
      "3. Skipped\n",
      "4. $\\xi$ is a fraction between 0 and 1. Maximize the following expression\n",
      "$$ -\\xi \\ln \\xi$$"
     ]
    },
    {
     "cell_type": "markdown",
     "metadata": {},
     "source": [
      "####1.1 Solution:"
     ]
    },
    {
     "cell_type": "code",
     "collapsed": false,
     "input": [
      "from scipy.optimize import minimize\n",
      "x = minimize(lambda x: ((x - 4)**2 / 2) + ((x - 2)**2 / 4), x0 = 0)\n",
      "print x\n",
      "print 'The expression is minimized at {}' .format(x.x)"
     ],
     "language": "python",
     "metadata": {},
     "outputs": [
      {
       "output_type": "stream",
       "stream": "stdout",
       "text": [
        "   status: 0\n",
        "  success: True\n",
        "     njev: 3\n",
        "     nfev: 9\n",
        " hess_inv: array([[ 0.66666667]])\n",
        "      fun: 0.6666666666666666\n",
        "        x: array([ 3.33333333])\n",
        "  message: 'Optimization terminated successfully.'\n",
        "      jac: array([  1.49011612e-08])\n",
        "The expression is minimized at [ 3.33333333]\n"
       ]
      }
     ],
     "prompt_number": 2
    },
    {
     "cell_type": "markdown",
     "metadata": {},
     "source": [
      "####1.2 Solution:\n"
     ]
    },
    {
     "cell_type": "code",
     "collapsed": false,
     "input": [
      "y = minimize(lambda r: 4*(r**-12 - r**-6), x0 = 1)\n",
      "print y\n",
      "print 'The expression is minimized at {}' .format(y.x)"
     ],
     "language": "python",
     "metadata": {},
     "outputs": [
      {
       "output_type": "stream",
       "stream": "stdout",
       "text": [
        "   status: 0\n",
        "  success: True\n",
        "     njev: 24\n",
        "     nfev: 74\n",
        " hess_inv: array([[ 0.01750996]])\n",
        "      fun: -0.9999999999999982\n",
        "        x: array([ 1.12246204])\n",
        "  message: 'Optimization terminated successfully.'\n",
        "      jac: array([ -1.49011612e-08])\n",
        "The expression is minimized at [ 1.12246204]\n"
       ]
      }
     ],
     "prompt_number": 3
    },
    {
     "cell_type": "markdown",
     "metadata": {},
     "source": [
      "####1.4 Solution:"
     ]
    },
    {
     "cell_type": "code",
     "collapsed": false,
     "input": [
      "from math import log\n",
      "z = minimize(lambda x: x*log(x), x0 = 0.5)\n",
      "print z\n",
      "print 'The expression is minimized at {}' .format(z.x)"
     ],
     "language": "python",
     "metadata": {},
     "outputs": [
      {
       "output_type": "stream",
       "stream": "stdout",
       "text": [
        "   status: 0\n",
        "  success: True\n",
        "     njev: 6\n",
        "     nfev: 18\n",
        " hess_inv: array([[ 0.36735128]])\n",
        "      fun: -0.3678794411714423\n",
        "        x: array([ 0.36787945])\n",
        "  message: 'Optimization terminated successfully.'\n",
        "      jac: array([  3.35276127e-08])\n",
        "The expression is minimized at [ 0.36787945]\n"
       ]
      }
     ],
     "prompt_number": 4
    },
    {
     "cell_type": "markdown",
     "metadata": {},
     "source": [
      "2. Box Folding (5 Points)\n",
      "==="
     ]
    },
    {
     "cell_type": "markdown",
     "metadata": {},
     "source": [
      "Your primary grade teacher gives you a piece of cardboard that has dimensions: 4 cm by 3 cm. You are supposed to cut the corners as shown below and fold up the corners to make an open box. Determine the height of the box that gives a maximum volume. See the picture below of the box"
     ]
    },
    {
     "cell_type": "code",
     "collapsed": false,
     "input": [
      "from IPython.display import Image\n",
      "Image(url=\"data:image/png;base64,iVBORw0KGgoAAAANSUhEUgAAAQIAAADDCAMAAABeUu/HAAAAA3NCSVQICAjb4U/gAAAAflBMVEX/\\\n",
      "//9sbGylpaXW1tbZ2dmhoaEAAAD5+fn19fXk5OT8/PzQ0NDy8vLc3NzKysrs7Oy0tLS9vb2KiorF\\\n",
      "xcW4uLg9PT14eHiZmZmurq5UVFQ2NjYiIiJxcXEpKSlZWVmSkpJ/f39kZGQwMDAcHBxYWFhISEhL\\\n",
      "S0t8fHxBQUETExNOLLFOAAAACXBIWXMAAA+IAAAPiAEWyKWGAAAF80lEQVR4nO2di3ajKhSG/0SD\\\n",
      "4o0Y02jubabttO//ggd6mZ5LdTwwIOr+V1aWWUZLv2xgw4YtQCJ5qOT+aegiDK2QzR1Bsru+DF2G\\\n",
      "gbXY1ndDl2FYBQzXmSO4r2aP4CWaO4L9Ig93hzAauhwDas/elA9djgEVRRE2864ISjNvC5Tq/dAl\\\n",
      "IJFIJBKJRCKRSCRSp6Jg0uozOxNelhNWc+iDYGlqR17r1OM74Urv3pXbOVCuOd+46PEdXQQ80btO\\\n",
      "U1mmd51NBCORTQSrWO86TaWF3nVkBYSAKgLICmAXgWYnpatI0w2xiWDt1jXKA73rqCJYRRC4tQLB\\\n",
      "9a6zisCtgyyE3nVUEawiaNxWhNDD5tCtZ+RlpzgSkYNMVkAIYBfB8qMiVIU00bJK9e7SpbyqMgRV\\\n",
      "+eaABJp/wIUV1KwCNiw0u8t34myRyLed0U2cTJ9ezzHsrCfNWInF9ePYQ++w+Oyoc7ZsNP2W3yhZ\\\n",
      "MFF/HHMPxwhf4vLHsqR9n0hIp2wi+AqlrB7PdqwA/Hz6ZOBjKEV8tgXNAQ922oKYFSn7bAs8DqUk\\\n",
      "e8nisjG7yfday4agOpjN0LlwkJ+YtNUDq7u/raMte+VYsh9vNY4cZG0RAhopkhVgWqEUTaOziWBL\\\n",
      "oZSRyCaC1PFaIw+HSSGFUkaiCYVSfJw4c7z1OtGsd1QRyEEmK4BdBG77RG25CKU4ko89wkhkE0Hu\\\n",
      "eCW6h95hQWOEkcgmgtLxfIFm3NZJKMWNYo9DKZ6rJ4IyxxXYIF4pP7QR8lC++BpViDqRh1GNoMKa\\\n",
      "v58QDYqUHOTRiBBMCUFaRAIiRi47ByRcuUo8ev8UyxPZdycijvixx71HgkB2QQECgVJ2x4gK5SoV\\\n",
      "8funLEAoUKnDpFILEdLs40QK3ifLaCuChEu2kXobs4w27GYvLIU42FhL5lBmbUFyWCJkmsMTX2TY\\\n",
      "HNYsX2mOTryRaY9wfRq5DZgj2Oyfx56m1BDB9Qls7PkZzRBEzyqDue+NQRzmAlketvTdRgiyO1ap\\\n",
      "TtHSsso/JVlCDn48tvxURggSoVwjIRxvQvr/Yg2qY9vJCY0ROrRhom51YeeBQHZc7U78TBAsHi6t\\\n",
      "s3jzQPBwilnrmHgWCMRFPXahzY2dAwL+ygqJoG07wBwQJCrVvHxraQ3mgOA3Wqhcfsfu6bPpI9jd\\\n",
      "1+yxa+5r8ghUKr+w082fPII8BaofXRMfk0cARaBzoDMDBPzSvet3BgjUTq8uBrNAgIZ1fGceCNaz\\\n",
      "RpCopnDVta168ghSVqGZd6cYLdil6oyHTB7B70UICAEhACEAIcD4EYjVMkC+bFsIMQcEyekcI757\\\n",
      "aFkFMAcEAFugubSdnAeCLeMbO9EkwdgaOVMpzDxXw9onhcysQNwK8FcLKez+sKLb6mgrsrxjeeO/\\\n",
      "DeC8xY/W6QDTtuC0898GUOzVUpO2n8oUQcOsZK36o8oPhxLF3a0lUGCIYH1MDBMuDi9DBPuoe9px\\\n",
      "DDJCEKn8dfHe+1V33TJDUBU5RFXMGME0RAj6IhARpLVzJELtiPz8FAlk8fuhfP3nhOOtmlmm/mLP\\\n",
      "gv3tRE8EqcBWdoGy9qudPVUmD+UrKxBwlIk8TErwAMXXiZAP8Bi5z4KJ9B8FC/9VsDJSn7ZqL5P8\\\n",
      "x6gi0Ob9aT1M0MMUDiMRpXMhKyAEoARfICsAPTcJk0r56OPTs0YiepIePU+RKgLo2aqYVlp4DzvF\\\n",
      "kYgcZLICQgCqCCArwLSmTz3Meuk+lKIlFxVhf/uJ5Pls4QFi69sTx+p2Z8TahRXEL1tg96B3k27V\\\n",
      "lwTBx/oGH63gV1tQszJqXfxppIw94+FjkOxjW/ClzclCLXhTeGxMF3i48QsiZvz4zzZdfiXo8Nov\\\n",
      "EKx4blsHbqj7S2q61MkJgusalZ0sYNke2YthQ+uiIpQqM2jNLEwfxOd7ZWPv5fO5IqyWDZJ6uTW7\\\n",
      "y3cqViuBcll76xdQKMX13CGFUrQ1pVCKh3EEQjAWUXNInSJVBNAMMsgKQAhAFQFkBaBQCiiUAqoI\\\n",
      "ICsAtQXoiWCpd++RqE+IIz+cFtPV6fYXvytASAA4qaEAAAAASUVORK5CYII=\")"
     ],
     "language": "python",
     "metadata": {},
     "outputs": [
      {
       "html": [
        "<img src=\"data:image/png;base64,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\"/>"
       ],
       "metadata": {},
       "output_type": "pyout",
       "prompt_number": 5,
       "text": [
        "<IPython.core.display.Image at 0x18651be0>"
       ]
      }
     ],
     "prompt_number": 5
    },
    {
     "cell_type": "markdown",
     "metadata": {},
     "source": [
      "####2 Solution: "
     ]
    },
    {
     "cell_type": "code",
     "collapsed": false,
     "input": [
      "V  = minimize(lambda x: -(4-2*x)*(3-2*x)*x, x0 = 1) \n",
      "print V\n",
      "print 'The height that gives the max volume is {} cm.' .format(V.x)"
     ],
     "language": "python",
     "metadata": {},
     "outputs": [
      {
       "output_type": "stream",
       "stream": "stdout",
       "text": [
        "   status: 0\n",
        "  success: True\n",
        "     njev: 8\n",
        "     nfev: 24\n",
        " hess_inv: array([[ 0.06919253]])\n",
        "      fun: -3.032302465964112\n",
        "        x: array([ 0.56574152])\n",
        "  message: 'Optimization terminated successfully.'\n",
        "      jac: array([  1.07288361e-06])\n",
        "The height that gives the max volume is [ 0.56574152] cm.\n"
       ]
      }
     ],
     "prompt_number": 6
    },
    {
     "cell_type": "markdown",
     "metadata": {},
     "source": [
      "3. Fitting a Line (3 Points)\n",
      "====\n",
      "Find a best fit line to the data below and plot the data along with the best fit line."
     ]
    },
    {
     "cell_type": "code",
     "collapsed": false,
     "input": [
      "data_3_x = [0.0, 0.1,  0.2,  0.3,  0.4,  0.5,  0.6,  0.7,  0.8,  0.9,  1.0,  1.1,  1.2,  1.3,  1.4,  1.5,  1.6,  1.7,  1.8,  1.9,  2.0,  2.1,  2.2,  2.3,  2.4,  2.5,  2.6,  2.7,  2.8,  2.9,  3.0,  3.1,  3.2,  3.3,  3.4,  3.5,  3.6,  3.7,  3.8,  3.9,  4.0,  4.1,  4.2,  4.3,  4.4,  4.5,  4.6,  4.7,  4.8,  4.9,  5.0,  5.1,  5.2,  5.3,  5.4,  5.5,  5.6,  5.7,  5.8,  5.9,  6.0,  6.1,  6.2,  6.3,  6.4,  6.5,  6.6,  6.7,  6.8,  6.9,  7.0,  7.1,  7.2,  7.3,  7.4,  7.5,  7.6,  7.7,  7.8,  7.9,  8.0,  8.1,  8.2,  8.3,  8.4,  8.5,  8.6,  8.7,  8.8,  8.9,  9.0,  9.1,  9.2,  9.3,  9.4,  9.5,  9.6,  9.7,  9.8,  9.9]\n",
      "data_3_y = [0.05, 0.45,  0.18,  -0.15,  -0.14,  -0.38,  -0.88,  -0.42,  -0.99,  -0.92,  -1.53,  -1.94,  -1.75,  -2.37,  -2.09,  -2.99,  -3.04,  -2.85,  -2.66,  -3.03,  -3.39,  -3.36,  -3.7,  -4.41,  -4.7,  -4.51,  -4.29,  -5.39,  -4.81,  -5.63,  -5.01,  -5.79,  -6.03,  -6.04,  -6.35,  -6.82,  -6.48,  -6.6,  -6.69,  -7.05,  -7.4,  -8.07,  -7.81,  -7.97,  -8.08,  -8.29,  -8.99,  -9.17,  -9.38,  -9.1,  -9.62,  -9.85,  -9.99,  -9.64,  -10.78,  -10.76,  -10.84,  -11.1,  -11.03,  -11.48,  -11.47,  -11.4,  -11.58,  -11.77,  -11.97,  -12.1,  -12.65,  -12.52,  -12.79,  -13.21,  -13.24,  -13.85,  -13.5,  -13.9,  -14.66,  -14.44,  -14.65,  -14.72,  -14.7,  -14.87,  -15.47,  -15.21,  -15.82,  -16.37,  -16.42,  -16.67,  -16.52,  -16.62,  -17.39,  -16.94,  -17.48,  -18.17,  -18.31,  -17.75,  -17.86,  -18.6,  -18.43,  -19.04,  -19.1,  -18.83]"
     ],
     "language": "python",
     "metadata": {},
     "outputs": [],
     "prompt_number": 7
    },
    {
     "cell_type": "markdown",
     "metadata": {},
     "source": [
      "####3 Solution:"
     ]
    },
    {
     "cell_type": "code",
     "collapsed": false,
     "input": [
      "%matplotlib inline\n",
      "import matplotlib.pyplot as plt\n",
      "import seaborn\n",
      "import numpy as np\n",
      "seaborn.set_context(\"poster\")\n",
      "\n",
      "def fit(yhat):\n",
      "    '''This is the penalty function that describes how well the line fits'''\n",
      "    fit = np.sum( (data_3_y - yhat) ** 2)\n",
      "    return fit\n",
      "\n",
      "def model(slope):\n",
      "    '''This is how a line is modeled given the slope'''\n",
      "    yhat = slope * data_3_x\n",
      "    return yhat\n",
      "\n",
      "def obj_fxn(m):\n",
      "    '''This is the objective function to minimize'''\n",
      "    yhat = model(m)\n",
      "    return fit(yhat)\n",
      "\n",
      "result = minimize(obj_fxn, x0=100)\n",
      "print result\n",
      "\n",
      "plt.plot(data_3_x,data_3_y, 'ro')\n",
      "plt.plot(data_3_x, result.x * data_3_x, 'g-')\n",
      "plt.show()"
     ],
     "language": "python",
     "metadata": {},
     "outputs": [
      {
       "output_type": "stream",
       "stream": "stdout",
       "text": [
        "   status: 0\n",
        "  success: True\n",
        "     njev: 5\n",
        "     nfev: 15\n",
        " hess_inv: array([[ 0.00015228]])\n",
        "      fun: 13.891886779046933\n",
        "        x: array([-1.9143539])\n",
        "  message: 'Optimization terminated successfully.'\n",
        "      jac: array([  1.19209290e-07])\n"
       ]
      },
      {
       "metadata": {},
       "output_type": "display_data",
       "png": "[encoded data removed]",
       "text": [
        "<matplotlib.figure.Figure at 0x18651780>"
       ]
      }
     ],
     "prompt_number": 8
    },
    {
     "cell_type": "markdown",
     "metadata": {},
     "source": [
      "4. Fitting a Binomial Distribution to Data (2 Points)\n",
      "====\n",
      "\n",
      "In the following cell there is a function which takes in data, a known trial number, and a proposed success probability. It then returns how well the binomial distribution fits the data. Complete the program so that it finds the optimal success probability"
     ]
    },
    {
     "cell_type": "code",
     "collapsed": false,
     "input": [
      "from scipy.misc import comb\n",
      "import numpy as np\n",
      "\n",
      "bin_data = [4, 3,  6,  1,  2,  1,  1,  1,  3,  0,  4,  2,  4,  2,  2,  3,  2,  4,  4,  3]\n",
      "N = 20\n",
      "\n",
      "\n",
      "def bin_fit(p, data, N):\n",
      "    fit = 0\n",
      "    for di in data:\n",
      "        fit += np.log( comb(N, di) * (1 - p)**(N - di) * p**di )\n",
      "    return fit\n",
      "\n",
      "x = minimize(lambda x: -bin_fit(x, bin_data,N), x0 = 0.5, bounds = [(0.01, 0.99)])\n",
      "print x\n",
      "print 'The optimal success probability is {}' .format(x.x)\n",
      "#Example of how to use\n",
      "#print bin_fit(0.8, bin_data, N)"
     ],
     "language": "python",
     "metadata": {},
     "outputs": [
      {
       "output_type": "stream",
       "stream": "stdout",
       "text": [
        "  status: 0\n",
        " success: True\n",
        "    nfev: 18\n",
        "     fun: array([ 35.18784221])\n",
        "       x: array([ 0.13])\n",
        " message: 'CONVERGENCE: NORM_OF_PROJECTED_GRADIENT_<=_PGTOL'\n",
        "     jac: array([ 0.])\n",
        "     nit: 6\n",
        "The optimal success probability is [ 0.13]\n"
       ]
      }
     ],
     "prompt_number": 9
    },
    {
     "cell_type": "markdown",
     "metadata": {},
     "source": [
      "5. Solution Reaction (5 Points)\n",
      "====\n",
      "\n",
      "The follow reaction occurs in water and is highly exothermic ($\\Delta$H = $863.9$ BTU / lb-mol):\n",
      "\n",
      "$$\\textrm{AB}\\rightarrow \\textrm{A}^+ + \\textrm{B}^-$$\n",
      "\n",
      "Its equilibrium constant has been shown to fit the following empirical relationship from 400 $^\\circ{}$ R to 800 $^\\circ{}$ R:\n",
      "\n",
      "$$ k = Ae^{\\frac{-B}{RT}} + C(\\frac{B}{RT} - 0.5)^2 $$\n",
      "where $A = 10^{1} $ lb-mol / gal, $B = 500$ BTU, $C = 10^{-3}$ lb-mol / gal, $T$ is temperature and $R$ is the universal gas constant.\n",
      "\n",
      "I add 1.5 lb-mol of AB to a 25.0 gal tank of water which is at 510.0 $^\\circ{}$R. Assume that the heat capacity of the tank is well-apprximated by that of water, 17.89 BTU / (lb-mol $^\\circ{}$ R) and that all reaction enthalpy goes to heating the solution. How much AB remains in lb-mol and what is the final temperature of the solution?"
     ]
    },
    {
     "cell_type": "markdown",
     "metadata": {},
     "source": [
      "####5 Solution:"
     ]
    },
    {
     "cell_type": "code",
     "collapsed": false,
     "input": [
      "from math import exp\n",
      "from scipy.optimize import brentq\n",
      "A = 10.\n",
      "B = 500.\n",
      "C = 0.001 \n",
      "R = 1.986\n",
      "m = 1.5\n",
      "V = 25\n",
      "t = 510\n",
      "delt_H = 863.9\n",
      "C = 17.89\n",
      "m_water = 25 * 6.543\n",
      "mw_water = 0.0397\n",
      "\n",
      "def T(x):\n",
      "    return t + ((delt_H * x) / (C * m_water * mw_water))\n",
      "\n",
      "def K(x):\n",
      "    return A*exp(-B / R*T(x)) + C*(B / (R*T(x)) - 0.5)**2\n",
      "    \n",
      "def Q(x): \n",
      "    return (x**2 / (1.5 - x)) * (1. / 25)\n",
      "def obj(x): \n",
      "    return Q(x) - K(x)\n",
      "\n",
      "concentration_of_products = brentq(obj, a = 10.**(-10), b = 1.5-10**(-9))\n",
      "#print '{:.1%}' .format(concentration_of_products) #Extent of Reaction\n",
      "print 'The amount of AB left is {:.3} lb-mol' .format(1.5 - concentration_of_products)\n",
      "\n",
      "print 'The final temperature of the solution is {:.1f} degrees R.' .format(t + delt_H * concentration_of_products / C * m_water * mw_water)"
     ],
     "language": "python",
     "metadata": {},
     "outputs": [
      {
       "output_type": "stream",
       "stream": "stdout",
       "text": [
        "The amount of AB left is 1.31 lb-mol\n",
        "The final temperature of the solution is 568.4 degrees R.\n"
       ]
      }
     ],
     "prompt_number": 10
    },
    {
     "cell_type": "markdown",
     "metadata": {},
     "source": [
      "6. 2D Minimization (5 Points) (Non Convex Optimization)\n",
      "===\n",
      "\n",
      "Subject to the constraint that $x$ and $y$ have opposite signs, find the $x$ and $y$ that minimize the following expression:\n",
      "\n",
      "$$f(x,y) = \\cos(x + 1)\\sin y + (x + 2)^2$$\n",
      "\n",
      "where $x$ and $y$ are both between $-2\\pi$ and $2\\pi$. *Hint: The minimum function value is about -0.7*"
     ]
    },
    {
     "cell_type": "markdown",
     "metadata": {},
     "source": [
      "####6 Solution:"
     ]
    },
    {
     "cell_type": "code",
     "collapsed": false,
     "input": [
      "from math import sin, cos\n",
      "from scipy.optimize import basinhopping\n",
      "def non_convex(x):\n",
      "    return cos(x[0] +1)*sin(x[1]) + (x[0] + 2)**2\n",
      "\n",
      "def constraints(s):\n",
      "    x = s[0]\n",
      "    y = s[1]\n",
      "    f = x * y\n",
      "    if f > 0:\n",
      "        return -10\n",
      "    else:\n",
      "        return 10\n",
      "     \n",
      "\n",
      "my_constraints = {'type': 'ineq', 'fun': constraints}  \n",
      "minimizer_args = {'constraints': my_constraints}\n",
      "\n",
      "mini = basinhopping(non_convex,x0=[0,0],niter = 1000, minimizer_kwargs = minimizer_args)\n",
      "print mini\n",
      "print 'The value of x is {} and the value of y is {} that minimize the expression.' .format(mini.x[0], mini.x[1])"
     ],
     "language": "python",
     "metadata": {},
     "outputs": [
      {
       "output_type": "stream",
       "stream": "stdout",
       "text": [
        "                  nfev: 28612\n",
        " minimization_failures: 0\n",
        "                   fun: -0.67519533465294301\n",
        "                     x: array([-1.68403665, -1.57079632])\n",
        "               message: ['requested number of basinhopping iterations completed successfully']\n",
        "                  njev: 6680\n",
        "                   nit: 1000\n",
        "The value of x is -1.68403665484 and the value of y is -1.57079632319 that minimize the expression.\n"
       ]
      }
     ],
     "prompt_number": 11
    },
    {
     "cell_type": "markdown",
     "metadata": {},
     "source": [
      "7. Sample Covariance (3 Points)\n",
      "===\n",
      "\n",
      "Use the data from Question 3. Compute its sample covariance and sample correlation using `numpy`. Compare its covariance and correlation with your answer from problem 3."
     ]
    },
    {
     "cell_type": "code",
     "collapsed": false,
     "input": [
      "data_3_x = [0.0, 0.1,  0.2,  0.3,  0.4,  0.5,  0.6,  0.7,  0.8,  0.9,  1.0,  1.1,  1.2,  1.3,  1.4,  1.5,  1.6,  1.7,  1.8,  1.9,  2.0,  2.1,  2.2,  2.3,  2.4,  2.5,  2.6,  2.7,  2.8,  2.9,  3.0,  3.1,  3.2,  3.3,  3.4,  3.5,  3.6,  3.7,  3.8,  3.9,  4.0,  4.1,  4.2,  4.3,  4.4,  4.5,  4.6,  4.7,  4.8,  4.9,  5.0,  5.1,  5.2,  5.3,  5.4,  5.5,  5.6,  5.7,  5.8,  5.9,  6.0,  6.1,  6.2,  6.3,  6.4,  6.5,  6.6,  6.7,  6.8,  6.9,  7.0,  7.1,  7.2,  7.3,  7.4,  7.5,  7.6,  7.7,  7.8,  7.9,  8.0,  8.1,  8.2,  8.3,  8.4,  8.5,  8.6,  8.7,  8.8,  8.9,  9.0,  9.1,  9.2,  9.3,  9.4,  9.5,  9.6,  9.7,  9.8,  9.9]\n",
      "data_3_y = [0.05, 0.45,  0.18,  -0.15,  -0.14,  -0.38,  -0.88,  -0.42,  -0.99,  -0.92,  -1.53,  -1.94,  -1.75,  -2.37,  -2.09,  -2.99,  -3.04,  -2.85,  -2.66,  -3.03,  -3.39,  -3.36,  -3.7,  -4.41,  -4.7,  -4.51,  -4.29,  -5.39,  -4.81,  -5.63,  -5.01,  -5.79,  -6.03,  -6.04,  -6.35,  -6.82,  -6.48,  -6.6,  -6.69,  -7.05,  -7.4,  -8.07,  -7.81,  -7.97,  -8.08,  -8.29,  -8.99,  -9.17,  -9.38,  -9.1,  -9.62,  -9.85,  -9.99,  -9.64,  -10.78,  -10.76,  -10.84,  -11.1,  -11.03,  -11.48,  -11.47,  -11.4,  -11.58,  -11.77,  -11.97,  -12.1,  -12.65,  -12.52,  -12.79,  -13.21,  -13.24,  -13.85,  -13.5,  -13.9,  -14.66,  -14.44,  -14.65,  -14.72,  -14.7,  -14.87,  -15.47,  -15.21,  -15.82,  -16.37,  -16.42,  -16.67,  -16.52,  -16.62,  -17.39,  -16.94,  -17.48,  -18.17,  -18.31,  -17.75,  -17.86,  -18.6,  -18.43,  -19.04,  -19.1,  -18.83]"
     ],
     "language": "python",
     "metadata": {},
     "outputs": [],
     "prompt_number": 12
    },
    {
     "cell_type": "markdown",
     "metadata": {},
     "source": [
      "####7 Solution:"
     ]
    },
    {
     "cell_type": "code",
     "collapsed": false,
     "input": [
      "covariance = np.cov(data_3_x, data_3_y, ddof = 1)\n",
      "print 'Covariance: {}' .format(covariance)\n",
      "\n",
      "correlation = np.corrcoef(data_3_x,data_3_y,ddof=1)\n",
      "print 'Correlation: {}' .format(correlation)"
     ],
     "language": "python",
     "metadata": {},
     "outputs": [
      {
       "output_type": "stream",
       "stream": "stdout",
       "text": [
        "Covariance: [[  8.41666667 -16.75073737]\n",
        " [-16.75073737  33.41255499]]\n",
        "Correlation: [[ 1.         -0.99887012]\n",
        " [-0.99887012  1.        ]]\n"
       ]
      }
     ],
     "prompt_number": 13
    },
    {
     "cell_type": "markdown",
     "metadata": {},
     "source": [
      "The best fit line from problem three shows that the data has a strong negative correlation, which is consistant with a value of -0.99. The scatter plot from problem three shows that the data is rather concentrated (small variance) and has a negative relationship, so the slope is negative. This is consistant with a covariance of -16.7."
     ]
    },
    {
     "cell_type": "markdown",
     "metadata": {},
     "source": [
      "8. Functions of Distributions (1 Point)\n",
      "===\n",
      "\n",
      "The time between eruptions at a volcano is exponentially distributed with a rate of 1 eruption every 10 years. There is a nearby city. Each time the volcano erupts, everyone dies in the city except for 1 person. People gradually come back. If a volcano erupted at $t=0$, the population can be modeled by:\n",
      "$$N(t) = e^{0.9t}$$\n",
      "\n",
      "Write down $P(N)$ in markdown using equiations from Unit 8. You must only set-up the integral that finds $P(N)$. Do not evaluate the integral."
     ]
    },
    {
     "cell_type": "markdown",
     "metadata": {},
     "source": [
      "####8 Solution:"
     ]
    },
    {
     "cell_type": "markdown",
     "metadata": {},
     "source": [
      "$$P(N) = \\int_Q p(n | t)p(t)$$\n",
      "\n",
      "$$p(n| t = 0) = \\delta(e^{0.9t} - n)$$\n",
      "\n",
      "$$P(N) = \\int_0^{\\infty} \\delta(e^{0.9t} - n)p(t)\\,dt$$\n"
     ]
    },
    {
     "cell_type": "code",
     "collapsed": false,
     "input": [],
     "language": "python",
     "metadata": {},
     "outputs": []
    }
   ],
   "metadata": {}
  }
 ]
}