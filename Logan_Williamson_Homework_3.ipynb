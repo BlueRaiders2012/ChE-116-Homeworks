{
 "metadata": {
  "name": "",
  "signature": "sha256:0f155df4e0218123443bda5b4b242db58c2a7a8786fa65e6b6d8337735e47e0a"
 },
 "nbformat": 3,
 "nbformat_minor": 0,
 "worksheets": [
  {
   "cells": [
    {
     "cell_type": "markdown",
     "metadata": {},
     "source": [
      "#Logan Williamson"
     ]
    },
    {
     "cell_type": "markdown",
     "metadata": {},
     "source": [
      "###ChE 116 Homework 3"
     ]
    },
    {
     "cell_type": "markdown",
     "metadata": {},
     "source": [
      "#Identifying Distributions"
     ]
    },
    {
     "cell_type": "markdown",
     "metadata": {},
     "source": [
      "####Question 1.1"
     ]
    },
    {
     "cell_type": "markdown",
     "metadata": {},
     "source": [
      "Geometric Distribution - Discrete, [1, $\\infty$), the number of collisions until two molecules react."
     ]
    },
    {
     "cell_type": "markdown",
     "metadata": {},
     "source": [
      "####Question 1.2"
     ]
    },
    {
     "cell_type": "markdown",
     "metadata": {},
     "source": [
      "Poisson Distribution - Discrete, [0,$\\infty$), The number of alpha particles emitted by a film of polonium in over 2000 successive intervals. "
     ]
    },
    {
     "cell_type": "markdown",
     "metadata": {},
     "source": [
      "####Question 1.3"
     ]
    },
    {
     "cell_type": "markdown",
     "metadata": {},
     "source": [
      "Binomial Distribution - Discrete, [0,N], The number of times a drug cures a patient in N trials. "
     ]
    },
    {
     "cell_type": "markdown",
     "metadata": {},
     "source": [
      "####Question 1.4"
     ]
    },
    {
     "cell_type": "markdown",
     "metadata": {},
     "source": [
      "Exponential Distribution - Continuous, [0,$\\infty$), The time until radioactive carbon-14 reaches its half-life."
     ]
    },
    {
     "cell_type": "markdown",
     "metadata": {},
     "source": [
      "####Question 1.5"
     ]
    },
    {
     "cell_type": "markdown",
     "metadata": {},
     "source": [
      "Bernoulli Distribution - Discrete, [0,1], If a water molecule forms when hydrogen and oxygen molecules collide."
     ]
    },
    {
     "cell_type": "markdown",
     "metadata": {},
     "source": [
      "#Slicing Lists"
     ]
    },
    {
     "cell_type": "markdown",
     "metadata": {},
     "source": [
      "###NOTE: Spaces are counted as characters in the answers below"
     ]
    },
    {
     "cell_type": "markdown",
     "metadata": {},
     "source": [
      "####Question 2.1"
     ]
    },
    {
     "cell_type": "code",
     "collapsed": false,
     "input": [
      "string = 'The quick brown fox jumps over the lazy dog'\n",
      "print string [0]"
     ],
     "language": "python",
     "metadata": {},
     "outputs": [
      {
       "output_type": "stream",
       "stream": "stdout",
       "text": [
        "T\n"
       ]
      }
     ],
     "prompt_number": 38
    },
    {
     "cell_type": "markdown",
     "metadata": {},
     "source": [
      "####Question 2.2"
     ]
    },
    {
     "cell_type": "code",
     "collapsed": false,
     "input": [
      "print string [:-1]"
     ],
     "language": "python",
     "metadata": {},
     "outputs": [
      {
       "output_type": "stream",
       "stream": "stdout",
       "text": [
        "The quick brown fox jumps over the lazy do\n"
       ]
      }
     ],
     "prompt_number": 39
    },
    {
     "cell_type": "markdown",
     "metadata": {},
     "source": [
      "####Question 2.3"
     ]
    },
    {
     "cell_type": "code",
     "collapsed": false,
     "input": [
      "print string [:5]"
     ],
     "language": "python",
     "metadata": {},
     "outputs": [
      {
       "output_type": "stream",
       "stream": "stdout",
       "text": [
        "The q\n"
       ]
      }
     ],
     "prompt_number": 40
    },
    {
     "cell_type": "markdown",
     "metadata": {},
     "source": [
      "####Question 2.4"
     ]
    },
    {
     "cell_type": "code",
     "collapsed": false,
     "input": [
      "print string [:19]"
     ],
     "language": "python",
     "metadata": {},
     "outputs": [
      {
       "output_type": "stream",
       "stream": "stdout",
       "text": [
        "The quick brown fox\n"
       ]
      }
     ],
     "prompt_number": 41
    },
    {
     "cell_type": "markdown",
     "metadata": {},
     "source": [
      "####Question 2.5"
     ]
    },
    {
     "cell_type": "code",
     "collapsed": false,
     "input": [
      "print string [20:]"
     ],
     "language": "python",
     "metadata": {},
     "outputs": [
      {
       "output_type": "stream",
       "stream": "stdout",
       "text": [
        "jumps over the lazy dog\n"
       ]
      }
     ],
     "prompt_number": 42
    },
    {
     "cell_type": "markdown",
     "metadata": {},
     "source": [
      "####Question 2.6"
     ]
    },
    {
     "cell_type": "code",
     "collapsed": false,
     "input": [
      "print string [3::3]"
     ],
     "language": "python",
     "metadata": {},
     "outputs": [
      {
       "output_type": "stream",
       "stream": "stdout",
       "text": [
        " i o xusv ea g\n"
       ]
      }
     ],
     "prompt_number": 193
    },
    {
     "cell_type": "markdown",
     "metadata": {},
     "source": [
      "#Numpy Arrays and Arithmetic"
     ]
    },
    {
     "cell_type": "markdown",
     "metadata": {},
     "source": [
      "####Question 3.1"
     ]
    },
    {
     "cell_type": "code",
     "collapsed": false,
     "input": [
      "import numpy as np\n",
      "\n",
      "x = np.arange(0,30,0.02)\n",
      "print x"
     ],
     "language": "python",
     "metadata": {},
     "outputs": [
      {
       "output_type": "stream",
       "stream": "stdout",
       "text": [
        "[  0.00000000e+00   2.00000000e-02   4.00000000e-02 ...,   2.99400000e+01\n",
        "   2.99600000e+01   2.99800000e+01]\n"
       ]
      }
     ],
     "prompt_number": 135
    },
    {
     "cell_type": "markdown",
     "metadata": {},
     "source": [
      "####Question 3.2"
     ]
    },
    {
     "cell_type": "code",
     "collapsed": false,
     "input": [
      "xsum = 0\n",
      "for element in x:\n",
      "    xsum += element\n",
      "print 'Sum: {}' .format(xsum)\n",
      "\n",
      "#Now to Check this using the numpy sum function\n",
      "print 'Checked Sum: {}'  .format(np.sum(x))"
     ],
     "language": "python",
     "metadata": {},
     "outputs": [
      {
       "output_type": "stream",
       "stream": "stdout",
       "text": [
        "Sum: 22485.0\n",
        "Checked Sum: 22485.0\n"
       ]
      }
     ],
     "prompt_number": 109
    },
    {
     "cell_type": "markdown",
     "metadata": {},
     "source": [
      "####Question 3.3"
     ]
    },
    {
     "cell_type": "code",
     "collapsed": false,
     "input": [
      "from math import exp\n",
      "_lambda = 3\n",
      "exponential = _lambda*np.exp(-_lambda*x)\n",
      "print exponential"
     ],
     "language": "python",
     "metadata": {},
     "outputs": [
      {
       "output_type": "stream",
       "stream": "stdout",
       "text": [
        "[  3.00000000e+00   2.22245466e+00   1.64643491e+00   1.21970898e+00\n",
        "   9.03582636e-01   6.69390480e-01   4.95896665e-01   3.67369285e-01\n",
        "   2.72153860e-01   2.01616538e-01   1.49361205e-01   1.10649502e-01\n",
        "   8.19711673e-02   6.07257343e-02   4.49867305e-02   3.33269896e-02\n",
        "   2.46892411e-02   1.82902397e-02   1.35497428e-02   1.00378964e-02\n",
        "   7.43625653e-03   5.50891433e-03   4.08110411e-03   3.02335629e-03\n",
        "   2.23975743e-03   1.65925311e-03   1.22920494e-03   9.10617414e-04\n",
        "   6.74601973e-04   4.99757433e-04   3.70229412e-04   2.74272694e-04\n",
        "   2.03186209e-04   1.50524046e-04   1.11510956e-04   8.26093480e-05\n",
        "   6.11985102e-05   4.53369715e-05   3.35864545e-05   2.48814575e-05]\n"
       ]
      }
     ],
     "prompt_number": 129
    },
    {
     "cell_type": "markdown",
     "metadata": {},
     "source": [
      "####Question 3.4"
     ]
    },
    {
     "cell_type": "code",
     "collapsed": false,
     "input": [
      "x = np.arange(0,30,0.02)\n",
      "delta_x = 0.02\n",
      "\n",
      "expected_value = 0\n",
      "\n",
      "for elements in x:\n",
      "    expected_value += elements * _lambda*np.exp(-elements*_lambda) * delta_x\n",
      "print 'Expected Value: {}' .format(expected_value)\n",
      "    \n",
      "    "
     ],
     "language": "python",
     "metadata": {},
     "outputs": [
      {
       "output_type": "stream",
       "stream": "stdout",
       "text": [
        "Expected Value: 0.333233351331\n"
       ]
      }
     ],
     "prompt_number": 139
    },
    {
     "cell_type": "markdown",
     "metadata": {},
     "source": [
      "####Question 3.5"
     ]
    },
    {
     "cell_type": "code",
     "collapsed": false,
     "input": [
      "print 'Checked Expected Value: {}' .format(np.sum(exponential*x*delta_x))"
     ],
     "language": "python",
     "metadata": {},
     "outputs": [
      {
       "output_type": "stream",
       "stream": "stdout",
       "text": [
        "Checked Expected Value: 0.333233351331\n"
       ]
      }
     ],
     "prompt_number": 112
    },
    {
     "cell_type": "markdown",
     "metadata": {},
     "source": [
      "####Question 3.6"
     ]
    },
    {
     "cell_type": "code",
     "collapsed": false,
     "input": [
      "from math import fabs\n",
      "x= np.arange(2,13)\n",
      "p = (6 - np.fabs(x - 7)) / 36\n",
      "\n",
      "expected_value = 0\n",
      "for sums in x:\n",
      "    expected_value += sums * (6 - np.fabs(sums - 7)) / 36\n",
      "print 'Expected Value of Sum of Dice: {}' .format(expected_value)\n",
      "\n",
      "squared_expected_value = 0\n",
      "for sums in x:\n",
      "    squared_expected_value += sums**2 * (6 - np.fabs(sums - 7)) / 36\n",
      "\n",
      "\n",
      "var = squared_expected_value - expected_value**2\n",
      "\n",
      "print 'Variance of Sum of Dice: {}' .format(var)\n"
     ],
     "language": "python",
     "metadata": {},
     "outputs": [
      {
       "output_type": "stream",
       "stream": "stdout",
       "text": [
        "Expected Value of Sum of Dice: 7.0\n",
        "Variance of Sum of Dice: 5.83333333333\n"
       ]
      }
     ],
     "prompt_number": 194
    },
    {
     "cell_type": "markdown",
     "metadata": {},
     "source": [
      "#Plotting"
     ]
    },
    {
     "cell_type": "markdown",
     "metadata": {},
     "source": [
      "####Question 4.1"
     ]
    },
    {
     "cell_type": "code",
     "collapsed": false,
     "input": [
      "#Exponential Distribution\n",
      "%matplotlib inline\n",
      "import matplotlib.pyplot as plt\n",
      "import seaborn\n",
      "\n",
      "\n",
      "x = np.arange(0,2*lambda_,0.1)\n",
      "lambda_ = 2\n",
      "exponential_ = lambda_*np.exp(-lambda_*x)\n",
      "print exponential_\n",
      "seaborn.set_context('talk')\n",
      "plt.plot(x, exponential_,'g-')\n",
      "plt.show()"
     ],
     "language": "python",
     "metadata": {},
     "outputs": [
      {
       "output_type": "stream",
       "stream": "stdout",
       "text": [
        "[  2.00000000e+00   1.63746151e+00   1.34064009e+00   1.09762327e+00\n",
        "   8.98657928e-01   7.35758882e-01   6.02388424e-01   4.93193928e-01\n",
        "   4.03793036e-01   3.30597776e-01   2.70670566e-01   2.21606317e-01\n",
        "   1.81435907e-01   1.48547156e-01   1.21620125e-01   9.95741367e-02\n",
        "   8.15244080e-02   6.67465399e-02   5.46474449e-02   4.47415437e-02\n",
        "   3.66312778e-02   2.99911536e-02   2.45546798e-02   2.01036715e-02\n",
        "   1.64594941e-02   1.34758940e-02   1.10331288e-02   9.03316189e-03\n",
        "   7.39572743e-03   6.05510949e-03   4.95750435e-03   4.05886127e-03\n",
        "   3.32311455e-03   2.72073608e-03   2.22755030e-03   1.82376393e-03\n",
        "   1.49317162e-03   1.22250552e-03   1.00090287e-03   8.19469958e-04]\n"
       ]
      },
      {
       "metadata": {},
       "output_type": "display_data",
       "png": "[encoded data removed]",
       "text": [
        "<matplotlib.figure.Figure at 0x188c32b0>"
       ]
      }
     ],
     "prompt_number": 127
    },
    {
     "cell_type": "markdown",
     "metadata": {},
     "source": [
      "####Question 4.2"
     ]
    },
    {
     "cell_type": "code",
     "collapsed": false,
     "input": [
      "#Geometric Distribution\n",
      "x = np.arange(1,5,0.1)\n",
      "p = 0.2\n",
      "geometric = x * (1-p)**(x-1) * p \n",
      "print geometric\n",
      "seaborn.set_context('talk')\n",
      "plt.plot(x, geometric,'o')\n",
      "plt.show()"
     ],
     "language": "python",
     "metadata": {},
     "outputs": [
      {
       "output_type": "stream",
       "stream": "stdout",
       "text": [
        "[ 0.2         0.21514521  0.2295246   0.2431646   0.25609083  0.26832816\n",
        "  0.27990069  0.29083181  0.30114419  0.31085982  0.32        0.32858541\n",
        "  0.33663608  0.34417143  0.35121028  0.35777088  0.3638709   0.36952748\n",
        "  0.37475722  0.3795762   0.384       0.38804372  0.39172198  0.39504894\n",
        "  0.39803832  0.40070338  0.40305699  0.40511161  0.40687926  0.40837163\n",
        "  0.4096      0.41057529  0.41130808  0.4118086   0.41208673  0.41215205\n",
        "  0.41201382  0.41168098  0.4111622   0.41046584]\n"
       ]
      },
      {
       "metadata": {},
       "output_type": "display_data",
       "png": "[encoded data removed]",
       "text": [
        "<matplotlib.figure.Figure at 0x190200b8>"
       ]
      }
     ],
     "prompt_number": 119
    },
    {
     "cell_type": "markdown",
     "metadata": {},
     "source": [
      "The geometric distribution should be a point plot because it is discrete, rather than continuous. The sample space of a geometric distribution is [1,$\\infty$) so therefore zero is not included in the distribution.\n"
     ]
    },
    {
     "cell_type": "markdown",
     "metadata": {},
     "source": [
      "####Question 4.3"
     ]
    },
    {
     "cell_type": "code",
     "collapsed": false,
     "input": [
      "#Binomial Distribution\n",
      "from scipy.misc import comb\n",
      "n = np.arange(0,N,.3)\n",
      "N = 10\n",
      "p = 0.25\n",
      "binomial = comb(N,n) * p**n * (1 - p)**(N-n)\n",
      "seaborn.set_context('talk')\n",
      "plt.plot(n,binomial,'ro')\n",
      "plt.show()"
     ],
     "language": "python",
     "metadata": {},
     "outputs": [
      {
       "metadata": {},
       "output_type": "display_data",
       "png": "[encoded data removed]",
       "text": [
        "<matplotlib.figure.Figure at 0x190ace48>"
       ]
      }
     ],
     "prompt_number": 186
    },
    {
     "cell_type": "markdown",
     "metadata": {},
     "source": [
      "####Question 4.4"
     ]
    },
    {
     "cell_type": "code",
     "collapsed": false,
     "input": [
      "#Binomial Distribution\n",
      "n = np.arange(0,N,1)\n",
      "N = 150\n",
      "p = 0.5\n",
      "binomial = comb(N,n) * p**n * (1 - p)**(N-n)\n",
      "seaborn.set_context('talk')\n",
      "plt.plot(n,binomial,'ro')\n",
      "plt.show()"
     ],
     "language": "python",
     "metadata": {},
     "outputs": [
      {
       "metadata": {},
       "output_type": "display_data",
       "png": "[encoded data removed]",
       "text": [
        "<matplotlib.figure.Figure at 0x18bc20f0>"
       ]
      }
     ],
     "prompt_number": 199
    },
    {
     "cell_type": "markdown",
     "metadata": {},
     "source": [
      "From analysis of 4.3 and 4.4, it can be seen that as the number of trials (N) gets larger the shape of the binomial distributuion gets closer to the normal distribution, only it is discrete rather than continuous therefore it is a point plot."
     ]
    },
    {
     "cell_type": "code",
     "collapsed": false,
     "input": [],
     "language": "python",
     "metadata": {},
     "outputs": []
    }
   ],
   "metadata": {}
  }
 ]
}