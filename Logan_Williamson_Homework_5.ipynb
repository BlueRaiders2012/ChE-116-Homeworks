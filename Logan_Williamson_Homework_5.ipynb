{
 "metadata": {
  "name": "",
  "signature": "sha256:2ab6d7a8ff0cc63ba8a3e3813af34622564e1f13e38109f22c7b5e8f53f1bfc9"
 },
 "nbformat": 3,
 "nbformat_minor": 0,
 "worksheets": [
  {
   "cells": [
    {
     "cell_type": "markdown",
     "metadata": {},
     "source": [
      "#Logan Williamson\n",
      "##ChE 116 Homework 5"
     ]
    },
    {
     "cell_type": "markdown",
     "metadata": {},
     "source": [
      "#Warmup"
     ]
    },
    {
     "cell_type": "markdown",
     "metadata": {},
     "source": [
      "####Question 1.1"
     ]
    },
    {
     "cell_type": "code",
     "collapsed": false,
     "input": [
      "#sampling from the Bernoulli distribution\n",
      "import random #Imports the random number generator which allows python to draw random numbers between [0,1)\n",
      "\n",
      "p = 0.2 #Defines the variable p, the condition chosen for the for loop. This is also the theoretical probability of success.\n",
      "\n",
      "for i in range(10): #For loop which will iterate 10 random numbers all between 0 and 1\n",
      "    r = random.random() #Draws a random number from the random module\n",
      "    if r < p: #States first condition which says that if the random number picked is less than 0.2\n",
      "        print 'success!'#if the the random number is less than 0.2, the code will print 'success'\n",
      "    else: #States what to print if the first condition is not satisfied\n",
      "        print 'failure'#if the random number is greater than 0.2, the code will print 'failure'"
     ],
     "language": "python",
     "metadata": {},
     "outputs": [
      {
       "output_type": "stream",
       "stream": "stdout",
       "text": [
        "failure\n",
        "failure\n",
        "failure\n",
        "failure\n",
        "failure\n",
        "failure\n",
        "failure\n",
        "failure\n",
        "success!\n",
        "failure\n"
       ]
      }
     ],
     "prompt_number": 1
    },
    {
     "cell_type": "markdown",
     "metadata": {},
     "source": [
      "####Question 1.2"
     ]
    },
    {
     "cell_type": "code",
     "collapsed": false,
     "input": [
      "#generating samples from the Bernoulli distribution\n",
      "import random #imports the random number generator which will randomly select a value between [0,1)\n",
      "\n",
      "def sample_bernoulli(p): #Defines a function. P is the chosen parameter which will be inserted into the function\n",
      "    r = random.random() #Selects a random number between 0 and 1\n",
      "    if r < p: #States the condition to be satisfied pertaining to the random number\n",
      "        return 1 #Tells python what to print if the condition is satisfied\n",
      "    else: #States how python should react if the condition is not satisfied \n",
      "        return 0 #Tells python what to print if the condition is not satisfied\n",
      "\n",
      "samples = [] #Creates an empty list to be appeneded later\n",
      "N = 100 #States the number of elements to be in the list\n",
      "for i in range(N): #Starts a for loop for all the values in N\n",
      "    samples.append(sample_bernoulli(0.2)) #Appends the list created earlier to include the defined function with a p value of 0.2\n",
      "print samples #Prints the now filled list named samples"
     ],
     "language": "python",
     "metadata": {},
     "outputs": [
      {
       "output_type": "stream",
       "stream": "stdout",
       "text": [
        "[0, 0, 1, 0, 1, 0, 0, 1, 0, 0, 0, 0, 1, 1, 1, 0, 0, 1, 1, 0, 0, 0, 0, 0, 0, 1, 0, 0, 0, 0, 1, 0, 0, 1, 0, 0, 1, 0, 0, 1, 1, 1, 0, 0, 0, 0, 0, 0, 0, 1, 0, 0, 0, 1, 0, 0, 0, 0, 0, 0, 0, 0, 1, 1, 1, 0, 0, 0, 0, 0, 0, 0, 0, 0, 0, 0, 0, 0, 1, 0, 1, 1, 0, 0, 0, 0, 0, 0, 0, 1, 0, 0, 0, 0, 0, 0, 0, 0, 0, 0]\n"
       ]
      }
     ],
     "prompt_number": 2
    },
    {
     "cell_type": "markdown",
     "metadata": {},
     "source": [
      "####Question 1.3"
     ]
    },
    {
     "cell_type": "code",
     "collapsed": false,
     "input": [
      "%matplotlib inline\n",
      "import numpy as np\n",
      "import matplotlib.pyplot as plt\n",
      "import seaborn\n",
      "\n",
      "seaborn.set_context(\"talk\")\n",
      "import random #Imports the random number generator\n",
      "\n",
      "samples = [] #Creates an empty list named 'samples'\n",
      "p = 0.02 #Defines the variable p, which will be the probabilty of success\n",
      "for i in range(1000): #For loop which will iterate over the integers from 0 to 999\n",
      "    \n",
      "    r = random.random() #Chooses a random number between 0 and 1 (not including 1)      \n",
      "    relationships = 1 #Defines the variable 'relationships.' Notice it starts at 1 since this is a geometric distribution.\n",
      "    \n",
      "    while r > 0.02: #While loop with a condition (This while loop is inside the for loop)\n",
      "        r = random.random() #Chooses a random number between 0 and 1\n",
      "        relationships += 1 #Adds 1 again and again to the variable 'relationships' while the loop remains true\n",
      "        \n",
      "    samples.append(relationships) #Appends the list created earlier to include the 'relationship' values calculated in the while loop\n",
      "\n",
      "plt.hist(samples) #Tells python to plot a histogram including the list entitled 'samples'\n",
      "plt.show() #Shows the plot"
     ],
     "language": "python",
     "metadata": {},
     "outputs": [
      {
       "metadata": {},
       "output_type": "display_data",
       "png": "[encoded data removed]",
       "text": [
        "<matplotlib.figure.Figure at 0x4183f28>"
       ]
      }
     ],
     "prompt_number": 3
    },
    {
     "cell_type": "markdown",
     "metadata": {},
     "source": [
      "#Student Debt"
     ]
    },
    {
     "cell_type": "markdown",
     "metadata": {},
     "source": [
      "####Question 2.1"
     ]
    },
    {
     "cell_type": "markdown",
     "metadata": {},
     "source": [
      "$$P(x < 0) = \\frac{1}{2} * [1 + erf(\\frac{Z}{\\sqrt{2}})]$$"
     ]
    },
    {
     "cell_type": "code",
     "collapsed": false,
     "input": [
      "from math import erf, sqrt, pi\n",
      "\n",
      "x = 0\n",
      "mu = 29914.\n",
      "sigma = 20000.\n",
      "Z = (x - mu) / sigma\n",
      "\n",
      "\n",
      "P = 0.5 * (1 + erf(Z / sqrt(2)))\n",
      "print 'The probability you make money while attending UR is {}' .format(P)"
     ],
     "language": "python",
     "metadata": {},
     "outputs": [
      {
       "output_type": "stream",
       "stream": "stdout",
       "text": [
        "The probability you make money while attending UR is 0.0673659251587\n"
       ]
      }
     ],
     "prompt_number": 4
    },
    {
     "cell_type": "markdown",
     "metadata": {},
     "source": [
      "####Question 2.2"
     ]
    },
    {
     "cell_type": "markdown",
     "metadata": {},
     "source": [
      "$$P(x > 67890) = 1 - \\frac{1}{2} * [1 + erf(\\frac{Z}{\\sqrt{2}})]$$"
     ]
    },
    {
     "cell_type": "code",
     "collapsed": false,
     "input": [
      "x = 67890.\n",
      "mu = 29914.\n",
      "sigma = 20000.\n",
      "Z = (x - mu) / sigma\n",
      "\n",
      "P = 1 - (0.5 * (1 + erf(Z / sqrt(2))))\n",
      "print 'The probability your debt is greater than or equal to the cost of tuition is {}' .format(P)"
     ],
     "language": "python",
     "metadata": {},
     "outputs": [
      {
       "output_type": "stream",
       "stream": "stdout",
       "text": [
        "The probability your debt is greater than or equal to the cost of tuition is 0.0287953886055\n"
       ]
      }
     ],
     "prompt_number": 5
    },
    {
     "cell_type": "markdown",
     "metadata": {},
     "source": [
      "####Question 2.3"
     ]
    },
    {
     "cell_type": "markdown",
     "metadata": {},
     "source": [
      "$$P(0 < x < 50000) = \\frac{1}{2} * [erf(\\frac{Z_{hi}}{\\sqrt{2}}) - erf(\\frac{Z_{low}}{\\sqrt{2}})]$$"
     ]
    },
    {
     "cell_type": "code",
     "collapsed": false,
     "input": [
      "x_high = 50000.\n",
      "x_low = 0.\n",
      "mu = 29914.\n",
      "sigma = 20000.\n",
      "Z_hi = (x_high - mu) / sigma\n",
      "Z_low = (x_low - mu) / sigma\n",
      "\n",
      "\n",
      "P = 0.5 * (erf(Z_hi/sqrt(2)) - erf(Z_low/sqrt(2)))\n",
      "print 'The probability a students debt is between 0 and 50000 dollars is {}' .format(P)"
     ],
     "language": "python",
     "metadata": {},
     "outputs": [
      {
       "output_type": "stream",
       "stream": "stdout",
       "text": [
        "The probability a students debt is between 0 and 50000 dollars is 0.775017058013\n"
       ]
      }
     ],
     "prompt_number": 6
    },
    {
     "cell_type": "markdown",
     "metadata": {},
     "source": [
      "####Question 2.4"
     ]
    },
    {
     "cell_type": "markdown",
     "metadata": {},
     "source": [
      "$$Lim = 1.96\\sigma + \\mu$$\n",
      "$$Years = \\frac{Lim}{Salary * 0.3}$$\n",
      "$$Range = (0 < X < Years)$$"
     ]
    },
    {
     "cell_type": "code",
     "collapsed": false,
     "input": [
      "Z = 1.96\n",
      "mu = 29914.\n",
      "sigma = 20000.\n",
      "salary = 64000.\n",
      "\n",
      "upper_debt_limit = Z * sigma + mu\n",
      "lower_debt_limit = mu - Z * sigma\n",
      "print 'With a 5% confidence level the amount of time to pay off debt will be between {} and {:.2} years' .format(lower_debt_limit / (salary * 0.3) ,upper_debt_limit / (salary * 0.3))"
     ],
     "language": "python",
     "metadata": {},
     "outputs": [
      {
       "output_type": "stream",
       "stream": "stdout",
       "text": [
        "With a 5% confidence level the amount of time to pay off debt will be between -0.483645833333 and 3.6 years\n"
       ]
      }
     ],
     "prompt_number": 7
    },
    {
     "cell_type": "markdown",
     "metadata": {},
     "source": [
      "#The Student Debt Model"
     ]
    },
    {
     "cell_type": "markdown",
     "metadata": {},
     "source": [
      "####Question 3.1"
     ]
    },
    {
     "cell_type": "code",
     "collapsed": false,
     "input": [
      "Q = (0,50)\n",
      "print 'The sample space is {}' .format(Q)"
     ],
     "language": "python",
     "metadata": {},
     "outputs": [
      {
       "output_type": "stream",
       "stream": "stdout",
       "text": [
        "The sample space is (0, 50)\n"
       ]
      }
     ],
     "prompt_number": 8
    },
    {
     "cell_type": "markdown",
     "metadata": {},
     "source": [
      "####Question 3.2"
     ]
    },
    {
     "cell_type": "code",
     "collapsed": false,
     "input": [
      "#Defines All the Variables Below\n",
      "lifespan = np.arange(0,50)\n",
      "initial_salary = 64000\n",
      "yearly_salary_increase = 1.05\n",
      "payment_rate = 0.2\n",
      "\n",
      "\n",
      "salary = initial_salary\n",
      "#The next two lines calculate the first year payment\n",
      "first_year_payment = initial_salary * 0.2 \n",
      "print first_year_payment \n",
      "payment_on_debt = 0\n",
      "#The following for loop calculates the yearly payment from years 2 to 50\n",
      "for n in lifespan:\n",
      "    salary *= yearly_salary_increase \n",
      "    payment_on_debt = salary * payment_rate\n",
      "    print payment_on_debt"
     ],
     "language": "python",
     "metadata": {},
     "outputs": [
      {
       "output_type": "stream",
       "stream": "stdout",
       "text": [
        "12800.0\n",
        "13440.0\n",
        "14112.0\n",
        "14817.6\n",
        "15558.48\n",
        "16336.404\n",
        "17153.2242\n",
        "18010.88541\n",
        "18911.4296805\n",
        "19857.0011645\n",
        "20849.8512228\n",
        "21892.3437839\n",
        "22986.9609731\n",
        "24136.3090217\n",
        "25343.1244728\n",
        "26610.2806965\n",
        "27940.7947313\n",
        "29337.8344679\n",
        "30804.7261912\n",
        "32344.9625008\n",
        "33962.2106258\n",
        "35660.3211571\n",
        "37443.337215\n",
        "39315.5040757\n",
        "41281.2792795\n",
        "43345.3432435\n",
        "45512.6104057\n",
        "47788.240926\n",
        "50177.6529723\n",
        "52686.5356209\n",
        "55320.8624019\n",
        "58086.905522\n",
        "60991.2507981\n",
        "64040.813338\n",
        "67242.8540049\n",
        "70604.9967052\n",
        "74135.2465404\n",
        "77842.0088675\n",
        "81734.1093108\n",
        "85820.8147764\n",
        "90111.8555152\n",
        "94617.448291\n",
        "99348.3207055\n",
        "104315.736741\n",
        "109531.523578\n",
        "115008.099757\n",
        "120758.504745\n",
        "126796.429982\n",
        "133136.251481\n",
        "139793.064055\n",
        "146782.717258\n"
       ]
      }
     ],
     "prompt_number": 9
    },
    {
     "cell_type": "markdown",
     "metadata": {},
     "source": [
      "####Question 3.3"
     ]
    },
    {
     "cell_type": "code",
     "collapsed": false,
     "input": [
      "#Defines all the Variables Below\n",
      "lifespan = np.arange(0,50)\n",
      "salary = 64000\n",
      "yearly_raise = 1.05\n",
      "payment_rate = 0.2\n",
      "debt = 29914\n",
      "interest = 1.05\n",
      "\n",
      "count = 0\n",
      "#The following for loop calculates the number of years to pay off the student debt\n",
      "for n in lifespan:\n",
      "    count += 1\n",
      "    salary *= yearly_raise\n",
      "    debt *= interest\n",
      "    debt -= salary * payment_rate\n",
      "    if (debt <= 0):\n",
      "        break\n",
      "print 'The debt will be paid off in {} years.' .format(count)"
     ],
     "language": "python",
     "metadata": {},
     "outputs": [
      {
       "output_type": "stream",
       "stream": "stdout",
       "text": [
        "The debt will be paid off in 3 years.\n"
       ]
      }
     ],
     "prompt_number": 10
    },
    {
     "cell_type": "markdown",
     "metadata": {},
     "source": [
      "####Question 3.4"
     ]
    },
    {
     "cell_type": "code",
     "collapsed": false,
     "input": [
      "def number_of_years(): #Defines the function named number of years\n",
      "    lifespan = np.arange(0,50) \n",
      "    salary = 64000\n",
      "    yearly_raise = 1.05\n",
      "    payment_rate = 0.2\n",
      "    debt = 29914\n",
      "    interest = 1.05\n",
      "    count = 0\n",
      "    for elements in lifespan: #For loop to calculate number of years to pay off debt\n",
      "        count += 1\n",
      "        salary *= yearly_raise\n",
      "        debt *= interest\n",
      "        debt -= salary * payment_rate\n",
      "        if (debt <= 0): #Once the debt is paid off, stop the loop\n",
      "            break\n",
      "    return count #Returns the number of times the loop was iterated aka the number of years to pay off debt\n",
      "\n",
      "print 'The number of years to pay off the debt is {} years.' .format(number_of_years())\n"
     ],
     "language": "python",
     "metadata": {},
     "outputs": [
      {
       "output_type": "stream",
       "stream": "stdout",
       "text": [
        "The number of years to pay off the debt is 3 years.\n"
       ]
      }
     ],
     "prompt_number": 11
    },
    {
     "cell_type": "markdown",
     "metadata": {},
     "source": [
      "####Question 3.5"
     ]
    },
    {
     "cell_type": "code",
     "collapsed": false,
     "input": [
      "ten_thousand_samples = [] #Creates an empty list which will eventually include 10000 samples\n",
      "n = 10000 #Number of times the function will be appended \n",
      "for elements in range(n): #For loop to iterate the function n times\n",
      "    ten_thousand_samples.append(number_of_years()) #Appeneds the list to include the iterated loop\n",
      "print ten_thousand_samples #Prints the appended list"
     ],
     "language": "python",
     "metadata": {},
     "outputs": [
      {
       "output_type": "stream",
       "stream": "stdout",
       "text": [
        "[3, 3, 3, 3, 3, 3, 3, 3, 3, 3, 3, 3, 3, 3, 3, 3, 3, 3, 3, 3, 3, 3, 3, 3, 3, 3, 3, 3, 3, 3, 3, 3, 3, 3, 3, 3, 3, 3, 3, 3, 3, 3, 3, 3, 3, 3, 3, 3, 3, 3, 3, 3, 3, 3, 3, 3, 3, 3, 3, 3, 3, 3, 3, 3, 3, 3, 3, 3, 3, 3, 3, 3, 3, 3, 3, 3, 3, 3, 3, 3, 3, 3, 3, 3, 3, 3, 3, 3, 3, 3, 3, 3, 3, 3, 3, 3, 3, 3, 3, 3, 3, 3, 3, 3, 3, 3, 3, 3, 3, 3, 3, 3, 3, 3, 3, 3, 3, 3, 3, 3, 3, 3, 3, 3, 3, 3, 3, 3, 3, 3, 3, 3, 3, 3, 3, 3, 3, 3, 3, 3, 3, 3, 3, 3, 3, 3, 3, 3, 3, 3, 3, 3, 3, 3, 3, 3, 3, 3, 3, 3, 3, 3, 3, 3, 3, 3, 3, 3, 3, 3, 3, 3, 3, 3, 3, 3, 3, 3, 3, 3, 3, 3, 3, 3, 3, 3, 3, 3, 3, 3, 3, 3, 3, 3, 3, 3, 3, 3, 3, 3, 3, 3, 3, 3, 3, 3, 3, 3, 3, 3, 3, 3, 3, 3, 3, 3, 3, 3, 3, 3, 3, 3, 3, 3, 3, 3, 3, 3, 3, 3, 3, 3, 3, 3, 3, 3, 3, 3, 3, 3, 3, 3, 3, 3, 3, 3, 3, 3, 3, 3, 3, 3, 3, 3, 3, 3, 3, 3, 3, 3, 3, 3, 3, 3, 3, 3, 3, 3, 3, 3, 3, 3, 3, 3, 3, 3, 3, 3, 3, 3, 3, 3, 3, 3, 3, 3, 3, 3, 3, 3, 3, 3, 3, 3, 3, 3, 3, 3, 3, 3, 3, 3, 3, 3, 3, 3, 3, 3, 3, 3, 3, 3, 3, 3, 3, 3, 3, 3, 3, 3, 3, 3, 3, 3, 3, 3, 3, 3, 3, 3, 3, 3, 3, 3, 3, 3, 3, 3, 3, 3, 3, 3, 3, 3, 3, 3, 3, 3, 3, 3, 3, 3, 3, 3, 3, 3, 3, 3, 3, 3, 3, 3, 3, 3, 3, 3, 3, 3, 3, 3, 3, 3, 3, 3, 3, 3, 3, 3, 3, 3, 3, 3, 3, 3, 3, 3, 3, 3, 3, 3, 3, 3, 3, 3, 3, 3, 3, 3, 3, 3, 3, 3, 3, 3, 3, 3, 3, 3, 3, 3, 3, 3, 3, 3, 3, 3, 3, 3, 3, 3, 3, 3, 3, 3, 3, 3, 3, 3, 3, 3, 3, 3, 3, 3, 3, 3, 3, 3, 3, 3, 3, 3, 3, 3, 3, 3, 3, 3, 3, 3, 3, 3, 3, 3, 3, 3, 3, 3, 3, 3, 3, 3, 3, 3, 3, 3, 3, 3, 3, 3, 3, 3, 3, 3, 3, 3, 3, 3, 3, 3, 3, 3, 3, 3, 3, 3, 3, 3, 3, 3, 3, 3, 3, 3, 3, 3, 3, 3, 3, 3, 3, 3, 3, 3, 3, 3, 3, 3, 3, 3, 3, 3, 3, 3, 3, 3, 3, 3, 3, 3, 3, 3, 3, 3, 3, 3, 3, 3, 3, 3, 3, 3, 3, 3, 3, 3, 3, 3, 3, 3, 3, 3, 3, 3, 3, 3, 3, 3, 3, 3, 3, 3, 3, 3, 3, 3, 3, 3, 3, 3, 3, 3, 3, 3, 3, 3, 3, 3, 3, 3, 3, 3, 3, 3, 3, 3, 3, 3, 3, 3, 3, 3, 3, 3, 3, 3, 3, 3, 3, 3, 3, 3, 3, 3, 3, 3, 3, 3, 3, 3, 3, 3, 3, 3, 3, 3, 3, 3, 3, 3, 3, 3, 3, 3, 3, 3, 3, 3, 3, 3, 3, 3, 3, 3, 3, 3, 3, 3, 3, 3, 3, 3, 3, 3, 3, 3, 3, 3, 3, 3, 3, 3, 3, 3, 3, 3, 3, 3, 3, 3, 3, 3, 3, 3, 3, 3, 3, 3, 3, 3, 3, 3, 3, 3, 3, 3, 3, 3, 3, 3, 3, 3, 3, 3, 3, 3, 3, 3, 3, 3, 3, 3, 3, 3, 3, 3, 3, 3, 3, 3, 3, 3, 3, 3, 3, 3, 3, 3, 3, 3, 3, 3, 3, 3, 3, 3, 3, 3, 3, 3, 3, 3, 3, 3, 3, 3, 3, 3, 3, 3, 3, 3, 3, 3, 3, 3, 3, 3, 3, 3, 3, 3, 3, 3, 3, 3, 3, 3, 3, 3, 3, 3, 3, 3, 3, 3, 3, 3, 3, 3, 3, 3, 3, 3, 3, 3, 3, 3, 3, 3, 3, 3, 3, 3, 3, 3, 3, 3, 3, 3, 3, 3, 3, 3, 3, 3, 3, 3, 3, 3, 3, 3, 3, 3, 3, 3, 3, 3, 3, 3, 3, 3, 3, 3, 3, 3, 3, 3, 3, 3, 3, 3, 3, 3, 3, 3, 3, 3, 3, 3, 3, 3, 3, 3, 3, 3, 3, 3, 3, 3, 3, 3, 3, 3, 3, 3, 3, 3, 3, 3, 3, 3, 3, 3, 3, 3, 3, 3, 3, 3, 3, 3, 3, 3, 3, 3, 3, 3, 3, 3, 3, 3, 3, 3, 3, 3, 3, 3, 3, 3, 3, 3, 3, 3, 3, 3, 3, 3, 3, 3, 3, 3, 3, 3, 3, 3, 3, 3, 3, 3, 3, 3, 3, 3, 3, 3, 3, 3, 3, 3, 3, 3, 3, 3, 3, 3, 3, 3, 3, 3, 3, 3, 3, 3, 3, 3, 3, 3, 3, 3, 3, 3, 3, 3, 3, 3, 3, 3, 3, 3, 3, 3, 3, 3, 3, 3, 3, 3, 3, 3, 3, 3, 3, 3, 3, 3, 3, 3, 3, 3, 3, 3, 3, 3, 3, 3, 3, 3, 3, 3, 3, 3, 3, 3, 3, 3, 3, 3, 3, 3, 3, 3, 3, 3, 3, 3, 3, 3, 3, 3, 3, 3, 3, 3, 3, 3, 3, 3, 3, 3, 3, 3, 3, 3, 3, 3, 3, 3, 3, 3, 3, 3, 3, 3, 3, 3, 3, 3, 3, 3, 3, 3, 3, 3, 3, 3, 3, 3, 3, 3, 3, 3, 3, 3, 3, 3, 3, 3, 3, 3, 3, 3, 3, 3, 3, 3, 3, 3, 3, 3, 3, 3, 3, 3, 3, 3, 3, 3, 3, 3, 3, 3, 3, 3, 3, 3, 3, 3, 3, 3, 3, 3, 3, 3, 3, 3, 3, 3, 3, 3, 3, 3, 3, 3, 3, 3, 3, 3, 3, 3, 3, 3, 3, 3, 3, 3, 3, 3, 3, 3, 3, 3, 3, 3, 3, 3, 3, 3, 3, 3, 3, 3, 3, 3, 3, 3, 3, 3, 3, 3, 3, 3, 3, 3, 3, 3, 3, 3, 3, 3, 3, 3, 3, 3, 3, 3, 3, 3, 3, 3, 3, 3, 3, 3, 3, 3, 3, 3, 3, 3, 3, 3, 3, 3, 3, 3, 3, 3, 3, 3, 3, 3, 3, 3, 3, 3, 3, 3, 3, 3, 3, 3, 3, 3, 3, 3, 3, 3, 3, 3, 3, 3, 3, 3, 3, 3, 3, 3, 3, 3, 3, 3, 3, 3, 3, 3, 3, 3, 3, 3, 3, 3, 3, 3, 3, 3, 3, 3, 3, 3, 3, 3, 3, 3, 3, 3, 3, 3, 3, 3, 3, 3, 3, 3, 3, 3, 3, 3, 3, 3, 3, 3, 3, 3, 3, 3, 3, 3, 3, 3, 3, 3, 3, 3, 3, 3, 3, 3, 3, 3, 3, 3, 3, 3, 3, 3, 3, 3, 3, 3, 3, 3, 3, 3, 3, 3, 3, 3, 3, 3, 3, 3, 3, 3, 3, 3, 3, 3, 3, 3, 3, 3, 3, 3, 3, 3, 3, 3, 3, 3, 3, 3, 3, 3, 3, 3, 3, 3, 3, 3, 3, 3, 3, 3, 3, 3, 3, 3, 3, 3, 3, 3, 3, 3, 3, 3, 3, 3, 3, 3, 3, 3, 3, 3, 3, 3, 3, 3, 3, 3, 3, 3, 3, 3, 3, 3, 3, 3, 3, 3, 3, 3, 3, 3, 3, 3, 3, 3, 3, 3, 3, 3, 3, 3, 3, 3, 3, 3, 3, 3, 3, 3, 3, 3, 3, 3, 3, 3, 3, 3, 3, 3, 3, 3, 3, 3, 3, 3, 3, 3, 3, 3, 3, 3, 3, 3, 3, 3, 3, 3, 3, 3, 3, 3, 3, 3, 3, 3, 3, 3, 3, 3, 3, 3, 3, 3, 3, 3, 3, 3, 3, 3, 3, 3, 3, 3, 3, 3, 3, 3, 3, 3, 3, 3, 3, 3, 3, 3, 3, 3, 3, 3, 3, 3, 3, 3, 3, 3, 3, 3, 3, 3, 3, 3, 3, 3, 3, 3, 3, 3, 3, 3, 3, 3, 3, 3, 3, 3, 3, 3, 3, 3, 3, 3, 3, 3, 3, 3, 3, 3, 3, 3, 3, 3, 3, 3, 3, 3, 3, 3, 3, 3, 3, 3, 3, 3, 3, 3, 3, 3, 3, 3, 3, 3, 3, 3, 3, 3, 3, 3, 3, 3, 3, 3, 3, 3, 3, 3, 3, 3, 3, 3, 3, 3, 3, 3, 3, 3, 3, 3, 3, 3, 3, 3, 3, 3, 3, 3, 3, 3, 3, 3, 3, 3, 3, 3, 3, 3, 3, 3, 3, 3, 3, 3, 3, 3, 3, 3, 3, 3, 3, 3, 3, 3, 3, 3, 3, 3, 3, 3, 3, 3, 3, 3, 3, 3, 3, 3, 3, 3, 3, 3, 3, 3, 3, 3, 3, 3, 3, 3, 3, 3, 3, 3, 3, 3, 3, 3, 3, 3, 3, 3, 3, 3, 3, 3, 3, 3, 3, 3, 3, 3, 3, 3, 3, 3, 3, 3, 3, 3, 3, 3, 3, 3, 3, 3, 3, 3, 3, 3, 3, 3, 3, 3, 3, 3, 3, 3, 3, 3, 3, 3, 3, 3, 3, 3, 3, 3, 3, 3, 3, 3, 3, 3, 3, 3, 3, 3, 3, 3, 3, 3, 3, 3, 3, 3, 3, 3, 3, 3, 3, 3, 3, 3, 3, 3, 3, 3, 3, 3, 3, 3, 3, 3, 3, 3, 3, 3, 3, 3, 3, 3, 3, 3, 3, 3, 3, 3, 3, 3, 3, 3, 3, 3, 3, 3, 3, 3, 3, 3, 3, 3, 3, 3, 3, 3, 3, 3, 3, 3, 3, 3, 3, 3, 3, 3, 3, 3, 3, 3, 3, 3, 3, 3, 3, 3, 3, 3, 3, 3, 3, 3, 3, 3, 3, 3, 3, 3, 3, 3, 3, 3, 3, 3, 3, 3, 3, 3, 3, 3, 3, 3, 3, 3, 3, 3, 3, 3, 3, 3, 3, 3, 3, 3, 3, 3, 3, 3, 3, 3, 3, 3, 3, 3, 3, 3, 3, 3, 3, 3, 3, 3, 3, 3, 3, 3, 3, 3, 3, 3, 3, 3, 3, 3, 3, 3, 3, 3, 3, 3, 3, 3, 3, 3, 3, 3, 3, 3, 3, 3, 3, 3, 3, 3, 3, 3, 3, 3, 3, 3, 3, 3, 3, 3, 3, 3, 3, 3, 3, 3, 3, 3, 3, 3, 3, 3, 3, 3, 3, 3, 3, 3, 3, 3, 3, 3, 3, 3, 3, 3, 3, 3, 3, 3, 3, 3, 3, 3, 3, 3, 3, 3, 3, 3, 3, 3, 3, 3, 3, 3, 3, 3, 3, 3, 3, 3, 3, 3, 3, 3, 3, 3, 3, 3, 3, 3, 3, 3, 3, 3, 3, 3, 3, 3, 3, 3, 3, 3, 3, 3, 3, 3, 3, 3, 3, 3, 3, 3, 3, 3, 3, 3, 3, 3, 3, 3, 3, 3, 3, 3, 3, 3, 3, 3, 3, 3, 3, 3, 3, 3, 3, 3, 3, 3, 3, 3, 3, 3, 3, 3, 3, 3, 3, 3, 3, 3, 3, 3, 3, 3, 3, 3, 3, 3, 3, 3, 3, 3, 3, 3, 3, 3, 3, 3, 3, 3, 3, 3, 3, 3, 3, 3, 3, 3, 3, 3, 3, 3, 3, 3, 3, 3, 3, 3, 3, 3, 3, 3, 3, 3, 3, 3, 3, 3, 3, 3, 3, 3, 3, 3, 3, 3, 3, 3, 3, 3, 3, 3, 3, 3, 3, 3, 3, 3, 3, 3, 3, 3, 3, 3, 3, 3, 3, 3, 3, 3, 3, 3, 3, 3, 3, 3, 3, 3, 3, 3, 3, 3, 3, 3, 3, 3, 3, 3, 3, 3, 3, 3, 3, 3, 3, 3, 3, 3, 3, 3, 3, 3, 3, 3, 3, 3, 3, 3, 3, 3, 3, 3, 3, 3, 3, 3, 3, 3, 3, 3, 3, 3, 3, 3, 3, 3, 3, 3, 3, 3, 3, 3, 3, 3, 3, 3, 3, 3, 3, 3, 3, 3, 3, 3, 3, 3, 3, 3, 3, 3, 3, 3, 3, 3, 3, 3, 3, 3, 3, 3, 3, 3, 3, 3, 3, 3, 3, 3, 3, 3, 3, 3, 3, 3, 3, 3, 3, 3, 3, 3, 3, 3, 3, 3, 3, 3, 3, 3, 3, 3, 3, 3, 3, 3, 3, 3, 3, 3, 3, 3, 3, 3, 3, 3, 3, 3, 3, 3, 3, 3, 3, 3, 3, 3, 3, 3, 3, 3, 3, 3, 3, 3, 3, 3, 3, 3, 3, 3, 3, 3, 3, 3, 3, 3, 3, 3, 3, 3, 3, 3, 3, 3, 3, 3, 3, 3, 3, 3, 3, 3, 3, 3, 3, 3, 3, 3, 3, 3, 3, 3, 3, 3, 3, 3, 3, 3, 3, 3, 3, 3, 3, 3, 3, 3, 3, 3, 3, 3, 3, 3, 3, 3, 3, 3, 3, 3, 3, 3, 3, 3, 3, 3, 3, 3, 3, 3, 3, 3, 3, 3, 3, 3, 3, 3, 3, 3, 3, 3, 3, 3, 3, 3, 3, 3, 3, 3, 3, 3, 3, 3, 3, 3, 3, 3, 3, 3, 3, 3, 3, 3, 3, 3, 3, 3, 3, 3, 3, 3, 3, 3, 3, 3, 3, 3, 3, 3, 3, 3, 3, 3, 3, 3, 3, 3, 3, 3, 3, 3, 3, 3, 3, 3, 3, 3, 3, 3, 3, 3, 3, 3, 3, 3, 3, 3, 3, 3, 3, 3, 3, 3, 3, 3, 3, 3, 3, 3, 3, 3, 3, 3, 3, 3, 3, 3, 3, 3, 3, 3, 3, 3, 3, 3, 3, 3, 3, 3, 3, 3, 3, 3, 3, 3, 3, 3, 3, 3, 3, 3, 3, 3, 3, 3, 3, 3, 3, 3, 3, 3, 3, 3, 3, 3, 3, 3, 3, 3, 3, 3, 3, 3, 3, 3, 3, 3, 3, 3, 3, 3, 3, 3, 3, 3, 3, 3, 3, 3, 3, 3, 3, 3, 3, 3, 3, 3, 3, 3, 3, 3, 3, 3, 3, 3, 3, 3, 3, 3, 3, 3, 3, 3, 3, 3, 3, 3, 3, 3, 3, 3, 3, 3, 3, 3, 3, 3, 3, 3, 3, 3, 3, 3, 3, 3, 3, 3, 3, 3, 3, 3, 3, 3, 3, 3, 3, 3, 3, 3, 3, 3, 3, 3, 3, 3, 3, 3, 3, 3, 3, 3, 3, 3, 3, 3, 3, 3, 3, 3, 3, 3, 3, 3, 3, 3, 3, 3, 3, 3, 3, 3, 3, 3, 3, 3, 3, 3, 3, 3, 3, 3, 3, 3, 3, 3, 3, 3, 3, 3, 3, 3, 3, 3, 3, 3, 3, 3, 3, 3, 3, 3, 3, 3, 3, 3, 3, 3, 3, 3, 3, 3, 3, 3, 3, 3, 3, 3, 3, 3, 3, 3, 3, 3, 3, 3, 3, 3, 3, 3, 3, 3, 3, 3, 3, 3, 3, 3, 3, 3, 3, 3, 3, 3, 3, 3, 3, 3, 3, 3, 3, 3, 3, 3, 3, 3, 3, 3, 3, 3, 3, 3, 3, 3, 3, 3, 3, 3, 3, 3, 3, 3, 3, 3, 3, 3, 3, 3, 3, 3, 3, 3, 3, 3, 3, 3, 3, 3, 3, 3, 3, 3, 3, 3, 3, 3, 3, 3, 3, 3, 3, 3, 3, 3, 3, 3, 3, 3, 3, 3, 3, 3, 3, 3, 3, 3, 3, 3, 3, 3, 3, 3, 3, 3, 3, 3, 3, 3, 3, 3, 3, 3, 3, 3, 3, 3, 3, 3, 3, 3, 3, 3, 3, 3, 3, 3, 3, 3, 3, 3, 3, 3, 3, 3, 3, 3, 3, 3, 3, 3, 3, 3, 3, 3, 3, 3, 3, 3, 3, 3, 3, 3, 3, 3, 3, 3, 3, 3, 3, 3, 3, 3, 3, 3, 3, 3, 3, 3, 3, 3, 3, 3, 3, 3, 3, 3, 3, 3, 3, 3, 3, 3, 3, 3, 3, 3, 3, 3, 3, 3, 3, 3, 3, 3, 3, 3, 3, 3, 3, 3, 3, 3, 3, 3, 3, 3, 3, 3, 3, 3, 3, 3, 3, 3, 3, 3, 3, 3, 3, 3, 3, 3, 3, 3, 3, 3, 3, 3, 3, 3, 3, 3, 3, 3, 3, 3, 3, 3, 3, 3, 3, 3, 3, 3, 3, 3, 3, 3, 3, 3, 3, 3, 3, 3, 3, 3, 3, 3, 3, 3, 3, 3, 3, 3, 3, 3, 3, 3, 3, 3, 3, 3, 3, 3, 3, 3, 3, 3, 3, 3, 3, 3, 3, 3, 3, 3, 3, 3, 3, 3, 3, 3, 3, 3, 3, 3, 3, 3, 3, 3, 3, 3, 3, 3, 3, 3, 3, 3, 3, 3, 3, 3, 3, 3, 3, 3, 3, 3, 3, 3, 3, 3, 3, 3, 3, 3, 3, 3, 3, 3, 3, 3, 3, 3, 3, 3, 3, 3, 3, 3, 3, 3, 3, 3, 3, 3, 3, 3, 3, 3, 3, 3, 3, 3, 3, 3, 3, 3, 3, 3, 3, 3, 3, 3, 3, 3, 3, 3, 3, 3, 3, 3, 3, 3, 3, 3, 3, 3, 3, 3, 3, 3, 3, 3, 3, 3, 3, 3, 3, 3, 3, 3, 3, 3, 3, 3, 3, 3, 3, 3, 3, 3, 3, 3, 3, 3, 3, 3, 3, 3, 3, 3, 3, 3, 3, 3, 3, 3, 3, 3, 3, 3, 3, 3, 3, 3, 3, 3, 3, 3, 3, 3, 3, 3, 3, 3, 3, 3, 3, 3, 3, 3, 3, 3, 3, 3, 3, 3, 3, 3, 3, 3, 3, 3, 3, 3, 3, 3, 3, 3, 3, 3, 3, 3, 3, 3, 3, 3, 3, 3, 3, 3, 3, 3, 3, 3, 3, 3, 3, 3, 3, 3, 3, 3, 3, 3, 3, 3, 3, 3, 3, 3, 3, 3, 3, 3, 3, 3, 3, 3, 3, 3, 3, 3, 3, 3, 3, 3, 3, 3, 3, 3, 3, 3, 3, 3, 3, 3, 3, 3, 3, 3, 3, 3, 3, 3, 3, 3, 3, 3, 3, 3, 3, 3, 3, 3, 3, 3, 3, 3, 3, 3, 3, 3, 3, 3, 3, 3, 3, 3, 3, 3, 3, 3, 3, 3, 3, 3, 3, 3, 3, 3, 3, 3, 3, 3, 3, 3, 3, 3, 3, 3, 3, 3, 3, 3, 3, 3, 3, 3, 3, 3, 3, 3, 3, 3, 3, 3, 3, 3, 3, 3, 3, 3, 3, 3, 3, 3, 3, 3, 3, 3, 3, 3, 3, 3, 3, 3, 3, 3, 3, 3, 3, 3, 3, 3, 3, 3, 3, 3, 3, 3, 3, 3, 3, 3, 3, 3, 3, 3, 3, 3, 3, 3, 3, 3, 3, 3, 3, 3, 3, 3, 3, 3, 3, 3, 3, 3, 3, 3, 3, 3, 3, 3, 3, 3, 3, 3, 3, 3, 3, 3, 3, 3, 3, 3, 3, 3, 3, 3, 3, 3, 3, 3, 3, 3, 3, 3, 3, 3, 3, 3, 3, 3, 3, 3, 3, 3, 3, 3, 3, 3, 3, 3, 3, 3, 3, 3, 3, 3, 3, 3, 3, 3, 3, 3, 3, 3, 3, 3, 3, 3, 3, 3, 3, 3, 3, 3, 3, 3, 3, 3, 3, 3, 3, 3, 3, 3, 3, 3, 3, 3, 3, 3, 3, 3, 3, 3, 3, 3, 3, 3, 3, 3, 3, 3, 3, 3, 3, 3, 3, 3, 3, 3, 3, 3, 3, 3, 3, 3, 3, 3, 3, 3, 3, 3, 3, 3, 3, 3, 3, 3, 3, 3, 3, 3, 3, 3, 3, 3, 3, 3, 3, 3, 3, 3, 3, 3, 3, 3, 3, 3, 3, 3, 3, 3, 3, 3, 3, 3, 3, 3, 3, 3, 3, 3, 3, 3, 3, 3, 3, 3, 3, 3, 3, 3, 3, 3, 3, 3, 3, 3, 3, 3, 3, 3, 3, 3, 3, 3, 3, 3, 3, 3, 3, 3, 3, 3, 3, 3, 3, 3, 3, 3, 3, 3, 3, 3, 3, 3, 3, 3, 3, 3, 3, 3, 3, 3, 3, 3, 3, 3, 3, 3, 3, 3, 3, 3, 3, 3, 3, 3, 3, 3, 3, 3, 3, 3, 3, 3, 3, 3, 3, 3, 3, 3, 3, 3, 3, 3, 3, 3, 3, 3, 3, 3, 3, 3, 3, 3, 3, 3, 3, 3, 3, 3, 3, 3, 3, 3, 3, 3, 3, 3, 3, 3, 3, 3, 3, 3, 3, 3, 3, 3, 3, 3, 3, 3, 3, 3, 3, 3, 3, 3, 3, 3, 3, 3, 3, 3, 3, 3, 3, 3, 3, 3, 3, 3, 3, 3, 3, 3, 3, 3, 3, 3, 3, 3, 3, 3, 3, 3, 3, 3, 3, 3, 3, 3, 3, 3, 3, 3, 3, 3, 3, 3, 3, 3, 3, 3, 3, 3, 3, 3, 3, 3, 3, 3, 3, 3, 3, 3, 3, 3, 3, 3, 3, 3, 3, 3, 3, 3, 3, 3, 3, 3, 3, 3, 3, 3, 3, 3, 3, 3, 3, 3, 3, 3, 3, 3, 3, 3, 3, 3, 3, 3, 3, 3, 3, 3, 3, 3, 3, 3, 3, 3, 3, 3, 3, 3, 3, 3, 3, 3, 3, 3, 3, 3, 3, 3, 3, 3, 3, 3, 3, 3, 3, 3, 3, 3, 3, 3, 3, 3, 3, 3, 3, 3, 3, 3, 3, 3, 3, 3, 3, 3, 3, 3, 3, 3, 3, 3, 3, 3, 3, 3, 3, 3, 3, 3, 3, 3, 3, 3, 3, 3, 3, 3, 3, 3, 3, 3, 3, 3, 3, 3, 3, 3, 3, 3, 3, 3, 3, 3, 3, 3, 3, 3, 3, 3, 3, 3, 3, 3, 3, 3, 3, 3, 3, 3, 3, 3, 3, 3, 3, 3, 3, 3, 3, 3, 3, 3, 3, 3, 3, 3, 3, 3, 3, 3, 3, 3, 3, 3, 3, 3, 3, 3, 3, 3, 3, 3, 3, 3, 3, 3, 3, 3, 3, 3, 3, 3, 3, 3, 3, 3, 3, 3, 3, 3, 3, 3, 3, 3, 3, 3, 3, 3, 3, 3, 3, 3, 3, 3, 3, 3, 3, 3, 3, 3, 3, 3, 3, 3, 3, 3, 3, 3, 3, 3, 3, 3, 3, 3, 3, 3, 3, 3, 3, 3, 3, 3, 3, 3, 3, 3, 3, 3, 3, 3, 3, 3, 3, 3, 3, 3, 3, 3, 3, 3, 3, 3, 3, 3, 3, 3, 3, 3, 3, 3, 3, 3, 3, 3, 3, 3, 3, 3, 3, 3, 3, 3, 3, 3, 3, 3, 3, 3, 3, 3, 3, 3, 3, 3, 3, 3, 3, 3, 3, 3, 3, 3, 3, 3, 3, 3, 3, 3, 3, 3, 3, 3, 3, 3, 3, 3, 3, 3, 3, 3, 3, 3, 3, 3, 3, 3, 3, 3, 3, 3, 3, 3, 3, 3, 3, 3, 3, 3, 3, 3, 3, 3, 3, 3, 3, 3, 3, 3, 3, 3, 3, 3, 3, 3, 3, 3, 3, 3, 3, 3, 3, 3, 3, 3, 3, 3, 3, 3, 3, 3, 3, 3, 3, 3, 3, 3, 3, 3, 3, 3, 3, 3, 3, 3, 3, 3, 3, 3, 3, 3, 3, 3, 3, 3, 3, 3, 3, 3, 3, 3, 3, 3, 3, 3, 3, 3, 3, 3, 3, 3, 3, 3, 3, 3, 3, 3, 3, 3, 3, 3, 3, 3, 3, 3, 3, 3, 3, 3, 3, 3, 3, 3, 3, 3, 3, 3, 3, 3, 3, 3, 3, 3, 3, 3, 3, 3, 3, 3, 3, 3, 3, 3, 3, 3, 3, 3, 3, 3, 3, 3, 3, 3, 3, 3, 3, 3, 3, 3, 3, 3, 3, 3, 3, 3, 3, 3, 3, 3, 3, 3, 3, 3, 3, 3, 3, 3, 3, 3, 3, 3, 3, 3, 3, 3, 3, 3, 3, 3, 3, 3, 3, 3, 3, 3, 3, 3, 3, 3, 3, 3, 3, 3, 3, 3, 3, 3, 3, 3, 3, 3, 3, 3, 3, 3, 3, 3, 3, 3, 3, 3, 3, 3, 3, 3, 3, 3, 3, 3, 3, 3, 3, 3, 3, 3, 3, 3, 3, 3, 3, 3, 3, 3, 3, 3, 3, 3, 3, 3, 3, 3, 3, 3, 3, 3, 3, 3, 3, 3, 3, 3, 3, 3, 3, 3, 3, 3, 3, 3, 3, 3, 3, 3, 3, 3, 3, 3, 3, 3, 3, 3, 3, 3, 3, 3, 3, 3, 3, 3, 3, 3, 3, 3, 3, 3, 3, 3, 3, 3, 3, 3, 3, 3, 3, 3, 3, 3, 3, 3, 3, 3, 3, 3, 3, 3, 3, 3, 3, 3, 3, 3, 3, 3, 3, 3, 3, 3, 3, 3, 3, 3, 3, 3, 3, 3, 3, 3, 3, 3, 3, 3, 3, 3, 3, 3, 3, 3, 3, 3, 3, 3, 3, 3, 3, 3, 3, 3, 3, 3, 3, 3, 3, 3, 3, 3, 3, 3, 3, 3, 3, 3, 3, 3, 3, 3, 3, 3, 3, 3, 3, 3, 3, 3, 3, 3, 3, 3, 3, 3, 3, 3, 3, 3, 3, 3, 3, 3, 3, 3, 3, 3, 3, 3, 3, 3, 3, 3, 3, 3, 3, 3, 3, 3, 3, 3, 3, 3, 3, 3, 3, 3, 3, 3, 3, 3, 3, 3, 3, 3, 3, 3, 3, 3, 3, 3, 3, 3, 3, 3, 3, 3, 3, 3, 3, 3, 3, 3, 3, 3, 3, 3, 3, 3, 3, 3, 3, 3, 3, 3, 3, 3, 3, 3, 3, 3, 3, 3, 3, 3, 3, 3, 3, 3, 3, 3, 3, 3, 3, 3, 3, 3, 3, 3, 3, 3, 3, 3, 3, 3, 3, 3, 3, 3, 3, 3, 3, 3, 3, 3, 3, 3, 3, 3, 3, 3, 3, 3, 3, 3, 3, 3, 3, 3, 3, 3, 3, 3, 3, 3, 3, 3, 3, 3, 3, 3, 3, 3, 3, 3, 3, 3, 3, 3, 3, 3, 3, 3, 3, 3, 3, 3, 3, 3, 3, 3, 3, 3, 3, 3, 3, 3, 3, 3, 3, 3, 3, 3, 3, 3, 3, 3, 3, 3, 3, 3, 3, 3, 3, 3, 3, 3, 3, 3, 3, 3, 3, 3, 3, 3, 3, 3, 3, 3, 3, 3, 3, 3, 3, 3, 3, 3, 3, 3, 3, 3, 3, 3, 3, 3, 3, 3, 3, 3, 3, 3, 3, 3, 3, 3, 3, 3, 3, 3, 3, 3, 3, 3, 3, 3, 3, 3, 3, 3, 3, 3, 3, 3, 3, 3, 3, 3, 3, 3, 3, 3, 3, 3, 3, 3, 3, 3, 3, 3, 3, 3, 3, 3, 3, 3, 3, 3, 3, 3, 3, 3, 3, 3, 3, 3, 3, 3, 3, 3, 3, 3, 3, 3, 3, 3, 3, 3, 3, 3, 3, 3, 3, 3, 3, 3, 3, 3, 3, 3, 3, 3, 3, 3, 3, 3, 3, 3, 3, 3, 3, 3, 3, 3, 3, 3, 3, 3, 3, 3, 3, 3, 3, 3, 3, 3, 3, 3, 3, 3, 3, 3, 3, 3, 3, 3, 3, 3, 3, 3, 3, 3, 3, 3, 3, 3, 3, 3, 3, 3, 3, 3, 3, 3, 3, 3, 3, 3, 3, 3, 3, 3, 3, 3, 3, 3, 3, 3, 3, 3, 3, 3, 3, 3, 3, 3, 3, 3, 3, 3, 3, 3, 3, 3, 3, 3, 3, 3, 3, 3, 3, 3, 3, 3, 3, 3, 3, 3, 3, 3, 3, 3, 3, 3, 3, 3, 3, 3, 3, 3, 3, 3, 3, 3, 3, 3, 3, 3, 3, 3, 3, 3, 3, 3, 3, 3, 3, 3, 3, 3, 3, 3, 3, 3, 3, 3, 3, 3, 3, 3, 3, 3, 3, 3, 3, 3, 3, 3, 3, 3, 3, 3, 3, 3, 3, 3, 3, 3, 3, 3, 3, 3, 3, 3, 3, 3, 3, 3, 3, 3, 3, 3, 3, 3, 3, 3, 3, 3, 3, 3, 3, 3, 3, 3, 3, 3, 3, 3, 3, 3, 3, 3, 3, 3, 3, 3, 3, 3, 3, 3, 3, 3, 3, 3, 3, 3, 3, 3, 3, 3, 3, 3, 3, 3, 3, 3, 3, 3, 3, 3, 3, 3, 3, 3, 3, 3, 3, 3, 3, 3, 3, 3, 3, 3, 3, 3, 3, 3, 3, 3, 3, 3, 3, 3, 3, 3, 3, 3, 3, 3, 3, 3, 3, 3, 3, 3, 3, 3, 3, 3, 3, 3, 3, 3, 3, 3, 3, 3, 3, 3, 3, 3, 3, 3, 3, 3, 3, 3, 3, 3, 3, 3, 3, 3, 3, 3, 3, 3, 3, 3, 3, 3, 3, 3, 3, 3, 3, 3, 3, 3, 3, 3, 3, 3, 3, 3, 3, 3, 3, 3, 3, 3, 3, 3, 3, 3, 3, 3, 3, 3, 3, 3, 3, 3, 3, 3, 3, 3, 3, 3, 3, 3, 3, 3, 3, 3, 3, 3, 3, 3, 3, 3, 3, 3, 3, 3, 3, 3, 3, 3, 3, 3, 3, 3, 3, 3, 3, 3, 3, 3, 3, 3, 3, 3, 3, 3, 3, 3, 3, 3, 3, 3, 3, 3, 3, 3, 3, 3, 3, 3, 3, 3, 3, 3, 3, 3, 3, 3, 3, 3, 3, 3, 3, 3, 3, 3, 3, 3, 3, 3, 3, 3, 3, 3, 3, 3, 3, 3, 3, 3, 3, 3, 3, 3, 3, 3, 3, 3, 3, 3, 3, 3, 3, 3, 3, 3, 3, 3, 3, 3, 3, 3, 3, 3, 3, 3, 3, 3, 3, 3, 3, 3, 3, 3, 3, 3, 3, 3, 3, 3, 3, 3, 3, 3, 3, 3, 3, 3, 3, 3, 3, 3, 3, 3, 3, 3, 3, 3, 3, 3, 3, 3, 3, 3, 3, 3, 3, 3, 3, 3, 3, 3, 3, 3, 3, 3, 3, 3, 3, 3, 3, 3, 3, 3, 3, 3, 3, 3, 3, 3, 3, 3, 3, 3, 3, 3, 3, 3, 3, 3, 3, 3, 3, 3, 3, 3, 3, 3, 3, 3, 3, 3, 3, 3, 3, 3, 3, 3, 3, 3, 3, 3, 3, 3, 3, 3, 3, 3, 3, 3, 3, 3, 3, 3, 3, 3, 3, 3, 3, 3, 3, 3, 3, 3, 3, 3, 3, 3, 3, 3, 3, 3, 3, 3, 3, 3, 3, 3, 3, 3, 3, 3, 3, 3, 3, 3, 3, 3, 3, 3, 3, 3, 3, 3, 3, 3, 3, 3, 3, 3, 3, 3, 3, 3, 3, 3, 3, 3, 3, 3, 3, 3, 3, 3, 3, 3, 3, 3, 3, 3, 3, 3, 3, 3, 3, 3, 3, 3, 3, 3, 3, 3, 3, 3, 3, 3, 3, 3, 3, 3, 3, 3, 3, 3, 3, 3, 3, 3, 3, 3, 3, 3, 3, 3, 3, 3, 3, 3, 3, 3, 3, 3, 3, 3, 3, 3, 3, 3, 3, 3, 3, 3, 3, 3, 3, 3, 3, 3, 3, 3, 3, 3, 3, 3, 3, 3, 3, 3, 3, 3, 3, 3, 3, 3, 3, 3, 3, 3, 3, 3, 3, 3, 3, 3, 3, 3, 3, 3, 3, 3, 3, 3, 3, 3, 3, 3, 3, 3, 3, 3, 3, 3, 3, 3, 3, 3, 3, 3, 3, 3, 3, 3, 3, 3, 3, 3, 3, 3, 3, 3, 3, 3, 3, 3, 3, 3, 3, 3, 3, 3, 3, 3, 3, 3, 3, 3, 3, 3, 3, 3, 3, 3, 3, 3, 3, 3, 3, 3, 3, 3, 3, 3, 3, 3, 3, 3, 3, 3, 3, 3, 3, 3, 3, 3, 3, 3, 3, 3, 3, 3, 3, 3, 3, 3, 3, 3, 3, 3, 3, 3, 3, 3, 3, 3, 3, 3, 3, 3, 3, 3, 3, 3, 3, 3, 3, 3, 3, 3, 3, 3, 3, 3, 3, 3, 3, 3, 3, 3, 3, 3, 3, 3, 3, 3, 3, 3, 3, 3, 3, 3, 3, 3, 3, 3, 3, 3, 3, 3, 3, 3, 3, 3, 3, 3, 3, 3, 3, 3, 3, 3, 3, 3, 3, 3, 3, 3, 3, 3, 3, 3, 3, 3, 3, 3, 3, 3, 3, 3, 3, 3, 3, 3, 3, 3, 3, 3, 3, 3, 3, 3, 3, 3, 3, 3, 3, 3, 3, 3, 3, 3, 3, 3, 3, 3, 3, 3, 3, 3, 3, 3, 3, 3, 3, 3, 3, 3, 3, 3, 3, 3, 3, 3, 3, 3, 3, 3, 3, 3, 3, 3, 3, 3, 3, 3, 3, 3, 3, 3, 3, 3, 3, 3, 3, 3, 3, 3, 3, 3, 3, 3, 3, 3, 3, 3, 3, 3, 3, 3, 3, 3, 3, 3, 3, 3, 3, 3, 3, 3, 3, 3, 3, 3, 3, 3, 3, 3, 3, 3, 3, 3, 3, 3, 3, 3, 3, 3, 3, 3, 3, 3, 3, 3, 3, 3, 3, 3, 3, 3, 3, 3, 3, 3, 3, 3, 3, 3, 3, 3, 3, 3, 3, 3, 3, 3, 3, 3, 3, 3, 3, 3, 3, 3, 3, 3, 3, 3, 3, 3, 3, 3, 3, 3, 3, 3, 3, 3, 3, 3, 3, 3, 3, 3, 3, 3, 3, 3, 3, 3, 3, 3, 3, 3, 3, 3, 3, 3, 3, 3, 3, 3, 3, 3, 3, 3, 3, 3, 3, 3, 3, 3, 3, 3, 3, 3, 3, 3, 3, 3, 3, 3, 3, 3, 3, 3, 3, 3, 3, 3, 3, 3, 3, 3, 3, 3, 3, 3, 3, 3, 3, 3, 3, 3, 3, 3, 3, 3, 3, 3, 3, 3, 3, 3, 3, 3, 3, 3, 3, 3, 3, 3, 3, 3, 3, 3, 3, 3, 3, 3, 3, 3, 3, 3, 3, 3, 3, 3, 3, 3, 3, 3, 3, 3, 3, 3, 3, 3, 3, 3, 3, 3, 3, 3, 3, 3, 3, 3, 3, 3, 3, 3, 3, 3, 3, 3, 3, 3, 3, 3, 3, 3, 3, 3, 3, 3, 3, 3, 3, 3, 3, 3, 3, 3, 3, 3, 3, 3, 3, 3, 3, 3, 3, 3, 3, 3, 3, 3, 3, 3, 3, 3, 3, 3, 3, 3, 3, 3, 3, 3, 3, 3, 3, 3, 3, 3, 3, 3, 3, 3, 3, 3, 3, 3, 3, 3, 3, 3, 3, 3, 3, 3, 3, 3, 3, 3, 3, 3, 3, 3, 3, 3, 3, 3, 3, 3, 3, 3, 3, 3, 3, 3, 3, 3, 3, 3, 3, 3, 3, 3, 3, 3, 3, 3, 3, 3, 3, 3, 3, 3, 3, 3, 3, 3, 3, 3, 3, 3, 3, 3, 3, 3, 3, 3, 3, 3, 3, 3, 3, 3, 3, 3, 3, 3, 3, 3, 3, 3, 3, 3, 3, 3, 3, 3, 3, 3, 3, 3, 3, 3, 3, 3, 3, 3, 3, 3, 3, 3, 3, 3, 3, 3, 3, 3, 3, 3, 3, 3, 3, 3, 3, 3, 3, 3, 3, 3, 3, 3, 3, 3, 3, 3, 3, 3, 3, 3, 3, 3, 3, 3, 3, 3, 3, 3, 3, 3, 3, 3, 3, 3, 3, 3, 3, 3, 3, 3, 3, 3, 3, 3, 3, 3, 3, 3, 3, 3, 3, 3, 3, 3, 3, 3, 3, 3, 3, 3, 3, 3, 3, 3, 3, 3, 3, 3, 3, 3, 3, 3, 3, 3, 3, 3, 3, 3, 3, 3, 3, 3, 3, 3, 3, 3, 3, 3, 3, 3, 3, 3, 3, 3, 3, 3, 3, 3, 3, 3, 3, 3, 3, 3, 3, 3, 3, 3, 3, 3, 3, 3, 3, 3, 3, 3, 3, 3, 3, 3, 3, 3, 3, 3, 3, 3, 3, 3, 3, 3, 3, 3, 3, 3, 3, 3, 3, 3, 3, 3, 3, 3, 3, 3, 3, 3, 3, 3, 3, 3, 3, 3, 3, 3, 3, 3, 3, 3, 3, 3, 3, 3, 3, 3, 3, 3, 3, 3, 3, 3, 3, 3, 3, 3, 3, 3, 3, 3, 3, 3, 3, 3, 3, 3, 3, 3, 3, 3, 3, 3, 3, 3, 3, 3, 3, 3, 3, 3, 3, 3, 3, 3, 3, 3, 3, 3, 3, 3, 3, 3, 3, 3, 3, 3, 3, 3, 3, 3, 3, 3, 3, 3, 3, 3, 3, 3, 3, 3, 3, 3, 3, 3, 3, 3, 3, 3, 3, 3, 3, 3, 3, 3, 3, 3, 3, 3, 3, 3, 3, 3, 3, 3, 3, 3, 3, 3, 3, 3, 3, 3, 3, 3, 3, 3, 3, 3, 3, 3, 3, 3, 3, 3, 3, 3, 3, 3, 3, 3, 3, 3, 3, 3, 3, 3, 3, 3, 3, 3, 3, 3, 3, 3, 3, 3, 3, 3, 3, 3, 3, 3, 3, 3, 3, 3, 3, 3, 3, 3, 3, 3, 3, 3, 3, 3, 3, 3, 3, 3, 3, 3, 3, 3, 3, 3, 3, 3, 3, 3, 3, 3, 3, 3, 3, 3, 3, 3, 3, 3, 3, 3, 3, 3, 3, 3, 3, 3, 3, 3, 3, 3, 3, 3, 3, 3, 3, 3, 3, 3, 3, 3, 3, 3, 3, 3, 3, 3, 3, 3, 3, 3, 3, 3, 3, 3, 3, 3, 3, 3, 3, 3, 3, 3, 3, 3, 3, 3, 3, 3, 3, 3, 3, 3, 3, 3, 3, 3, 3, 3, 3, 3, 3, 3, 3, 3, 3, 3, 3, 3, 3, 3, 3, 3, 3, 3, 3, 3, 3, 3, 3, 3, 3, 3, 3, 3, 3, 3, 3, 3, 3, 3, 3, 3, 3, 3, 3, 3, 3, 3, 3, 3, 3, 3, 3, 3, 3, 3, 3, 3, 3, 3, 3, 3, 3, 3, 3, 3, 3, 3, 3, 3, 3, 3, 3, 3, 3, 3, 3, 3, 3, 3, 3, 3, 3, 3, 3, 3, 3, 3, 3, 3, 3, 3, 3, 3, 3, 3, 3, 3, 3, 3, 3, 3, 3, 3, 3, 3, 3, 3, 3, 3, 3, 3, 3, 3, 3, 3, 3, 3, 3, 3, 3, 3, 3, 3, 3, 3, 3, 3, 3, 3, 3, 3, 3, 3, 3, 3, 3, 3, 3, 3, 3, 3, 3, 3, 3, 3, 3, 3, 3, 3, 3, 3, 3, 3, 3, 3, 3, 3, 3, 3, 3, 3, 3, 3, 3, 3, 3, 3, 3, 3, 3, 3, 3, 3, 3, 3, 3, 3, 3, 3, 3, 3, 3, 3, 3, 3, 3, 3, 3, 3, 3, 3, 3, 3, 3, 3, 3, 3, 3, 3, 3, 3, 3, 3, 3, 3, 3, 3, 3, 3, 3, 3, 3, 3, 3, 3, 3, 3, 3, 3, 3, 3, 3, 3, 3, 3, 3, 3, 3, 3, 3, 3, 3, 3, 3, 3, 3, 3, 3, 3, 3, 3, 3, 3, 3, 3, 3, 3, 3, 3, 3, 3, 3, 3, 3, 3, 3, 3, 3, 3, 3, 3, 3, 3, 3, 3, 3, 3, 3, 3, 3, 3, 3, 3, 3, 3, 3, 3, 3, 3, 3, 3, 3, 3, 3, 3, 3, 3, 3, 3, 3, 3, 3, 3, 3, 3, 3, 3, 3, 3, 3, 3, 3, 3, 3, 3, 3, 3, 3, 3, 3, 3, 3, 3, 3, 3, 3, 3, 3, 3, 3, 3, 3, 3, 3, 3, 3, 3, 3, 3, 3, 3, 3, 3, 3, 3, 3, 3, 3, 3, 3, 3, 3, 3, 3, 3, 3, 3, 3, 3, 3, 3, 3, 3, 3, 3, 3, 3, 3, 3, 3, 3, 3, 3, 3, 3, 3, 3, 3, 3, 3, 3, 3, 3, 3, 3, 3, 3, 3, 3, 3, 3, 3, 3, 3, 3, 3, 3, 3, 3, 3, 3, 3, 3, 3, 3, 3, 3, 3, 3, 3, 3, 3, 3, 3, 3, 3, 3, 3, 3, 3, 3, 3, 3, 3, 3, 3, 3, 3, 3, 3, 3, 3, 3, 3, 3, 3, 3, 3, 3, 3, 3, 3, 3, 3, 3, 3, 3, 3, 3, 3, 3, 3, 3, 3, 3, 3, 3, 3, 3, 3, 3, 3, 3, 3, 3, 3, 3, 3, 3, 3, 3, 3, 3, 3, 3, 3, 3, 3, 3, 3, 3, 3, 3, 3, 3, 3, 3, 3, 3, 3, 3, 3, 3, 3, 3, 3, 3, 3, 3, 3, 3, 3, 3, 3, 3, 3, 3, 3, 3, 3, 3, 3, 3, 3, 3, 3, 3, 3, 3, 3, 3, 3, 3, 3, 3, 3, 3, 3, 3, 3, 3, 3, 3, 3, 3, 3, 3, 3, 3, 3, 3, 3, 3, 3, 3, 3, 3, 3, 3, 3, 3, 3, 3, 3, 3, 3, 3, 3, 3, 3, 3, 3, 3, 3, 3, 3, 3, 3, 3, 3, 3, 3, 3, 3, 3, 3, 3, 3, 3, 3, 3, 3, 3, 3, 3, 3, 3, 3, 3, 3, 3, 3, 3, 3, 3, 3, 3, 3, 3, 3, 3, 3, 3, 3, 3, 3, 3, 3, 3, 3, 3, 3, 3, 3, 3, 3, 3, 3, 3, 3, 3, 3, 3, 3, 3, 3, 3, 3, 3, 3, 3, 3, 3, 3, 3, 3, 3, 3, 3, 3, 3, 3, 3, 3, 3, 3, 3, 3, 3, 3, 3, 3, 3, 3, 3, 3, 3, 3, 3, 3, 3, 3, 3, 3, 3, 3, 3, 3, 3, 3, 3, 3, 3, 3, 3, 3, 3, 3, 3, 3, 3, 3, 3, 3, 3, 3, 3, 3, 3, 3, 3, 3, 3, 3, 3, 3, 3, 3, 3, 3, 3, 3, 3, 3, 3, 3, 3, 3, 3, 3, 3, 3, 3, 3, 3, 3, 3, 3, 3, 3, 3, 3, 3, 3, 3, 3, 3, 3, 3, 3, 3, 3, 3, 3, 3, 3, 3, 3, 3, 3, 3, 3, 3, 3, 3, 3, 3, 3, 3, 3, 3, 3, 3, 3, 3, 3, 3, 3, 3, 3, 3, 3, 3, 3, 3, 3, 3, 3, 3, 3, 3, 3, 3, 3, 3, 3, 3, 3, 3, 3, 3, 3, 3, 3, 3, 3, 3, 3, 3, 3, 3, 3, 3, 3, 3, 3, 3, 3, 3, 3, 3, 3, 3, 3, 3, 3, 3, 3, 3, 3, 3, 3, 3, 3, 3, 3, 3, 3, 3, 3, 3, 3, 3, 3, 3, 3, 3, 3, 3, 3, 3, 3, 3, 3, 3, 3, 3, 3, 3, 3, 3, 3, 3, 3, 3, 3, 3, 3, 3, 3, 3, 3, 3, 3, 3, 3, 3, 3, 3, 3, 3, 3, 3, 3, 3, 3, 3, 3, 3, 3, 3, 3, 3, 3, 3, 3, 3, 3, 3, 3, 3, 3, 3, 3, 3, 3, 3, 3, 3, 3, 3, 3, 3, 3, 3, 3, 3, 3, 3, 3, 3, 3, 3, 3, 3, 3, 3, 3, 3, 3, 3, 3, 3, 3, 3, 3, 3, 3, 3, 3, 3, 3, 3, 3, 3, 3, 3, 3, 3, 3, 3, 3, 3, 3, 3, 3, 3, 3, 3, 3, 3, 3, 3, 3, 3, 3, 3, 3, 3, 3, 3, 3, 3, 3, 3, 3, 3, 3, 3, 3, 3, 3, 3, 3, 3, 3, 3, 3, 3, 3, 3, 3, 3, 3, 3, 3, 3, 3, 3, 3, 3, 3, 3, 3, 3, 3, 3, 3, 3, 3, 3, 3, 3, 3, 3, 3, 3, 3, 3, 3, 3, 3, 3, 3, 3, 3, 3, 3, 3, 3, 3, 3, 3, 3, 3, 3, 3, 3, 3, 3, 3, 3, 3, 3, 3, 3, 3, 3, 3, 3, 3, 3, 3, 3, 3, 3, 3, 3, 3, 3, 3, 3, 3, 3, 3, 3, 3, 3, 3, 3, 3, 3, 3, 3, 3, 3, 3, 3, 3, 3, 3, 3, 3, 3, 3, 3, 3, 3, 3, 3, 3, 3, 3, 3, 3, 3, 3, 3, 3, 3, 3, 3, 3, 3, 3, 3, 3, 3, 3, 3, 3, 3, 3, 3, 3, 3, 3, 3, 3, 3, 3, 3, 3, 3, 3, 3, 3, 3, 3, 3, 3, 3, 3, 3, 3, 3, 3, 3, 3, 3, 3, 3, 3, 3, 3, 3, 3, 3, 3, 3, 3, 3, 3, 3, 3, 3, 3, 3, 3, 3, 3, 3, 3, 3, 3, 3, 3, 3, 3, 3, 3, 3, 3, 3, 3, 3, 3, 3, 3, 3, 3, 3, 3, 3, 3, 3, 3, 3, 3, 3, 3, 3, 3, 3, 3, 3, 3, 3, 3, 3, 3, 3, 3, 3, 3, 3, 3, 3, 3, 3, 3, 3, 3, 3, 3, 3, 3, 3, 3, 3, 3, 3, 3, 3, 3, 3, 3, 3, 3, 3, 3, 3, 3, 3, 3, 3, 3, 3, 3, 3, 3, 3, 3, 3, 3, 3, 3, 3, 3, 3, 3, 3, 3, 3, 3, 3, 3, 3, 3, 3, 3, 3, 3, 3, 3, 3, 3, 3, 3, 3, 3, 3, 3, 3, 3, 3, 3, 3, 3, 3, 3, 3, 3, 3, 3, 3, 3, 3, 3, 3, 3, 3, 3, 3, 3, 3, 3, 3, 3, 3, 3, 3, 3, 3, 3, 3, 3, 3, 3, 3, 3, 3, 3, 3, 3, 3, 3, 3, 3, 3, 3, 3, 3, 3, 3, 3, 3, 3, 3, 3, 3, 3, 3, 3, 3, 3, 3, 3, 3, 3, 3, 3, 3, 3, 3, 3, 3, 3, 3, 3, 3, 3, 3, 3, 3, 3, 3, 3, 3, 3, 3, 3, 3, 3, 3, 3, 3, 3, 3, 3, 3, 3, 3, 3, 3, 3, 3, 3, 3, 3, 3, 3, 3, 3, 3, 3, 3, 3, 3, 3, 3, 3, 3, 3, 3, 3, 3, 3, 3, 3, 3, 3, 3, 3, 3, 3, 3, 3, 3, 3, 3, 3, 3, 3, 3, 3, 3, 3, 3, 3, 3, 3, 3, 3, 3, 3, 3, 3, 3, 3, 3, 3, 3, 3, 3, 3, 3, 3, 3, 3, 3, 3, 3, 3, 3, 3, 3, 3, 3, 3, 3, 3, 3, 3, 3, 3, 3, 3, 3, 3, 3, 3, 3, 3, 3, 3, 3, 3, 3, 3, 3, 3, 3, 3, 3, 3, 3, 3, 3, 3, 3, 3, 3, 3, 3, 3, 3, 3, 3, 3, 3, 3, 3, 3, 3, 3, 3, 3, 3, 3, 3, 3, 3, 3, 3, 3, 3, 3, 3, 3, 3, 3, 3, 3, 3, 3, 3, 3, 3, 3, 3, 3, 3, 3, 3, 3, 3, 3, 3, 3, 3, 3, 3, 3, 3, 3, 3, 3, 3, 3, 3, 3, 3, 3, 3, 3, 3, 3, 3, 3, 3, 3, 3, 3, 3, 3, 3, 3, 3, 3, 3, 3, 3, 3, 3, 3, 3, 3, 3, 3, 3, 3, 3, 3, 3, 3, 3, 3, 3, 3, 3, 3, 3, 3, 3, 3, 3, 3, 3, 3, 3, 3, 3, 3, 3, 3, 3, 3, 3, 3, 3, 3, 3, 3, 3, 3, 3, 3, 3, 3, 3, 3, 3, 3, 3, 3, 3, 3, 3, 3, 3, 3, 3, 3, 3, 3, 3, 3, 3, 3, 3, 3, 3, 3, 3, 3, 3, 3, 3, 3, 3, 3, 3, 3, 3, 3, 3, 3, 3, 3, 3, 3, 3, 3, 3, 3, 3, 3, 3, 3, 3, 3, 3, 3, 3, 3, 3, 3, 3, 3, 3, 3, 3, 3, 3, 3, 3, 3, 3, 3, 3, 3, 3, 3, 3, 3, 3, 3, 3, 3, 3, 3, 3, 3, 3, 3, 3, 3, 3, 3, 3, 3, 3, 3, 3, 3, 3, 3, 3, 3, 3, 3, 3, 3, 3, 3, 3, 3, 3, 3, 3, 3, 3, 3, 3, 3, 3, 3, 3, 3, 3, 3, 3, 3, 3, 3, 3, 3, 3, 3, 3, 3, 3, 3, 3, 3, 3, 3, 3, 3, 3, 3, 3, 3, 3, 3, 3, 3, 3, 3, 3, 3, 3, 3, 3, 3, 3, 3, 3, 3, 3, 3, 3, 3, 3, 3, 3, 3, 3, 3, 3, 3, 3, 3, 3, 3, 3, 3, 3, 3, 3, 3, 3, 3, 3, 3, 3, 3, 3, 3, 3, 3, 3, 3, 3, 3, 3, 3, 3, 3, 3, 3, 3, 3, 3, 3, 3, 3, 3, 3, 3, 3, 3, 3, 3, 3, 3, 3, 3, 3, 3, 3, 3, 3, 3, 3, 3, 3, 3, 3, 3, 3, 3, 3, 3, 3, 3, 3, 3, 3, 3, 3, 3, 3, 3, 3, 3, 3, 3, 3, 3, 3, 3, 3, 3, 3, 3, 3, 3, 3, 3, 3, 3, 3, 3, 3, 3, 3, 3, 3, 3, 3, 3, 3, 3, 3, 3, 3, 3, 3, 3, 3, 3, 3, 3, 3, 3, 3, 3, 3, 3, 3, 3, 3, 3, 3, 3, 3, 3, 3, 3, 3, 3, 3, 3, 3, 3, 3, 3, 3, 3, 3, 3, 3, 3, 3, 3, 3, 3, 3, 3, 3, 3, 3, 3, 3, 3, 3, 3, 3, 3, 3, 3, 3, 3, 3, 3, 3, 3, 3, 3, 3, 3, 3, 3, 3, 3, 3, 3, 3, 3, 3, 3, 3, 3, 3, 3, 3, 3, 3, 3, 3, 3, 3, 3, 3, 3, 3, 3, 3, 3, 3, 3, 3, 3, 3, 3, 3, 3, 3, 3, 3, 3, 3, 3, 3, 3, 3, 3, 3, 3, 3, 3, 3, 3, 3, 3, 3, 3, 3, 3, 3, 3, 3, 3, 3, 3, 3, 3, 3, 3, 3, 3, 3, 3, 3, 3, 3, 3, 3, 3, 3, 3, 3, 3, 3, 3, 3, 3, 3, 3, 3, 3, 3, 3, 3, 3, 3, 3, 3, 3, 3, 3, 3, 3, 3, 3, 3, 3, 3, 3, 3, 3, 3, 3, 3, 3, 3, 3, 3, 3, 3, 3, 3, 3, 3, 3, 3, 3, 3, 3, 3, 3, 3, 3, 3, 3, 3, 3, 3, 3, 3, 3, 3, 3, 3, 3, 3, 3, 3, 3, 3, 3, 3, 3, 3, 3, 3, 3, 3, 3, 3, 3, 3, 3, 3, 3, 3, 3, 3, 3, 3, 3, 3, 3, 3, 3, 3, 3, 3, 3, 3, 3, 3, 3, 3, 3, 3, 3, 3, 3, 3, 3, 3, 3, 3, 3, 3, 3, 3, 3, 3, 3, 3, 3, 3, 3, 3, 3, 3, 3, 3, 3, 3, 3, 3, 3, 3, 3, 3, 3, 3, 3, 3, 3, 3, 3, 3, 3, 3, 3, 3, 3, 3, 3, 3, 3, 3, 3, 3, 3, 3, 3, 3, 3, 3, 3, 3, 3, 3, 3, 3, 3, 3, 3, 3, 3, 3, 3, 3, 3, 3, 3, 3, 3, 3, 3, 3, 3, 3, 3, 3, 3, 3, 3, 3, 3, 3, 3, 3, 3, 3, 3, 3, 3, 3, 3, 3, 3, 3, 3, 3, 3, 3, 3, 3, 3, 3, 3, 3, 3, 3, 3, 3, 3, 3, 3, 3, 3, 3, 3, 3, 3, 3, 3, 3, 3, 3, 3, 3, 3, 3, 3, 3, 3, 3, 3, 3, 3, 3, 3, 3, 3, 3, 3, 3, 3, 3, 3, 3, 3, 3, 3, 3, 3, 3, 3, 3, 3, 3, 3, 3, 3, 3, 3, 3, 3, 3, 3, 3, 3, 3, 3, 3, 3, 3, 3, 3, 3, 3, 3, 3, 3, 3, 3, 3, 3, 3, 3, 3, 3, 3, 3, 3, 3, 3, 3, 3, 3, 3, 3, 3, 3, 3, 3, 3, 3, 3, 3, 3, 3, 3, 3, 3, 3, 3, 3, 3, 3, 3, 3, 3, 3, 3, 3, 3, 3, 3, 3, 3, 3, 3, 3, 3, 3, 3, 3, 3, 3, 3, 3, 3, 3, 3, 3, 3, 3, 3, 3, 3, 3, 3, 3, 3, 3, 3, 3, 3, 3, 3, 3, 3, 3, 3, 3, 3, 3, 3, 3, 3, 3, 3, 3, 3, 3, 3, 3, 3, 3, 3, 3, 3, 3, 3, 3, 3, 3, 3, 3, 3, 3, 3, 3, 3, 3, 3, 3, 3, 3, 3, 3, 3, 3, 3, 3, 3, 3, 3, 3, 3, 3, 3, 3, 3, 3, 3, 3, 3, 3, 3, 3, 3, 3, 3, 3, 3, 3, 3, 3, 3, 3, 3, 3, 3, 3, 3, 3, 3, 3, 3, 3, 3, 3, 3, 3, 3, 3, 3, 3, 3, 3, 3, 3, 3, 3, 3, 3, 3, 3, 3, 3, 3, 3, 3, 3, 3, 3, 3, 3, 3, 3, 3, 3, 3, 3, 3, 3, 3, 3, 3, 3, 3, 3, 3, 3, 3, 3, 3, 3, 3, 3, 3, 3, 3, 3, 3, 3, 3, 3, 3, 3, 3, 3, 3, 3, 3, 3, 3, 3, 3, 3, 3, 3, 3, 3, 3, 3, 3, 3, 3, 3, 3, 3, 3, 3, 3, 3, 3, 3, 3, 3, 3, 3, 3, 3, 3, 3, 3, 3, 3, 3, 3, 3, 3, 3, 3, 3, 3, 3, 3, 3, 3, 3, 3, 3, 3, 3, 3, 3, 3, 3, 3, 3, 3, 3, 3, 3, 3, 3, 3, 3, 3, 3, 3, 3, 3, 3, 3, 3, 3, 3, 3, 3, 3, 3, 3, 3, 3, 3, 3, 3, 3, 3, 3, 3, 3, 3, 3, 3, 3, 3, 3, 3, 3, 3, 3, 3, 3, 3, 3, 3, 3, 3, 3, 3, 3, 3, 3, 3, 3, 3, 3, 3, 3, 3, 3, 3, 3, 3, 3, 3, 3, 3, 3, 3, 3, 3, 3, 3, 3, 3, 3, 3, 3, 3, 3, 3, 3, 3, 3, 3, 3, 3, 3, 3, 3, 3, 3, 3, 3, 3, 3, 3, 3, 3, 3, 3, 3, 3, 3, 3, 3, 3, 3, 3, 3, 3, 3, 3, 3, 3, 3, 3, 3, 3, 3, 3, 3, 3, 3, 3, 3, 3, 3, 3, 3, 3, 3, 3, 3, 3, 3, 3, 3, 3, 3, 3, 3, 3, 3, 3, 3, 3, 3, 3, 3, 3, 3, 3, 3, 3, 3, 3, 3, 3, 3, 3, 3, 3, 3, 3, 3, 3, 3, 3, 3, 3, 3, 3, 3, 3, 3, 3, 3, 3, 3, 3, 3, 3, 3, 3, 3, 3, 3, 3, 3, 3, 3, 3, 3, 3, 3, 3, 3, 3, 3, 3, 3, 3, 3, 3, 3, 3, 3, 3, 3, 3, 3, 3, 3, 3, 3, 3, 3, 3, 3, 3, 3, 3, 3, 3, 3, 3, 3, 3, 3, 3, 3, 3, 3, 3, 3, 3, 3, 3, 3, 3, 3, 3, 3, 3, 3, 3, 3, 3, 3, 3, 3, 3, 3, 3, 3, 3, 3, 3, 3, 3, 3, 3, 3, 3, 3, 3, 3, 3, 3, 3, 3, 3, 3, 3, 3, 3, 3, 3, 3, 3, 3, 3, 3, 3, 3, 3, 3, 3, 3, 3, 3, 3, 3, 3, 3, 3, 3, 3, 3, 3, 3, 3, 3, 3, 3, 3, 3, 3, 3, 3, 3, 3, 3, 3, 3, 3, 3, 3, 3, 3, 3, 3, 3, 3, 3, 3, 3, 3, 3, 3, 3, 3, 3, 3, 3, 3, 3, 3, 3, 3, 3, 3, 3, 3, 3, 3, 3, 3, 3, 3, 3, 3, 3, 3, 3, 3, 3, 3, 3, 3, 3, 3, 3, 3, 3, 3, 3, 3, 3, 3, 3, 3, 3, 3, 3, 3, 3, 3, 3, 3, 3, 3, 3, 3, 3, 3, 3, 3, 3, 3, 3, 3, 3, 3, 3, 3, 3, 3, 3, 3, 3, 3, 3, 3, 3, 3, 3, 3, 3, 3, 3, 3, 3, 3, 3, 3, 3, 3, 3, 3, 3, 3, 3, 3, 3, 3, 3, 3, 3, 3, 3, 3, 3, 3, 3, 3, 3, 3, 3, 3, 3, 3, 3, 3, 3, 3, 3, 3, 3, 3, 3, 3, 3, 3, 3, 3, 3, 3, 3, 3, 3, 3, 3, 3, 3, 3, 3, 3, 3, 3, 3, 3, 3, 3, 3, 3, 3, 3, 3, 3, 3, 3, 3, 3, 3, 3, 3, 3, 3, 3, 3, 3, 3, 3, 3, 3, 3, 3, 3, 3, 3, 3, 3, 3, 3, 3, 3, 3, 3, 3, 3, 3, 3, 3, 3, 3, 3, 3, 3, 3, 3, 3, 3, 3, 3, 3, 3, 3, 3, 3, 3, 3, 3, 3, 3, 3, 3, 3, 3, 3, 3, 3, 3, 3, 3, 3, 3, 3, 3, 3, 3, 3, 3, 3, 3, 3, 3, 3, 3, 3, 3, 3, 3, 3, 3, 3, 3, 3, 3, 3, 3, 3, 3, 3, 3, 3, 3, 3, 3, 3, 3, 3, 3, 3, 3, 3, 3, 3, 3, 3, 3, 3, 3, 3, 3, 3, 3, 3, 3, 3, 3, 3, 3, 3, 3, 3, 3, 3, 3, 3, 3, 3, 3, 3, 3, 3, 3, 3, 3, 3, 3, 3, 3, 3, 3, 3, 3, 3, 3, 3, 3, 3, 3, 3, 3, 3, 3, 3, 3, 3, 3, 3, 3, 3, 3, 3, 3, 3, 3, 3, 3, 3, 3, 3, 3, 3, 3, 3, 3, 3, 3, 3, 3, 3, 3, 3, 3, 3, 3, 3, 3, 3, 3, 3, 3, 3, 3, 3, 3, 3, 3, 3, 3, 3, 3, 3, 3, 3, 3, 3, 3, 3, 3, 3, 3, 3, 3, 3, 3, 3, 3, 3, 3, 3, 3, 3, 3, 3, 3, 3, 3, 3, 3, 3, 3, 3, 3, 3, 3, 3, 3, 3, 3, 3, 3, 3, 3, 3, 3, 3, 3, 3, 3, 3, 3, 3, 3, 3, 3, 3, 3, 3, 3, 3, 3, 3, 3, 3, 3, 3, 3, 3, 3, 3, 3, 3, 3, 3, 3, 3, 3, 3, 3, 3, 3, 3, 3, 3, 3, 3, 3, 3, 3, 3, 3, 3, 3, 3, 3, 3, 3, 3, 3, 3, 3, 3, 3, 3, 3, 3, 3, 3, 3, 3, 3, 3, 3, 3, 3, 3, 3, 3, 3, 3, 3, 3, 3, 3, 3, 3, 3, 3, 3, 3, 3, 3, 3, 3, 3, 3, 3, 3, 3, 3, 3, 3, 3, 3, 3, 3, 3, 3, 3, 3, 3, 3, 3, 3, 3, 3, 3, 3, 3, 3, 3, 3, 3, 3, 3, 3, 3, 3, 3, 3, 3, 3, 3, 3, 3, 3, 3, 3, 3, 3, 3, 3, 3, 3, 3, 3, 3, 3, 3, 3, 3, 3, 3, 3, 3, 3, 3, 3, 3, 3, 3, 3, 3, 3, 3, 3, 3, 3, 3, 3, 3, 3, 3, 3, 3, 3, 3, 3, 3, 3, 3, 3, 3, 3, 3, 3, 3, 3, 3, 3, 3, 3, 3, 3, 3, 3, 3, 3, 3, 3, 3, 3, 3, 3, 3, 3, 3, 3, 3, 3, 3, 3, 3, 3, 3, 3, 3, 3, 3, 3, 3, 3, 3, 3, 3, 3, 3, 3, 3, 3, 3, 3, 3, 3, 3, 3, 3, 3, 3, 3, 3, 3, 3, 3, 3, 3, 3, 3, 3, 3, 3, 3, 3, 3, 3, 3, 3, 3, 3, 3, 3, 3, 3, 3, 3, 3, 3, 3, 3, 3, 3, 3, 3, 3, 3, 3, 3, 3, 3, 3, 3, 3, 3, 3, 3, 3, 3, 3, 3, 3, 3, 3, 3, 3, 3, 3, 3, 3, 3, 3, 3, 3, 3, 3, 3, 3, 3, 3, 3, 3, 3, 3, 3, 3, 3, 3, 3, 3, 3, 3, 3, 3, 3, 3, 3, 3, 3, 3, 3, 3, 3, 3, 3, 3, 3, 3, 3, 3, 3, 3, 3, 3, 3, 3, 3, 3, 3, 3, 3, 3, 3, 3, 3, 3, 3, 3, 3, 3, 3, 3, 3, 3, 3, 3, 3, 3, 3, 3, 3, 3, 3, 3, 3, 3, 3, 3, 3, 3, 3, 3, 3, 3, 3, 3, 3, 3, 3, 3, 3, 3, 3, 3, 3, 3, 3, 3, 3, 3, 3, 3, 3, 3, 3, 3, 3, 3, 3, 3, 3, 3, 3, 3, 3, 3, 3, 3, 3, 3, 3, 3, 3, 3, 3, 3, 3, 3, 3, 3, 3, 3, 3, 3, 3, 3, 3, 3, 3, 3, 3, 3, 3, 3, 3, 3, 3, 3, 3, 3, 3, 3, 3, 3, 3, 3, 3, 3, 3, 3, 3, 3, 3, 3, 3, 3, 3, 3, 3, 3, 3, 3, 3, 3, 3, 3, 3, 3, 3, 3, 3, 3, 3, 3, 3, 3, 3, 3, 3, 3, 3, 3]\n"
       ]
      }
     ],
     "prompt_number": 12
    },
    {
     "cell_type": "markdown",
     "metadata": {},
     "source": [
      "####Question 3.6"
     ]
    },
    {
     "cell_type": "code",
     "collapsed": false,
     "input": [
      "import random\n",
      "def number_of_years(): #Defines the function named number of years\n",
      "    lifespan = np.arange(0,50) \n",
      "    salary = random.gauss(64000,15000)\n",
      "    debt = random.gauss(29914,20000)\n",
      "    interest = random.gauss(1.05,0.01)\n",
      "    count = 0\n",
      "    for elements in lifespan:#For loop to calculate number of years to pay off debt\n",
      "        if (debt <= 0):\n",
      "            return 0\n",
      "        count += 1\n",
      "        payment_rate = random.gauss(0.2,0.05)\n",
      "        debt -= salary * payment_rate\n",
      "        debt *= interest\n",
      "        yearly_raise = random.gauss(1.05,0.01)\n",
      "        salary *= yearly_raise\n",
      "        if (debt <= 0): #Once the debt is paid off, stop the loop\n",
      "            break\n",
      "    return count #Returns the number of times the loop was iterated aka the number of years to pay off debt\n",
      "\n",
      "ten_thousand_samples = [] #Creates an empty list which will eventually include 10000 samples\n",
      "n = 10000 #Number of times the function will be appended \n",
      "for elements in range(n): #For loop to iterate the function n times\n",
      "    ten_thousand_samples.append(number_of_years()) #Appeneds the list to include the iterated loop\n",
      "print ten_thousand_samples #Prints the appended list with 10000 samples\n",
      "\n",
      "print 'The mean of the sample is {}' .format(np.mean(ten_thousand_samples))\n",
      "                 "
     ],
     "language": "python",
     "metadata": {},
     "outputs": [
      {
       "output_type": "stream",
       "stream": "stdout",
       "text": [
        "[3, 3, 3, 1, 0, 5, 2, 2, 2, 4, 5, 3, 2, 3, 4, 6, 2, 2, 5, 3, 7, 1, 1, 3, 6, 6, 0, 4, 9, 3, 5, 0, 3, 0, 2, 4, 4, 7, 5, 2, 0, 9, 5, 1, 1, 4, 1, 3, 3, 11, 2, 0, 8, 3, 1, 4, 4, 3, 2, 6, 1, 5, 4, 3, 1, 1, 4, 2, 2, 3, 0, 2, 5, 3, 1, 2, 4, 1, 6, 3, 2, 1, 2, 3, 3, 5, 5, 2, 0, 0, 4, 2, 3, 1, 4, 3, 5, 2, 2, 3, 3, 3, 1, 0, 5, 2, 1, 4, 3, 3, 5, 4, 11, 6, 1, 4, 1, 5, 5, 3, 3, 0, 2, 1, 0, 8, 3, 3, 2, 2, 5, 4, 4, 4, 0, 4, 5, 1, 1, 0, 2, 4, 3, 1, 3, 0, 2, 2, 8, 2, 0, 0, 3, 5, 0, 0, 3, 3, 2, 1, 2, 5, 5, 6, 0, 3, 2, 1, 3, 3, 3, 3, 3, 2, 3, 3, 1, 4, 2, 3, 3, 2, 4, 4, 0, 0, 3, 0, 2, 4, 0, 2, 5, 1, 3, 4, 2, 5, 2, 1, 2, 3, 3, 2, 0, 2, 3, 1, 4, 6, 7, 5, 3, 3, 4, 2, 3, 2, 9, 2, 2, 3, 2, 3, 5, 4, 2, 3, 3, 2, 4, 4, 1, 4, 2, 2, 2, 2, 0, 4, 2, 2, 0, 3, 3, 3, 2, 1, 1, 2, 1, 1, 5, 4, 1, 3, 1, 7, 3, 3, 4, 3, 2, 2, 1, 2, 5, 4, 3, 4, 3, 0, 3, 3, 3, 1, 2, 1, 2, 0, 5, 2, 1, 2, 3, 2, 3, 11, 4, 0, 4, 3, 3, 4, 4, 2, 5, 3, 3, 4, 18, 2, 2, 2, 3, 0, 4, 3, 3, 7, 3, 2, 2, 4, 2, 1, 2, 3, 4, 4, 4, 3, 0, 6, 3, 1, 4, 3, 2, 1, 2, 0, 2, 0, 3, 1, 5, 3, 1, 3, 2, 2, 12, 4, 2, 1, 4, 3, 7, 1, 2, 2, 3, 3, 1, 4, 1, 0, 3, 3, 0, 2, 1, 3, 2, 4, 4, 0, 2, 8, 3, 6, 6, 2, 3, 5, 4, 0, 7, 5, 2, 3, 0, 2, 2, 3, 2, 4, 2, 3, 5, 1, 2, 3, 5, 5, 5, 1, 5, 1, 3, 3, 4, 2, 1, 1, 2, 0, 2, 5, 3, 7, 1, 3, 0, 4, 2, 2, 6, 3, 2, 2, 3, 2, 1, 2, 5, 3, 2, 5, 2, 2, 2, 0, 3, 3, 2, 7, 4, 3, 3, 2, 5, 1, 2, 3, 3, 2, 8, 0, 6, 2, 6, 1, 2, 2, 4, 2, 3, 1, 3, 2, 2, 3, 4, 4, 1, 4, 2, 2, 2, 1, 3, 3, 6, 1, 0, 5, 7, 3, 5, 5, 4, 5, 0, 2, 1, 6, 3, 4, 4, 5, 4, 0, 4, 5, 12, 2, 4, 3, 4, 5, 1, 7, 3, 0, 7, 1, 2, 1, 1, 2, 2, 2, 3, 4, 4, 3, 4, 1, 9, 4, 2, 4, 3, 1, 3, 2, 6, 7, 3, 2, 5, 5, 2, 0, 1, 1, 2, 2, 2, 0, 1, 4, 4, 5, 3, 2, 2, 7, 3, 7, 7, 3, 1, 2, 3, 6, 2, 5, 1, 1, 3, 4, 3, 2, 2, 1, 3, 1, 4, 8, 7, 5, 2, 3, 4, 6, 5, 0, 4, 1, 7, 6, 3, 6, 2, 6, 5, 4, 5, 2, 3, 1, 2, 1, 8, 4, 5, 1, 4, 3, 7, 4, 6, 5, 2, 2, 2, 2, 2, 3, 3, 3, 6, 3, 2, 0, 1, 2, 4, 5, 2, 2, 5, 0, 4, 3, 8, 1, 2, 6, 3, 3, 2, 2, 2, 5, 2, 4, 3, 1, 0, 0, 7, 0, 3, 8, 2, 3, 5, 4, 3, 0, 4, 4, 3, 2, 2, 4, 4, 2, 2, 1, 2, 4, 3, 0, 1, 1, 3, 2, 3, 0, 0, 3, 0, 3, 2, 2, 4, 7, 1, 6, 3, 3, 2, 2, 3, 2, 6, 5, 3, 4, 3, 6, 8, 3, 1, 6, 8, 5, 5, 7, 2, 3, 4, 2, 2, 2, 4, 3, 1, 2, 3, 1, 4, 3, 6, 3, 2, 3, 0, 2, 3, 3, 0, 2, 1, 1, 5, 3, 4, 6, 1, 3, 1, 3, 4, 4, 2, 4, 2, 3, 4, 1, 1, 1, 3, 6, 4, 4, 1, 4, 5, 5, 4, 4, 2, 2, 0, 2, 5, 5, 5, 2, 0, 4, 6, 2, 5, 1, 3, 1, 7, 0, 1, 13, 1, 3, 3, 4, 4, 3, 2, 3, 2, 4, 2, 3, 3, 1, 2, 1, 4, 2, 6, 1, 2, 3, 2, 0, 4, 4, 1, 3, 3, 4, 3, 5, 0, 3, 4, 2, 2, 0, 3, 4, 2, 3, 6, 1, 3, 5, 5, 3, 2, 3, 2, 2, 4, 4, 5, 2, 2, 7, 2, 1, 5, 5, 3, 3, 1, 3, 6, 2, 2, 3, 8, 3, 5, 4, 6, 5, 1, 3, 4, 1, 2, 3, 4, 3, 5, 1, 2, 7, 3, 3, 1, 0, 4, 4, 4, 3, 4, 3, 2, 4, 3, 4, 3, 7, 0, 3, 2, 5, 2, 5, 5, 6, 5, 3, 3, 3, 2, 2, 3, 3, 0, 2, 6, 4, 0, 6, 5, 4, 6, 4, 2, 2, 0, 11, 3, 4, 2, 1, 2, 6, 4, 1, 3, 1, 4, 3, 1, 4, 1, 1, 1, 3, 4, 2, 1, 4, 4, 5, 3, 3, 1, 5, 4, 4, 2, 2, 7, 3, 3, 1, 2, 2, 2, 0, 2, 11, 3, 1, 1, 3, 3, 5, 1, 3, 3, 3, 4, 2, 0, 5, 5, 5, 7, 2, 4, 5, 3, 4, 5, 0, 3, 2, 2, 0, 4, 8, 4, 5, 6, 2, 2, 4, 2, 4, 7, 3, 1, 5, 1, 4, 1, 1, 1, 1, 2, 4, 5, 1, 5, 3, 2, 5, 5, 2, 1, 1, 4, 0, 3, 3, 3, 4, 4, 0, 1, 2, 0, 2, 0, 2, 2, 3, 2, 3, 3, 1, 1, 3, 0, 5, 2, 2, 0, 5, 3, 3, 4, 3, 7, 0, 0, 3, 3, 4, 3, 3, 2, 2, 4, 2, 5, 3, 4, 5, 0, 2, 7, 4, 3, 3, 6, 0, 2, 5, 6, 2, 3, 2, 3, 1, 4, 3, 6, 3, 1, 3, 2, 4, 4, 2, 2, 4, 3, 3, 2, 3, 2, 6, 4, 4, 3, 2, 4, 3, 1, 3, 2, 2, 2, 2, 5, 1, 8, 3, 7, 4, 3, 2, 4, 3, 1, 10, 0, 3, 3, 1, 2, 7, 2, 4, 4, 1, 3, 3, 0, 5, 0, 7, 4, 1, 3, 4, 3, 1, 5, 2, 1, 2, 5, 1, 2, 1, 2, 2, 1, 0, 1, 2, 2, 3, 3, 3, 1, 3, 2, 0, 2, 4, 2, 3, 4, 4, 5, 3, 4, 2, 2, 2, 8, 0, 1, 2, 3, 1, 4, 5, 4, 5, 6, 1, 6, 0, 3, 3, 9, 3, 5, 3, 1, 2, 3, 3, 5, 5, 3, 0, 4, 2, 4, 2, 1, 3, 3, 2, 5, 9, 3, 6, 2, 0, 3, 3, 5, 4, 1, 3, 6, 2, 3, 1, 2, 4, 5, 2, 5, 8, 3, 1, 4, 4, 4, 1, 4, 2, 2, 2, 5, 3, 5, 5, 3, 1, 5, 3, 3, 3, 5, 1, 4, 5, 2, 0, 1, 1, 1, 6, 1, 4, 4, 2, 3, 1, 1, 4, 5, 3, 3, 2, 2, 4, 5, 5, 2, 3, 4, 0, 2, 6, 1, 3, 7, 5, 3, 5, 2, 2, 5, 2, 4, 3, 4, 4, 2, 0, 0, 3, 5, 4, 4, 4, 2, 4, 2, 1, 4, 2, 3, 3, 5, 2, 3, 4, 2, 3, 3, 2, 3, 5, 3, 3, 4, 0, 4, 2, 5, 6, 4, 2, 3, 4, 0, 1, 3, 1, 1, 2, 4, 5, 2, 4, 1, 3, 2, 4, 3, 2, 1, 4, 3, 4, 8, 5, 4, 3, 3, 3, 5, 2, 2, 0, 4, 0, 4, 3, 3, 2, 2, 5, 3, 2, 2, 2, 0, 4, 2, 1, 3, 3, 1, 7, 3, 0, 7, 1, 6, 0, 3, 4, 1, 4, 4, 0, 5, 4, 4, 3, 4, 3, 3, 3, 3, 4, 2, 5, 6, 4, 5, 4, 2, 1, 1, 1, 5, 5, 3, 7, 5, 5, 0, 3, 0, 4, 4, 1, 6, 8, 1, 5, 4, 3, 3, 2, 1, 2, 0, 3, 4, 1, 1, 5, 2, 4, 4, 3, 3, 3, 6, 3, 2, 3, 2, 2, 4, 3, 3, 3, 4, 1, 6, 6, 4, 0, 3, 3, 2, 4, 6, 5, 14, 4, 2, 4, 5, 3, 1, 4, 4, 2, 1, 3, 2, 2, 5, 3, 4, 3, 0, 1, 4, 3, 2, 4, 3, 2, 4, 9, 2, 1, 4, 3, 2, 4, 3, 2, 5, 4, 5, 1, 6, 3, 1, 2, 6, 0, 1, 2, 3, 2, 3, 2, 4, 4, 3, 3, 0, 0, 4, 4, 3, 5, 4, 3, 5, 2, 5, 6, 3, 4, 2, 2, 3, 6, 1, 2, 0, 3, 2, 2, 1, 4, 5, 4, 3, 4, 4, 3, 5, 2, 4, 3, 3, 5, 1, 5, 3, 1, 1, 3, 3, 1, 2, 4, 0, 4, 2, 2, 4, 0, 6, 2, 2, 3, 4, 3, 7, 3, 5, 4, 1, 4, 7, 2, 3, 6, 2, 3, 3, 3, 4, 4, 2, 3, 1, 4, 3, 2, 0, 8, 5, 4, 3, 5, 3, 4, 4, 3, 1, 4, 8, 3, 2, 3, 4, 2, 0, 4, 5, 3, 4, 4, 3, 1, 3, 1, 5, 5, 5, 0, 3, 4, 4, 1, 2, 1, 4, 1, 2, 0, 4, 6, 3, 0, 1, 2, 2, 0, 3, 3, 4, 5, 0, 7, 4, 2, 2, 3, 0, 1, 1, 5, 5, 3, 3, 5, 1, 3, 2, 5, 4, 1, 4, 6, 5, 2, 1, 4, 3, 4, 2, 4, 5, 1, 6, 3, 3, 2, 4, 3, 5, 1, 4, 4, 3, 5, 4, 2, 3, 6, 3, 2, 3, 2, 3, 4, 3, 3, 4, 2, 5, 3, 5, 3, 6, 1, 0, 2, 0, 0, 2, 5, 2, 1, 2, 0, 0, 2, 8, 3, 5, 4, 2, 3, 7, 5, 4, 1, 2, 0, 3, 2, 4, 5, 3, 4, 1, 1, 1, 4, 3, 1, 4, 1, 3, 3, 3, 2, 6, 2, 4, 3, 4, 2, 2, 2, 4, 0, 2, 4, 4, 5, 4, 3, 5, 4, 4, 1, 2, 6, 2, 3, 5, 2, 5, 4, 2, 4, 2, 2, 5, 3, 2, 2, 3, 4, 3, 3, 3, 4, 0, 2, 5, 3, 0, 0, 2, 3, 1, 3, 3, 6, 1, 4, 11, 2, 2, 1, 3, 3, 2, 5, 2, 5, 2, 1, 0, 4, 4, 4, 2, 3, 0, 0, 2, 3, 2, 3, 3, 3, 5, 8, 5, 2, 0, 4, 15, 4, 5, 2, 4, 2, 2, 0, 5, 3, 4, 2, 1, 6, 2, 2, 3, 2, 4, 11, 7, 6, 2, 11, 3, 1, 1, 2, 2, 1, 3, 2, 2, 5, 5, 4, 2, 7, 2, 2, 3, 3, 1, 3, 3, 4, 2, 4, 0, 3, 3, 5, 3, 1, 5, 2, 1, 2, 3, 6, 3, 4, 4, 4, 2, 0, 1, 2, 2, 2, 1, 2, 4, 3, 1, 7, 3, 2, 3, 2, 5, 2, 3, 2, 4, 4, 4, 1, 1, 4, 3, 6, 2, 0, 2, 5, 3, 3, 2, 1, 3, 1, 2, 2, 0, 5, 2, 0, 3, 0, 3, 2, 3, 3, 2, 1, 2, 4, 3, 2, 2, 5, 4, 3, 4, 5, 3, 4, 5, 4, 2, 2, 5, 2, 2, 3, 4, 1, 9, 3, 3, 4, 1, 2, 0, 3, 5, 4, 5, 3, 2, 7, 3, 5, 3, 3, 1, 1, 1, 6, 4, 0, 7, 4, 0, 4, 5, 3, 3, 3, 6, 1, 0, 3, 3, 6, 1, 5, 0, 3, 1, 6, 3, 2, 0, 3, 1, 5, 2, 3, 3, 4, 3, 0, 7, 3, 3, 4, 1, 5, 3, 2, 6, 2, 3, 2, 2, 2, 4, 8, 6, 7, 5, 3, 2, 3, 3, 3, 1, 9, 1, 6, 6, 2, 3, 0, 1, 0, 0, 1, 1, 4, 4, 4, 7, 1, 4, 11, 0, 2, 2, 1, 6, 0, 1, 6, 2, 4, 5, 9, 4, 3, 0, 1, 5, 4, 5, 5, 2, 4, 1, 1, 1, 3, 3, 4, 3, 4, 3, 3, 3, 5, 8, 1, 1, 2, 4, 6, 3, 0, 2, 2, 2, 5, 3, 1, 0, 6, 2, 2, 3, 5, 2, 6, 3, 2, 5, 3, 3, 10, 4, 0, 3, 1, 3, 3, 3, 2, 4, 3, 2, 2, 1, 1, 1, 5, 1, 0, 3, 2, 5, 2, 6, 3, 2, 7, 4, 1, 6, 2, 1, 2, 4, 5, 4, 7, 6, 6, 2, 2, 4, 6, 3, 4, 0, 2, 0, 8, 6, 4, 4, 1, 4, 2, 3, 1, 1, 7, 5, 4, 1, 3, 4, 5, 5, 4, 2, 2, 2, 2, 1, 3, 2, 2, 5, 5, 4, 3, 5, 4, 9, 1, 2, 4, 3, 2, 5, 1, 2, 4, 0, 7, 2, 6, 2, 4, 1, 3, 4, 1, 3, 1, 4, 3, 2, 2, 4, 4, 1, 6, 2, 4, 2, 1, 2, 0, 3, 5, 4, 2, 3, 0, 0, 5, 3, 3, 4, 12, 4, 3, 4, 3, 5, 4, 2, 4, 2, 3, 0, 2, 3, 5, 6, 2, 3, 5, 2, 1, 2, 4, 2, 3, 5, 4, 0, 1, 3, 4, 4, 5, 3, 4, 1, 1, 5, 8, 3, 2, 3, 2, 3, 0, 6, 0, 4, 3, 3, 3, 2, 4, 2, 5, 4, 4, 2, 1, 3, 9, 3, 6, 3, 4, 2, 2, 4, 4, 0, 0, 4, 1, 8, 4, 4, 4, 4, 4, 3, 2, 3, 2, 2, 1, 3, 2, 3, 0, 2, 0, 5, 0, 2, 5, 8, 2, 3, 1, 3, 1, 4, 3, 2, 4, 2, 3, 1, 7, 4, 4, 3, 1, 4, 3, 6, 2, 3, 7, 4, 2, 6, 4, 6, 0, 2, 3, 3, 2, 5, 3, 4, 5, 4, 3, 3, 3, 2, 1, 0, 4, 3, 3, 2, 1, 5, 2, 6, 2, 3, 5, 1, 5, 4, 4, 0, 3, 2, 5, 3, 2, 4, 4, 4, 3, 1, 0, 2, 2, 2, 2, 3, 2, 8, 3, 2, 3, 3, 3, 2, 2, 3, 3, 3, 4, 2, 2, 1, 8, 8, 4, 3, 3, 2, 6, 3, 1, 4, 6, 1, 1, 3, 3, 5, 9, 5, 2, 3, 2, 3, 4, 3, 5, 4, 2, 4, 8, 4, 2, 2, 6, 4, 3, 1, 4, 3, 2, 2, 4, 1, 3, 3, 9, 4, 3, 5, 6, 5, 2, 4, 1, 0, 3, 2, 2, 5, 2, 5, 4, 0, 2, 3, 3, 3, 7, 5, 2, 3, 6, 2, 3, 5, 1, 4, 1, 3, 5, 2, 2, 5, 1, 1, 2, 4, 3, 3, 0, 5, 3, 3, 5, 1, 2, 5, 2, 2, 5, 2, 4, 5, 2, 1, 3, 2, 4, 4, 3, 0, 2, 6, 2, 0, 3, 3, 5, 3, 5, 3, 3, 1, 2, 4, 2, 1, 2, 1, 2, 0, 1, 3, 2, 6, 3, 3, 3, 1, 1, 4, 3, 2, 3, 2, 0, 1, 1, 4, 2, 3, 2, 1, 2, 0, 1, 1, 3, 5, 3, 2, 5, 2, 1, 1, 2, 1, 2, 4, 4, 3, 1, 5, 1, 2, 2, 5, 3, 5, 4, 4, 4, 3, 4, 0, 3, 3, 2, 1, 0, 3, 1, 5, 0, 2, 3, 1, 0, 3, 4, 0, 8, 2, 4, 5, 4, 1, 5, 1, 5, 1, 1, 6, 3, 2, 8, 5, 1, 3, 2, 3, 3, 3, 5, 3, 7, 1, 6, 5, 4, 1, 5, 2, 7, 3, 3, 3, 5, 1, 7, 2, 0, 2, 1, 3, 4, 0, 1, 5, 2, 0, 2, 1, 6, 6, 1, 1, 4, 3, 3, 6, 11, 0, 3, 4, 4, 3, 5, 3, 3, 0, 8, 3, 5, 7, 2, 3, 7, 4, 4, 4, 3, 5, 3, 4, 2, 3, 3, 2, 2, 2, 5, 1, 3, 4, 4, 4, 4, 4, 6, 5, 2, 2, 3, 2, 3, 3, 1, 8, 5, 3, 7, 6, 0, 1, 4, 1, 3, 3, 2, 0, 3, 5, 2, 4, 4, 1, 1, 3, 4, 2, 5, 3, 2, 0, 4, 5, 3, 1, 2, 0, 3, 2, 5, 4, 1, 3, 3, 6, 2, 2, 3, 3, 1, 2, 4, 7, 4, 4, 3, 5, 4, 3, 3, 2, 8, 6, 3, 2, 2, 5, 1, 0, 5, 1, 4, 3, 4, 1, 1, 3, 0, 6, 4, 4, 3, 2, 2, 3, 5, 3, 3, 2, 1, 2, 5, 3, 5, 0, 1, 0, 2, 2, 1, 2, 1, 2, 2, 2, 2, 2, 1, 3, 1, 4, 3, 1, 2, 2, 2, 1, 3, 2, 4, 2, 4, 1, 1, 2, 5, 0, 3, 2, 4, 3, 7, 1, 4, 2, 3, 5, 4, 2, 6, 2, 1, 2, 0, 1, 0, 2, 2, 1, 1, 1, 4, 2, 0, 4, 0, 3, 4, 4, 1, 2, 3, 3, 4, 4, 2, 3, 4, 3, 2, 2, 0, 1, 4, 2, 5, 5, 3, 2, 1, 3, 3, 6, 3, 4, 3, 3, 4, 3, 8, 0, 1, 8, 0, 3, 0, 3, 2, 5, 2, 2, 2, 3, 0, 9, 3, 4, 4, 2, 6, 2, 6, 2, 1, 0, 3, 2, 2, 0, 1, 3, 4, 1, 2, 4, 2, 2, 4, 7, 2, 2, 4, 0, 10, 2, 6, 4, 5, 2, 0, 4, 8, 3, 4, 4, 5, 2, 3, 3, 2, 3, 1, 5, 6, 3, 1, 4, 4, 3, 0, 1, 3, 3, 2, 3, 3, 2, 3, 1, 7, 1, 2, 4, 2, 1, 2, 2, 4, 1, 3, 0, 1, 0, 3, 2, 4, 2, 5, 2, 2, 6, 0, 5, 4, 9, 2, 11, 3, 2, 2, 2, 2, 3, 2, 2, 4, 4, 0, 0, 1, 2, 4, 3, 3, 3, 5, 3, 1, 1, 3, 5, 1, 2, 1, 2, 2, 5, 1, 3, 0, 4, 3, 3, 2, 1, 2, 3, 5, 3, 3, 4, 4, 4, 6, 0, 3, 3, 3, 4, 3, 4, 3, 3, 3, 1, 2, 6, 2, 2, 3, 3, 4, 5, 2, 2, 10, 2, 2, 2, 4, 6, 5, 6, 5, 5, 0, 0, 1, 4, 2, 1, 2, 1, 2, 6, 3, 2, 5, 1, 0, 5, 4, 3, 3, 2, 1, 1, 3, 3, 4, 4, 4, 4, 2, 2, 2, 2, 6, 3, 3, 3, 2, 5, 4, 4, 0, 2, 2, 2, 3, 1, 6, 2, 2, 2, 6, 5, 2, 1, 3, 1, 3, 0, 3, 3, 1, 2, 0, 2, 4, 2, 1, 1, 2, 2, 6, 5, 6, 3, 9, 8, 5, 1, 3, 1, 6, 4, 3, 3, 3, 2, 6, 5, 2, 7, 6, 2, 5, 6, 3, 2, 1, 2, 6, 0, 0, 4, 2, 4, 3, 5, 1, 2, 7, 4, 6, 1, 2, 4, 9, 3, 2, 1, 0, 4, 4, 0, 3, 4, 2, 2, 5, 4, 3, 5, 3, 3, 3, 3, 1, 3, 8, 1, 4, 0, 3, 4, 1, 4, 0, 4, 1, 2, 1, 4, 2, 0, 4, 2, 2, 1, 4, 5, 4, 4, 2, 3, 1, 3, 3, 2, 3, 1, 6, 5, 3, 2, 4, 7, 1, 3, 3, 2, 6, 1, 6, 2, 3, 4, 4, 4, 0, 5, 4, 3, 3, 3, 3, 1, 5, 3, 3, 5, 5, 0, 5, 3, 4, 1, 3, 2, 0, 1, 1, 4, 2, 3, 5, 5, 2, 1, 0, 3, 3, 1, 3, 3, 3, 4, 1, 5, 1, 2, 2, 2, 4, 2, 1, 3, 2, 3, 1, 3, 6, 4, 1, 2, 4, 2, 4, 4, 2, 3, 0, 2, 0, 1, 3, 2, 6, 12, 1, 7, 3, 5, 2, 3, 3, 6, 5, 3, 5, 3, 4, 1, 2, 2, 3, 4, 1, 2, 4, 2, 1, 3, 2, 2, 5, 0, 5, 3, 3, 4, 2, 2, 4, 0, 4, 0, 3, 7, 4, 4, 0, 2, 3, 5, 3, 3, 3, 2, 1, 4, 3, 2, 4, 2, 2, 0, 7, 1, 2, 6, 2, 4, 1, 1, 5, 7, 3, 5, 3, 1, 1, 3, 2, 1, 3, 3, 3, 2, 5, 5, 2, 2, 2, 2, 5, 1, 3, 5, 5, 3, 5, 2, 6, 2, 3, 2, 3, 4, 2, 0, 4, 5, 2, 0, 3, 3, 1, 1, 2, 5, 6, 4, 3, 3, 1, 1, 2, 3, 2, 2, 3, 3, 5, 3, 1, 3, 2, 3, 4, 3, 3, 1, 4, 1, 5, 3, 1, 4, 3, 1, 3, 2, 5, 4, 2, 1, 4, 2, 1, 2, 4, 4, 3, 4, 1, 3, 4, 3, 2, 5, 1, 2, 8, 1, 2, 2, 4, 2, 2, 3, 1, 2, 4, 0, 2, 2, 1, 3, 3, 3, 2, 3, 2, 4, 4, 2, 3, 3, 2, 4, 1, 1, 5, 2, 1, 3, 3, 0, 1, 2, 0, 3, 5, 3, 4, 2, 4, 1, 4, 4, 0, 4, 3, 2, 2, 2, 3, 3, 6, 2, 4, 4, 4, 4, 4, 2, 0, 2, 1, 4, 1, 6, 2, 2, 4, 3, 2, 2, 3, 4, 0, 3, 1, 3, 2, 2, 2, 3, 2, 2, 1, 1, 5, 4, 1, 2, 1, 4, 5, 4, 3, 6, 5, 4, 2, 2, 3, 1, 2, 3, 3, 4, 2, 4, 4, 2, 4, 4, 3, 2, 3, 3, 2, 0, 1, 4, 2, 4, 3, 3, 2, 7, 2, 8, 2, 4, 5, 2, 4, 2, 7, 4, 8, 6, 2, 0, 5, 4, 1, 2, 3, 3, 4, 2, 3, 12, 3, 6, 3, 5, 2, 1, 2, 2, 6, 4, 4, 2, 8, 2, 4, 0, 1, 3, 5, 3, 3, 4, 4, 2, 2, 3, 2, 6, 3, 4, 1, 10, 1, 4, 0, 4, 0, 3, 0, 5, 4, 3, 0, 3, 2, 2, 2, 2, 2, 4, 1, 5, 0, 5, 0, 4, 3, 1, 2, 2, 3, 2, 3, 5, 1, 4, 2, 2, 3, 0, 2, 1, 3, 4, 1, 3, 2, 9, 0, 2, 2, 3, 4, 4, 8, 2, 2, 5, 3, 3, 3, 3, 3, 5, 3, 2, 0, 5, 0, 2, 0, 2, 3, 2, 4, 3, 2, 6, 1, 3, 1, 3, 6, 2, 2, 5, 1, 2, 1, 3, 2, 5, 2, 6, 3, 3, 3, 1, 0, 5, 4, 2, 2, 1, 3, 5, 3, 3, 3, 1, 5, 1, 1, 3, 0, 2, 2, 3, 4, 5, 3, 5, 2, 3, 3, 3, 1, 2, 1, 4, 6, 6, 4, 4, 3, 4, 3, 0, 8, 4, 0, 1, 3, 2, 1, 0, 3, 3, 5, 1, 4, 0, 2, 7, 4, 4, 9, 3, 7, 4, 2, 1, 2, 6, 3, 5, 2, 4, 6, 1, 4, 3, 0, 1, 3, 5, 3, 5, 2, 4, 5, 2, 3, 3, 1, 4, 0, 6, 2, 2, 2, 0, 3, 2, 4, 2, 2, 7, 3, 2, 2, 2, 0, 4, 4, 4, 3, 3, 3, 2, 4, 4, 3, 2, 1, 2, 5, 2, 3, 1, 4, 1, 5, 2, 7, 1, 0, 2, 1, 0, 4, 5, 3, 4, 3, 2, 3, 3, 3, 3, 3, 5, 2, 3, 3, 1, 2, 6, 6, 3, 2, 0, 2, 6, 0, 5, 2, 1, 4, 2, 3, 5, 7, 3, 4, 3, 1, 5, 3, 5, 3, 2, 4, 3, 5, 3, 5, 4, 3, 4, 3, 3, 2, 6, 1, 4, 2, 4, 4, 2, 8, 2, 2, 3, 4, 1, 7, 3, 3, 3, 4, 2, 4, 3, 3, 2, 2, 4, 1, 1, 6, 6, 4, 1, 3, 6, 2, 4, 1, 4, 3, 4, 2, 3, 7, 4, 4, 2, 1, 5, 5, 5, 0, 3, 4, 4, 3, 3, 1, 0, 4, 2, 4, 1, 5, 1, 1, 4, 6, 3, 1, 1, 2, 5, 3, 4, 3, 2, 4, 3, 4, 3, 6, 3, 3, 2, 3, 3, 2, 6, 1, 2, 6, 3, 1, 5, 2, 1, 2, 7, 5, 6, 1, 7, 5, 1, 2, 7, 3, 2, 10, 6, 0, 5, 4, 3, 3, 3, 6, 8, 2, 3, 6, 2, 3, 7, 3, 3, 3, 2, 4, 2, 3, 2, 6, 3, 4, 5, 4, 4, 4, 2, 2, 3, 3, 5, 8, 5, 3, 1, 4, 4, 5, 4, 6, 6, 4, 6, 4, 1, 2, 3, 3, 4, 2, 2, 5, 0, 2, 5, 6, 4, 2, 5, 3, 3, 1, 3, 0, 2, 0, 0, 3, 4, 3, 2, 0, 8, 2, 0, 1, 7, 5, 2, 3, 5, 3, 1, 1, 4, 3, 3, 2, 2, 1, 1, 1, 6, 4, 3, 2, 2, 3, 3, 0, 0, 4, 2, 1, 4, 3, 2, 5, 4, 1, 5, 2, 3, 5, 5, 1, 3, 0, 5, 0, 3, 0, 3, 2, 4, 1, 3, 5, 4, 4, 5, 3, 2, 5, 2, 4, 0, 4, 3, 3, 3, 2, 5, 3, 5, 3, 1, 3, 7, 0, 2, 5, 3, 7, 4, 3, 1, 2, 2, 3, 3, 2, 4, 2, 5, 3, 5, 3, 1, 4, 4, 5, 2, 2, 3, 2, 1, 3, 3, 3, 2, 1, 0, 2, 3, 2, 4, 4, 1, 3, 3, 3, 1, 3, 3, 4, 7, 4, 2, 2, 0, 0, 6, 0, 3, 2, 1, 3, 0, 2, 4, 3, 0, 1, 2, 2, 3, 3, 4, 3, 2, 0, 1, 2, 2, 5, 6, 5, 2, 2, 1, 4, 0, 4, 5, 3, 5, 2, 1, 2, 3, 3, 3, 5, 6, 2, 4, 5, 4, 4, 5, 4, 0, 4, 5, 3, 3, 1, 2, 3, 1, 0, 3, 4, 3, 1, 5, 1, 5, 3, 5, 3, 4, 3, 5, 3, 4, 1, 4, 2, 4, 3, 4, 5, 5, 1, 0, 1, 4, 6, 2, 4, 1, 2, 5, 4, 3, 0, 5, 0, 5, 1, 4, 4, 3, 4, 2, 2, 3, 3, 3, 0, 0, 3, 2, 1, 0, 4, 4, 6, 2, 1, 6, 4, 0, 4, 0, 4, 2, 2, 3, 3, 1, 5, 3, 1, 4, 2, 0, 2, 1, 1, 1, 2, 4, 6, 7, 2, 2, 3, 5, 0, 3, 6, 4, 4, 4, 3, 4, 13, 4, 7, 3, 5, 3, 2, 1, 0, 3, 1, 3, 1, 4, 3, 2, 7, 1, 10, 2, 2, 2, 3, 2, 2, 4, 2, 3, 2, 4, 3, 2, 1, 2, 3, 2, 4, 4, 3, 2, 2, 4, 9, 1, 7, 0, 1, 3, 4, 0, 2, 3, 1, 4, 13, 1, 3, 3, 1, 5, 4, 7, 4, 1, 2, 2, 2, 0, 1, 5, 5, 7, 2, 3, 2, 3, 2, 1, 2, 1, 4, 9, 4, 6, 4, 1, 0, 2, 5, 4, 1, 2, 2, 2, 6, 4, 3, 0, 1, 6, 2, 6, 5, 2, 1, 1, 3, 2, 5, 2, 0, 2, 2, 2, 4, 1, 1, 3, 0, 3, 4, 1, 4, 0, 2, 3, 4, 4, 3, 4, 0, 2, 2, 0, 2, 3, 1, 7, 1, 5, 4, 3, 3, 5, 3, 3, 1, 4, 3, 5, 2, 2, 3, 3, 4, 2, 3, 3, 3, 1, 4, 2, 4, 2, 3, 4, 6, 8, 3, 2, 2, 6, 5, 0, 0, 3, 5, 3, 13, 1, 1, 8, 2, 4, 1, 4, 5, 0, 3, 2, 2, 2, 1, 3, 7, 4, 7, 9, 3, 2, 5, 5, 1, 3, 2, 0, 8, 1, 0, 2, 2, 4, 5, 2, 3, 2, 3, 7, 4, 6, 6, 3, 4, 3, 2, 8, 2, 4, 5, 3, 6, 3, 4, 2, 3, 5, 0, 2, 3, 1, 4, 3, 5, 4, 6, 1, 2, 4, 0, 5, 2, 2, 5, 3, 1, 3, 6, 3, 3, 2, 0, 10, 2, 5, 3, 4, 1, 2, 8, 3, 2, 1, 3, 3, 3, 5, 1, 4, 1, 0, 6, 4, 4, 3, 2, 2, 0, 1, 3, 1, 3, 1, 1, 4, 3, 3, 2, 3, 3, 3, 0, 3, 4, 2, 3, 5, 2, 1, 2, 3, 3, 3, 2, 0, 7, 4, 1, 3, 4, 6, 3, 3, 7, 3, 4, 1, 2, 2, 0, 3, 6, 1, 4, 1, 7, 4, 1, 2, 1, 4, 4, 2, 0, 3, 1, 8, 4, 3, 7, 0, 2, 1, 4, 4, 4, 0, 4, 5, 3, 2, 3, 3, 0, 2, 2, 4, 3, 0, 3, 3, 3, 3, 1, 1, 1, 4, 1, 5, 0, 5, 3, 3, 5, 4, 1, 4, 1, 1, 2, 4, 2, 2, 3, 3, 0, 3, 5, 4, 2, 5, 1, 3, 4, 7, 3, 1, 2, 3, 6, 4, 0, 0, 2, 3, 0, 4, 5, 0, 2, 3, 1, 5, 5, 4, 1, 0, 3, 3, 6, 3, 3, 2, 4, 4, 9, 3, 3, 4, 1, 5, 6, 1, 4, 4, 2, 3, 2, 1, 9, 2, 4, 3, 1, 2, 4, 2, 8, 1, 3, 3, 3, 2, 1, 3, 3, 3, 2, 2, 4, 3, 2, 2, 5, 4, 6, 3, 4, 8, 3, 0, 3, 3, 1, 2, 5, 4, 3, 4, 0, 3, 4, 3, 3, 0, 4, 3, 2, 0, 4, 0, 3, 1, 4, 5, 6, 1, 4, 6, 2, 0, 2, 5, 2, 2, 2, 5, 6, 6, 1, 2, 0, 3, 2, 2, 4, 2, 3, 2, 3, 5, 2, 3, 2, 1, 3, 9, 6, 3, 2, 4, 1, 5, 2, 4, 0, 7, 6, 1, 2, 1, 2, 1, 4, 5, 0, 6, 1, 5, 5, 2, 3, 4, 3, 4, 7, 5, 2, 3, 5, 5, 3, 0, 2, 1, 2, 3, 4, 1, 4, 4, 3, 2, 4, 0, 2, 2, 4, 3, 4, 2, 0, 2, 9, 3, 3, 2, 4, 1, 1, 1, 2, 3, 4, 3, 1, 5, 5, 0, 2, 0, 5, 1, 4, 1, 3, 4, 1, 7, 4, 3, 2, 2, 3, 2, 4, 2, 4, 1, 2, 1, 3, 3, 3, 2, 0, 0, 4, 3, 1, 4, 2, 2, 4, 4, 0, 3, 2, 4, 7, 4, 0, 5, 2, 3, 2, 2, 3, 2, 5, 6, 1, 7, 1, 2, 2, 4, 4, 3, 5, 5, 4, 3, 6, 3, 5, 4, 5, 1, 3, 4, 3, 4, 4, 2, 3, 6, 0, 0, 3, 0, 2, 2, 10, 2, 2, 5, 5, 3, 5, 3, 0, 0, 4, 3, 3, 3, 2, 1, 3, 3, 2, 1, 3, 2, 1, 3, 3, 1, 2, 9, 6, 3, 5, 3, 6, 5, 3, 0, 3, 2, 3, 1, 1, 6, 2, 1, 5, 4, 3, 6, 1, 4, 3, 3, 2, 1, 4, 3, 4, 2, 1, 2, 6, 3, 5, 6, 0, 3, 3, 5, 2, 4, 7, 0, 1, 2, 2, 4, 3, 5, 2, 0, 2, 3, 3, 5, 6, 2, 1, 1, 1, 5, 7, 2, 3, 5, 2, 4, 2, 3, 9, 4, 3, 5, 3, 2, 1, 3, 3, 6, 2, 0, 7, 6, 3, 3, 4, 4, 0, 4, 2, 2, 3, 3, 1, 1, 2, 2, 1, 1, 3, 6, 2, 5, 3, 0, 2, 2, 6, 3, 4, 3, 2, 3, 5, 5, 7, 4, 4, 3, 3, 4, 5, 4, 3, 3, 1, 3, 2, 3, 2, 2, 2, 6, 1, 3, 1, 4, 0, 1, 4, 2, 3, 4, 3, 3, 2, 4, 2, 4, 0, 4, 0, 4, 7, 5, 1, 5, 4, 2, 3, 5, 0, 3, 3, 0, 3, 3, 4, 2, 3, 2, 4, 1, 4, 3, 0, 2, 3, 5, 1, 5, 3, 2, 4, 1, 2, 3, 2, 2, 1, 6, 3, 0, 7, 0, 2, 0, 1, 3, 3, 0, 3, 6, 1, 3, 3, 3, 6, 2, 4, 7, 0, 3, 1, 8, 4, 3, 2, 2, 4, 3, 2, 4, 2, 21, 3, 6, 4, 4, 2, 3, 7, 2, 2, 2, 4, 8, 4, 0, 2, 3, 9, 4, 0, 3, 5, 4, 3, 2, 4, 2, 2, 4, 3, 0, 7, 4, 1, 3, 1, 3, 4, 5, 2, 1, 3, 2, 2, 2, 3, 4, 2, 5, 3, 4, 3, 3, 0, 4, 3, 2, 5, 4, 4, 1, 5, 3, 4, 5, 0, 3, 2, 2, 5, 3, 2, 2, 3, 3, 1, 0, 7, 4, 8, 4, 2, 2, 0, 3, 1, 1, 2, 2, 2, 0, 1, 1, 4, 1, 4, 4, 0, 2, 0, 2, 0, 3, 1, 0, 5, 1, 2, 0, 5, 3, 1, 5, 3, 2, 2, 1, 3, 1, 4, 5, 4, 2, 0, 3, 0, 6, 5, 5, 5, 4, 2, 3, 3, 5, 5, 5, 3, 1, 1, 4, 3, 1, 2, 3, 1, 8, 2, 1, 6, 3, 2, 4, 2, 3, 4, 2, 6, 3, 5, 2, 1, 4, 4, 0, 2, 0, 0, 2, 4, 1, 3, 2, 2, 4, 4, 4, 3, 0, 3, 1, 1, 2, 2, 2, 6, 3, 3, 2, 0, 3, 6, 1, 4, 7, 4, 2, 1, 3, 2, 5, 3, 4, 1, 5, 3, 2, 3, 2, 2, 3, 0, 4, 1, 5, 3, 3, 3, 3, 2, 5, 4, 2, 4, 6, 3, 2, 5, 5, 1, 3, 4, 7, 3, 1, 7, 5, 5, 4, 2, 0, 1, 1, 4, 1, 1, 5, 4, 6, 3, 4, 3, 2, 2, 4, 3, 1, 7, 1, 3, 2, 3, 2, 1, 1, 3, 4, 3, 4, 2, 0, 3, 1, 2, 1, 2, 5, 4, 3, 1, 2, 2, 3, 3, 3, 0, 5, 3, 4, 2, 3, 1, 5, 1, 6, 2, 4, 6, 2, 1, 4, 2, 6, 4, 4, 4, 8, 6, 5, 4, 1, 5, 3, 4, 3, 4, 4, 3, 1, 5, 3, 0, 3, 1, 4, 5, 1, 5, 3, 2, 3, 2, 3, 5, 5, 1, 5, 2, 3, 3, 4, 4, 3, 5, 0, 3, 4, 5, 2, 1, 7, 2, 3, 1, 3, 3, 7, 0, 1, 3, 1, 1, 3, 3, 3, 6, 2, 4, 3, 2, 2, 4, 4, 7, 5, 1, 3, 3, 3, 3, 2, 3, 7, 2, 3, 3, 1, 2, 0, 2, 4, 3, 3, 3, 0, 1, 0, 5, 4, 0, 2, 2, 2, 2, 2, 2, 4, 5, 2, 0, 2, 2, 1, 5, 0, 6, 9, 4, 2, 1, 4, 6, 3, 3, 4, 0, 2, 2, 2, 4, 2, 4, 1, 5, 4, 1, 6, 2, 1, 1, 4, 1, 9, 3, 7, 1, 11, 2, 2, 2, 1, 2, 3, 1, 6, 0, 4, 2, 7, 3, 1, 4, 4, 5, 3, 0, 1, 3, 1, 3, 3, 2, 2, 4, 3, 4, 2, 0, 3, 4, 2, 2, 9, 0, 3, 6, 2, 6, 0, 0, 0, 0, 5, 4, 1, 2, 4, 0, 1, 11, 1, 1, 3, 2, 3, 2, 3, 6, 1, 4, 5, 0, 3, 2, 7, 4, 3, 3, 2, 5, 4, 6, 2, 6, 6, 0, 2, 3, 2, 0, 0, 5, 6, 1, 2, 8, 3, 4, 3, 1, 6, 5, 1, 2, 4, 5, 5, 3, 2, 3, 4, 7, 4, 7, 4, 4, 3, 2, 2, 0, 0, 4, 5, 2, 6, 1, 3, 9, 5, 2, 1, 1, 1, 1, 4, 3, 2, 1, 6, 1, 5, 4, 8, 4, 9, 5, 1, 7, 2, 2, 6, 1, 3, 0, 3, 7, 3, 4, 1, 2, 4, 2, 5, 2, 4, 4, 0, 2, 2, 3, 5, 4, 4, 1, 1, 1, 5, 1, 1, 2, 4, 0, 0, 4, 5, 3, 3, 7, 3, 1, 3, 2, 0, 0, 1, 3, 5, 1, 4, 1, 3, 1, 4, 4, 4, 2, 2, 1, 2, 3, 2, 2, 2, 2, 6, 2, 2, 1, 7, 2, 2, 4, 3, 1, 3, 0, 0, 1, 3, 8, 6, 1, 5, 3, 1, 1, 0, 5, 7, 6, 6, 2, 6, 2, 2, 2, 1, 1, 4, 2, 1, 2, 2, 0, 4, 0, 3, 1, 4, 4, 5, 2, 5, 3, 4, 4, 1, 3, 3, 5, 3, 5, 3, 0, 3, 5, 2, 6, 5, 1, 2, 4, 5, 4, 3, 2, 3, 2, 2, 1, 3, 4, 4, 2, 4, 4, 1, 1, 5, 3, 4, 5, 3, 1, 2, 3, 3, 3, 5, 7, 9, 4, 2, 1, 5, 7, 2, 0, 6, 3, 3, 3, 2, 5, 1, 7, 1, 3, 9, 4, 2, 2, 3, 3, 4, 6, 6, 5, 4, 6, 0, 2, 1, 0, 3, 4, 1, 4, 0, 3, 4, 4, 4, 2, 4, 3, 4, 3, 7, 2, 3, 5, 3, 2, 4, 0, 4, 3, 4, 6, 4, 2, 0, 0, 2, 1, 4, 2, 1, 1, 1, 2, 0, 4, 3, 1, 2, 1, 2, 6, 3, 3, 7, 0, 1, 1, 14, 2, 1, 0, 1, 3, 1, 3, 1, 1, 5, 4, 3, 3, 5, 3, 5, 3, 1, 4, 4, 1, 3, 3, 3, 3, 2, 4, 3, 3, 1, 3, 3, 5, 2, 3, 2, 2, 5, 1, 4, 2, 6, 3, 2, 5, 2, 3, 1, 4, 1, 3, 5, 6, 2, 7, 2, 4, 3, 1, 5, 2, 4, 3, 3, 2, 7, 3, 3, 7, 2, 6, 2, 1, 3, 1, 2, 0, 4, 4, 3, 4, 3, 2, 4, 2, 2, 3, 1, 4, 4, 2, 5, 3, 4, 3, 2, 7, 1, 3, 3, 0, 5, 1, 7, 2, 5, 4, 3, 6, 3, 3, 2, 2, 3, 2, 4, 2, 4, 6, 6, 2, 1, 2, 7, 1, 3, 3, 1, 5, 4, 6, 3, 0, 2, 5, 3, 0, 3, 1, 8, 3, 4, 2, 3, 2, 2, 4, 1, 2, 1, 2, 0, 6, 0, 2, 5, 5, 3, 1, 3, 4, 4, 6, 3, 3, 5, 3, 4, 4, 2, 2, 2, 6, 3, 6, 1, 0, 0, 3, 2, 9, 0, 4, 4, 5, 3, 4, 0, 5, 3, 5, 3, 3, 4, 11, 1, 1, 1, 0, 5, 3, 2, 9, 2, 3, 1, 0, 3, 2, 4, 5, 4, 2, 2, 1, 1, 4, 2, 3, 1, 2, 2, 3, 7, 1, 4, 4, 0, 6, 3, 4, 2, 4, 5, 1, 3, 3, 4, 2, 3, 5, 4, 2, 1, 2, 3, 2, 3, 2, 4, 1, 3, 3, 2, 3, 3, 2, 4, 3, 2, 3, 4, 2, 4, 4, 2, 0, 5, 4, 4, 3, 4, 6, 3, 3, 2, 1, 1, 3, 4, 2, 4, 3, 2, 3, 3, 5, 1, 8, 3, 3, 3, 6, 6, 5, 4, 3, 2, 3, 3, 5, 2, 5, 4, 2, 2, 9, 2, 2, 2, 2, 1, 1, 3, 6, 3, 2, 0, 2, 3, 3, 3, 2, 5, 2, 4, 3, 2, 7, 4, 0, 5, 1, 3, 1, 2, 3, 1, 4, 3, 2, 8, 2, 4, 3, 4, 2, 2, 2, 3, 3, 2, 2, 3, 3, 7, 2, 0, 3, 5, 4, 6, 5, 3, 2, 1, 2, 5, 3, 3, 2, 4, 2, 2, 3, 5, 5, 1, 3, 0, 6, 5, 1, 4, 2, 3, 4, 5, 4, 1, 1, 2, 2, 3, 5, 1, 4, 5, 1, 2, 4, 3, 5, 0, 2, 1, 3, 5, 2, 3, 4, 4, 2, 3, 1, 1, 2, 3, 2, 3, 4, 2, 3, 2, 4, 4, 2, 5, 2, 5, 3, 0, 5, 3, 3, 0, 2, 0, 18, 3, 1, 4, 2, 5, 2, 2, 7, 3, 3, 2, 4, 7, 4, 5, 4, 2, 4, 1, 4, 0, 4, 6, 4, 5, 2, 4, 2, 2, 3, 3, 0, 6, 2, 2, 0, 3, 3, 4, 2, 3, 2, 5, 2, 6, 1, 4, 3, 4, 3, 0, 2, 4, 2, 2, 7, 7, 4, 1, 1, 2, 3, 1, 3, 4, 4, 2, 3, 6, 2, 4, 5, 2, 1, 3, 2, 2, 3, 2, 4, 4, 5, 2, 3, 3, 2, 1, 4, 4, 1, 9, 3, 3, 6, 4, 2, 2, 4, 1, 0, 1, 2, 3, 1, 3, 3, 5, 4, 1, 3, 5, 2, 6, 2, 2, 7, 3, 2, 3, 3, 0, 3, 2, 4, 1, 3, 1, 2, 3, 3, 2, 6, 1, 2, 5, 1, 4, 4, 3, 2, 5, 1, 2, 3, 3, 0, 2, 1, 5, 2, 8, 0, 5, 1, 2, 3, 4, 4, 4, 2, 2, 0, 4, 0, 4, 3, 3, 3, 4, 1, 2, 2, 2, 2, 3, 2, 4, 3, 4, 2, 1, 2, 3, 4, 3, 5, 1, 2, 5, 1, 6, 1, 3, 5, 1, 2, 1, 2, 3, 1, 3, 5, 2, 0, 1, 3, 1, 3, 3, 1, 5, 3, 5, 3, 2, 6, 3, 4, 2, 2, 0, 4, 2, 3, 3, 4, 3, 3, 3, 1, 4, 3, 8, 3, 2, 2, 8, 2, 4, 2, 4, 1, 4, 3, 3, 5, 3, 1, 2, 3, 2, 2, 3, 2, 4, 2, 2, 3, 2, 2, 4, 3, 3, 3, 3, 3, 0, 5, 3, 4, 3, 5, 7, 6, 3, 2, 3, 4, 3, 0, 2, 4, 3, 6, 2, 4, 2, 2, 5, 5, 2, 1, 1, 3, 3, 4, 5, 4, 3, 3, 2, 2, 1, 10, 5, 3, 2, 6, 3, 15, 4, 2, 3, 2, 3, 3, 3, 8, 4, 3, 2, 3, 7, 3, 3, 3, 2, 4, 4, 4, 5, 4, 4, 3, 2, 3, 5, 1, 3, 3, 4, 2, 5, 4, 1, 5, 3, 4, 4, 7, 3, 4, 6, 4, 4, 1, 4, 4, 1, 4, 2, 2, 2, 1, 1, 1, 0, 7, 5, 2, 3, 3, 5, 2, 4, 2, 3, 5, 4, 1, 2, 1, 1, 3, 1, 3, 5, 3, 4, 2, 3, 1, 3, 1, 7, 3, 6, 2, 3, 0, 2, 2, 1, 2, 7, 3, 7, 4, 7, 1, 5, 1, 2, 4, 0, 3, 2, 4, 1, 0, 4, 3, 0, 1, 6, 2, 3, 1, 4, 5, 2, 2, 3, 4, 2, 3, 1, 5, 1, 3, 0, 2, 7, 3, 2, 2, 4, 2, 2, 4, 6, 3, 6, 2, 3, 0, 0, 0, 3, 4, 2, 5, 2, 2, 4, 1, 1, 4, 2, 2, 3, 6, 3, 1, 3, 5, 0, 6, 3, 2, 3, 3, 5, 2, 4, 5, 1, 2, 2, 3, 2, 3, 1, 3, 6, 4, 1, 3, 1, 0, 4, 4, 4, 5, 2, 2, 2, 7, 3, 0, 3, 3, 0, 2, 1, 2, 3, 3, 3, 4, 3, 1, 1, 4, 4, 2, 6, 2, 4, 3, 3, 1, 3, 6, 2, 3, 3, 2, 3, 3, 5, 0, 1, 1, 3, 2, 1, 1, 2, 6, 7, 3, 2, 2, 1, 4, 2, 0, 1, 3, 2, 3, 4, 3, 3, 4, 5, 3, 1, 0, 4, 1, 4, 2, 3, 4, 1, 3, 1, 9, 4, 4, 6, 4, 4, 3, 2, 4, 3, 4, 4, 2, 4, 8, 2, 1, 1, 1, 2, 2, 3, 2, 6, 2, 3, 2, 1, 0, 3, 3, 4, 3, 5, 7, 1, 6, 5, 3, 4, 4, 1, 2, 3, 9, 5, 13, 1, 1, 2, 6, 5, 5, 6, 3, 3, 3, 2, 1, 3, 0, 5, 1, 6, 5, 4, 5, 4, 6, 1, 5, 2, 3, 3, 4, 3, 2, 3, 3, 2, 1, 2, 3, 4, 2, 1, 4, 4, 3, 1, 2, 5, 4, 3, 1, 4, 4, 6, 3, 3, 5, 4, 4, 2, 1, 7, 5, 2, 3, 2, 3, 4, 3, 0, 4, 3, 5, 2, 1, 3, 2, 5, 3, 2, 2, 0, 2, 4, 0, 5, 5, 4, 3, 3, 0, 5, 4, 0, 1, 2, 1, 5, 1, 7, 3, 1, 4, 3, 6, 2, 3, 1, 3, 5, 2, 6, 0, 3, 5, 1, 1, 4, 2, 7, 8, 0, 3, 2, 1, 6, 3, 0, 4, 4, 1, 2, 2, 3, 4, 1, 2, 2, 4, 5, 2, 8, 5, 5, 4, 2, 7, 6, 3, 3, 2, 1, 5, 3, 2, 2, 12, 0, 2, 4, 6, 1, 0, 2, 3, 2, 1, 1, 2, 5, 1, 3, 2, 2, 1, 7, 4, 2, 2, 6, 2, 2, 4, 1, 2, 4, 6, 6, 4, 1, 3, 1, 1, 9, 2, 3, 2, 3, 5, 3, 4, 4, 1, 7, 5, 3, 4, 2, 4, 2, 2, 5, 4, 3, 0, 3, 0, 0, 2, 3, 4, 5, 2, 3, 2, 0, 1, 4, 4, 4, 4, 1, 3, 3, 5, 8, 1, 3, 2, 3, 4, 6, 0, 3, 5, 4, 4, 5, 1, 2, 4, 1, 2, 3, 6, 0, 6, 2, 6, 2, 6, 0, 4, 2, 4, 7, 2, 4, 1, 7, 2, 6, 5, 2, 1, 7, 2, 5, 4, 1, 1, 9, 3, 5, 2, 2, 0, 4, 3, 4, 1, 4, 1, 1, 4, 3, 0, 6, 4, 2, 4, 3, 5, 5, 6, 3, 1, 4, 4, 1, 3, 1, 3, 9, 3, 6, 1, 1, 3, 2, 2, 2, 3, 3, 2, 0, 4, 1, 5, 1, 4, 2, 3, 2, 5, 2, 3, 3, 3, 0, 5, 0, 5, 4, 2, 1, 3, 6, 5, 3, 3, 6, 2, 5, 4, 4, 3, 1, 3, 1, 0, 4, 0, 3, 4, 4, 0, 3, 3, 3, 2, 7, 3, 6, 1, 2, 8, 3, 3, 6, 4, 3, 6, 2, 2, 1, 1, 0, 3, 3, 3, 0, 3, 3, 2, 2, 3, 0, 2, 0, 5, 4, 3, 1, 5, 0, 2, 2, 4, 1, 3, 5, 0, 2, 0, 5, 4, 3, 1, 2, 5, 4, 5, 1, 7, 7, 2, 2, 2, 5, 5, 4, 3, 3, 4, 1, 3, 1, 1, 2, 5, 3, 4, 2, 2, 3, 3, 3, 0, 4, 3, 4, 2, 2, 2, 5, 5, 3, 3, 0, 2, 2, 3, 0, 1, 4, 2, 2, 4, 1, 5, 9, 5, 5, 0, 3, 5, 5, 3, 5, 0, 3, 6, 3, 2, 2, 2, 3, 2, 3, 4, 1, 2, 3, 5, 5, 1, 3, 2, 4, 1, 2, 2, 2, 1, 5, 2, 5, 1, 7, 2, 2, 0, 2, 0, 2, 2, 4, 0, 7, 0, 3, 3, 4, 4, 4, 3, 4, 2, 2, 2, 3, 6, 3, 4, 2, 1, 5, 3, 2, 2, 5, 8, 3, 3, 2, 2, 2, 6, 1, 2, 0, 3, 2, 1, 2, 7, 3, 6, 4, 4, 3, 5, 4, 3, 5, 1, 1, 2, 2, 2, 3, 5, 1, 2, 7, 5, 3, 5, 7, 1, 3, 4, 2, 0, 4, 8, 2, 4, 3, 7, 6, 2, 3, 4, 2, 5, 3, 5, 3, 3, 1, 3, 3, 2, 1, 7, 1, 2, 3, 2, 2, 2, 2, 2, 3, 3, 2, 2, 2, 4, 5, 6, 3, 1, 4, 0, 3, 1, 4, 0, 4, 2, 3, 2, 2, 2, 3, 0, 1, 0, 2, 3, 8, 1, 10, 2, 1, 2, 3, 2, 3, 3, 2, 2, 4, 2, 4, 1, 3, 1, 3, 1, 4, 0, 2, 4, 3, 2, 3, 1, 1, 4, 5, 4, 4, 2, 3, 7, 6, 3, 8, 2, 3, 5, 5, 2, 3, 2, 1, 4, 1, 4, 2, 3, 3, 1, 4, 4, 3, 7, 0, 0, 4, 1, 5, 1, 5, 9, 3, 5, 2, 4, 4, 2, 5, 2, 1, 4, 5, 0, 3, 0, 3, 7, 4, 1, 2, 4, 2, 2, 3, 0, 1, 2, 5, 6, 3, 3, 1, 2, 2, 4, 2, 5, 0, 2, 3, 3, 0, 0, 2, 4, 2, 5, 3, 3, 0, 1, 8, 5, 5, 7, 4, 4, 2, 4, 2, 0, 1, 2, 1, 1, 2, 4, 5, 1, 3, 3, 2, 4, 1, 4, 1, 5, 1, 2, 4, 4, 0, 3, 1, 2, 4, 5, 1, 3, 2, 0, 3, 3, 1, 1, 4, 0, 4, 3, 2, 3, 3, 5, 3, 2, 3, 3, 1, 3, 4, 0, 2, 1, 2, 2, 3, 4, 4, 6, 1, 2, 4, 1, 4, 9, 3, 7, 1, 2, 4, 5, 6, 2, 4, 4, 3, 0, 4, 4, 5, 1, 3, 4, 3, 3, 0, 4, 9, 2, 3, 2, 2, 1, 7, 3, 5, 4, 2, 4, 0, 8, 3, 5, 4, 3, 3, 3, 4, 3, 2, 0, 1, 3, 3, 3, 2, 3, 2, 1, 1, 4, 2, 3, 3, 1, 4, 0, 7, 0, 3, 0, 5, 5, 0, 4, 4, 7, 3, 1, 3, 3, 3, 3, 0, 0, 5, 3, 1, 5, 4, 5, 8, 2, 2, 4, 2, 3, 2, 4, 3, 4, 4, 2, 3, 2, 1, 3, 5, 4, 4, 3, 0, 2, 2, 3, 3, 2, 5, 2, 3, 0, 3, 0, 7, 5, 1, 1, 1, 2, 4, 3, 4, 5, 4, 0, 1, 7, 3, 4, 0, 4, 4, 2, 6, 2, 3, 4, 4, 2, 1, 1, 5, 4, 4, 2, 2, 3, 3, 3, 3, 4, 4, 10, 7, 3, 4, 3, 4, 2, 2, 8, 6, 1, 0, 1, 1, 2, 3, 5, 3, 2, 5, 3, 2, 2, 2, 2, 3, 3, 3, 0, 2, 4, 1, 4, 5, 3, 0, 4, 4, 3, 1, 2, 6, 4, 4, 2, 2, 2, 4, 4, 3, 3, 4, 4, 3, 5, 6, 1, 1, 3, 2, 2, 2, 1, 4, 4, 2, 2, 2, 2, 1, 2, 2, 3, 1, 3, 5, 3, 3, 5, 3, 4, 3, 4, 2, 3, 0, 3, 1, 2, 6, 4, 5, 2, 9, 1, 1, 7, 3, 1, 4, 5, 3, 4, 2, 5, 0, 0, 3, 1, 4, 4, 8, 5, 4, 1, 3, 6, 5, 6, 3, 2, 0, 2, 4, 3, 0, 1, 2, 1, 5, 1, 0, 3, 0, 3, 4, 5, 4, 3, 0, 2, 4, 2, 1, 5, 6, 2, 3, 1, 3, 4, 3, 7, 3, 7, 2, 3, 3, 7, 0, 3, 3, 3, 0, 3, 2, 2, 1, 6, 4, 3, 3, 2, 5, 6, 1, 2, 10, 4, 5, 1, 0, 0, 5, 5, 6, 3, 3, 2, 4, 1, 7, 5, 2, 6, 2, 0, 4, 4, 6, 1, 2, 2, 3, 7, 1, 6, 3, 3, 6, 3, 2, 3, 3, 2, 3, 4, 3, 4, 3, 2, 2, 5, 3, 3, 4, 7, 2, 1, 4, 6, 2, 3, 5, 2, 5, 1, 2, 8, 6, 8, 4, 2, 3, 4, 7, 3, 0, 5, 4, 2, 3, 2, 3, 3, 0, 5, 2, 3, 3, 2, 2, 1, 1, 5, 5, 3, 2, 3, 0, 4, 2, 6, 1, 3, 2, 2, 3, 2, 4, 2, 5, 4, 1, 3, 4, 5, 3, 4, 2, 3, 2, 1, 1, 4, 0, 3, 0, 5, 2, 5, 3, 8, 0, 2, 3, 0, 1, 4, 2, 2, 4, 4, 4, 1, 2, 3, 5, 3, 0, 3, 1, 4, 3, 4, 4, 4, 3, 1, 5, 4, 0, 0, 3, 6, 2, 3, 3, 1, 4, 3, 6, 0, 3, 3, 1, 3, 3, 4, 5, 2, 3, 4, 5, 3, 4, 6, 6, 1, 3, 4, 8, 2, 3, 2, 4, 2, 3, 6, 2, 1, 0, 5, 2, 2, 2, 5, 3, 2, 5, 3, 2, 2, 4, 3, 3, 4, 2, 4, 3, 1, 3, 2, 1, 5, 1, 5, 4, 4, 2, 2, 5, 1, 0, 3, 5, 5, 2, 3, 4, 4, 3, 2, 2, 3, 3, 0, 8, 0, 1, 3, 6, 5, 2, 1, 3, 3, 2, 2, 5, 3, 4, 0, 1, 1, 2, 6, 3, 4, 2, 4, 2, 6, 4, 2, 0, 1, 1, 5, 8, 3, 2, 3, 3, 1, 4, 2, 4, 6, 3, 2, 3, 2, 3, 2, 3, 1, 4, 4, 1, 2, 1, 5, 4, 2, 2, 1, 1, 1, 2, 3, 3, 3, 5, 5, 3, 6, 4, 2, 5, 3, 3, 3, 6, 7, 1, 1, 4, 3, 5, 5, 6, 6, 3, 4, 3, 2, 1, 4, 4, 6, 3, 1, 4, 4, 4, 3, 5, 1, 3, 4, 4, 5, 3, 2, 2, 1, 2, 1, 3, 3, 5, 5, 3, 2, 5, 0, 7, 0, 1, 4, 3, 2, 10, 8, 1, 7, 0, 2, 5, 2, 4, 0, 3, 4, 6, 4, 6, 3, 3, 5, 6, 3, 4, 5, 4, 2, 3, 4, 4, 7, 6, 4, 3, 3, 2, 6, 3, 1, 4, 1, 4, 3, 2, 8, 6, 3, 5, 2, 3, 2, 3, 0, 3, 3, 3, 3, 2, 3, 4, 3, 5, 5, 4, 2, 7, 3, 4, 0, 2, 2, 5, 2, 4, 0, 1, 2, 3, 2, 0, 2, 2, 3, 5, 1, 2, 1, 4, 4, 2, 2, 4, 2, 1, 6, 2, 2, 4, 4, 2, 1, 3, 4, 4, 0, 4, 5, 1, 0, 8, 3, 2, 2, 3, 1, 5, 1, 7, 3, 4, 4, 3, 6, 1, 3, 6, 2, 4, 3, 5, 5, 3, 1, 2, 9, 10, 3, 5, 5, 4, 2, 4, 0, 6, 4, 4, 0, 1, 3, 2, 0, 3, 9, 2, 4, 1, 1, 3, 5, 3, 4, 2, 3, 1, 3, 2, 3, 3, 3, 3, 0, 2, 4, 0, 8, 3, 3, 3, 2, 3, 5, 3, 3, 4, 0, 3, 2, 4, 2, 4, 3, 5, 1, 9, 3, 2, 0, 3, 3, 4, 3, 1, 2, 4, 5, 3, 2, 1, 6, 2, 4, 3, 2, 1, 3, 3, 3, 6, 1, 4, 2, 3, 6, 1, 3, 4, 1, 2, 3, 3, 5, 3, 4, 2, 3, 2, 3, 0, 3, 4, 1, 1, 3, 2, 1, 3, 4, 5, 7, 4, 3, 3, 4, 2, 4, 2, 5, 6, 5, 7, 2, 3, 3, 3, 2, 3, 1, 2, 0, 0, 3, 2, 2, 3, 5, 3, 1, 4, 3, 3, 5, 2, 5, 4, 4, 3, 4, 3, 3, 5, 4, 2, 1, 3, 2, 4, 2, 2, 3, 2, 8, 2, 4, 2, 7, 2, 4, 2, 2, 0, 6, 3, 3, 8, 9, 1, 3, 1, 7, 2, 2, 2, 4, 2, 1, 6, 7, 4, 5, 5, 3, 2, 5, 0, 6, 5, 0, 3, 3, 1, 2, 7, 5, 0, 3, 2, 2, 4, 3, 6, 7, 2, 2, 7, 2, 0, 4, 5, 2, 3, 1, 2, 2, 5, 3, 1, 2, 6, 0, 0, 3, 2, 1, 4, 4, 1, 4, 2, 4, 0, 2, 4, 3, 2, 2, 0, 4, 2, 6, 3, 6, 6, 2, 3, 4, 5, 4, 2, 8, 2, 2, 1, 6, 5, 1, 2, 1, 5, 1, 3, 2, 2, 4, 1, 1, 1, 5, 2, 2, 0, 1, 6, 5, 0, 4, 2, 3, 3, 2, 9, 3, 2, 2, 3, 4, 0, 4, 3, 1, 6, 3, 3, 2, 3, 2, 4, 5, 1, 3, 6, 3, 3, 6, 4, 4, 3, 3, 0, 7, 3, 3, 0, 3, 8, 6, 1, 0, 7, 2, 3, 3, 6, 2, 2, 4, 3, 5, 2, 1, 3, 4, 3, 2, 1, 4, 4, 2, 3, 1, 3, 1, 2, 2, 7, 3, 3, 4, 4, 2, 1, 3, 5, 3, 3, 5, 3, 4, 2, 1, 4, 3, 5, 2, 1, 2, 3, 2, 1, 2, 2, 3, 3, 2, 2, 4, 0, 2, 2, 3, 3, 0, 0, 5, 3, 5, 3, 2, 4, 4, 3, 4, 3, 5, 4, 2, 1, 5, 4, 3, 6, 1, 1, 2, 5, 2, 1, 0, 4, 4, 0, 4, 2, 2, 3, 4, 1, 4, 3, 3, 4, 5, 3, 5, 3, 5, 4, 2, 1, 2, 2, 3, 3, 4, 2, 2, 3, 2, 4, 4, 3, 1, 0, 5, 5, 2, 8, 5, 4, 4, 3, 3, 4, 6, 0, 6, 1, 3, 1, 3, 5, 2, 0, 1, 2, 3, 4, 3, 1, 1, 1, 1, 2, 3, 1, 4, 2, 1, 4, 2, 3, 5, 2, 1, 3, 2, 2, 3, 2, 2, 1, 3, 6, 2, 3, 3, 0, 3, 1, 0, 2, 3, 1, 1, 2, 1, 2, 3, 2, 3, 0, 3, 5, 4, 1, 0, 6, 10, 2, 2, 4, 4, 3, 5, 4, 2, 2, 2, 2, 2, 2, 8, 5, 0, 3, 5, 3, 0, 2, 3, 4, 4, 3, 3, 4, 2, 4, 2, 3, 4, 2, 5, 1, 4, 4, 3, 1, 4, 1, 3, 4, 5, 3, 2, 7, 3, 1, 11, 3, 3, 0, 5, 4, 1, 3, 2, 5, 2, 7, 10, 6, 4, 2, 1, 6, 2, 3, 4, 3, 6, 2, 2, 3, 7, 4, 4, 3, 3, 4, 5, 4, 2, 2, 2, 2, 1, 5, 4, 3, 1, 4, 3, 10, 1, 3, 3, 2, 4, 4, 1, 1, 5, 2, 0, 3, 3, 3, 4, 0, 2, 5, 6, 2, 1, 2, 3, 3, 4, 3, 2, 2, 4, 3, 2, 3, 3, 4, 1, 4, 1, 3, 1, 2, 6, 2, 2, 4, 1, 6, 1, 4, 6, 3, 4, 1, 3, 2, 4, 2, 7, 5, 1, 2, 8, 4, 1, 2, 0, 3, 4, 5, 2, 5, 5, 2, 3, 5, 2, 2, 2, 4, 7, 3, 2, 5, 1, 3, 3, 2, 1, 3, 0, 3, 5, 2, 1, 3, 1, 3, 1, 1, 4, 2, 3, 9, 2, 0, 3, 4, 3, 3, 5, 2, 4, 1, 1, 3, 4, 4, 1, 4, 1, 2, 0, 1, 3, 4, 4, 3, 1, 3, 2, 1, 1, 2, 8, 3, 0, 3, 1, 2, 4, 2, 3, 3, 1, 1, 2, 3, 5, 1, 3, 5, 4, 6, 2, 2, 3, 6, 2, 4, 0, 3, 7, 2, 2, 1, 4, 3, 4, 2, 2, 2, 2, 3, 2, 2, 3, 2, 3, 3, 7, 2, 4, 1, 3, 7, 1, 2, 1, 5, 3, 3, 4, 0, 3, 5, 5, 1, 4, 1, 7, 6, 2, 2, 6, 4, 1, 3, 3, 4, 0, 3, 2, 3, 3, 1, 0, 4, 1, 6, 3, 3, 2, 3, 1, 4, 4, 6, 2, 1, 4, 1, 4, 2, 3, 3, 6, 4, 5, 4, 4, 2, 3, 3, 0, 1, 2, 4, 1, 6, 3, 0, 2, 3, 3, 5, 3, 3, 4, 6, 2, 2, 2, 5, 1, 3, 2, 2, 2, 3, 3, 4, 2, 2, 1, 2, 2, 3, 5, 0, 3, 2, 1, 2, 0, 3, 1, 5, 4, 1, 5, 8, 2, 1, 5, 2, 2, 0, 4, 11, 3, 1, 1, 0, 1, 6, 5, 3, 2, 3, 2, 2, 1, 2, 4, 0, 4, 3, 2, 3, 5, 4, 8, 10, 1, 1, 7, 1, 3, 4, 4, 5, 2, 1, 3, 2, 3, 2, 3, 1, 0, 3, 2, 1, 4, 4, 2, 2, 2, 1, 2, 2, 3]\n",
        "The mean of the sample is 3.0193\n"
       ]
      }
     ],
     "prompt_number": 13
    },
    {
     "cell_type": "markdown",
     "metadata": {},
     "source": [
      "####Question 3.7"
     ]
    },
    {
     "cell_type": "code",
     "collapsed": false,
     "input": [
      "%matplotlib inline\n",
      "import numpy as np\n",
      "import matplotlib.pyplot as plt\n",
      "import seaborn\n",
      "seaborn.set_context(\"talk\")\n",
      "\n",
      "my_bins = np.arange(-0.5,11.5,1) #Creates a range of bins for the histogram\n",
      "hist, bins = np.histogram(ten_thousand_samples, bins = my_bins) #Creates the histogram using a numpy function\n",
      "print bins #Checks the created bins to make sure they are what is desired\n",
      "bin_mids = (bins[1:] + bins[:-1]) / 2 #labels the bins by taking the middle point of the left and right ends\n",
      "print bin_mids #Checks the new labels on the bins\n",
      "seaborn.barplot(bin_mids, hist / float(len(ten_thousand_samples))) \n",
      "plt.xlabel('Number of Years to Pay off Student Debt') \n",
      "plt.ylabel('Percentage of U of R Chemical Engieering Graduates')\n",
      "plt.title('Average Number of Years for U of R Chemical Engineering Graduates to Pay off Debt')\n",
      "plt.show() #Displays the histogram"
     ],
     "language": "python",
     "metadata": {},
     "outputs": [
      {
       "output_type": "stream",
       "stream": "stdout",
       "text": [
        "[ -0.5   0.5   1.5   2.5   3.5   4.5   5.5   6.5   7.5   8.5   9.5  10.5]\n",
        "[  0.   1.   2.   3.   4.   5.   6.   7.   8.   9.  10.]\n"
       ]
      },
      {
       "metadata": {},
       "output_type": "display_data",
       "png": "[encoded data removed]",
       "text": [
        "<matplotlib.figure.Figure at 0x4137e80>"
       ]
      }
     ],
     "prompt_number": 14
    },
    {
     "cell_type": "markdown",
     "metadata": {},
     "source": [
      "This distribution strongly resembles the binomial distribution."
     ]
    },
    {
     "cell_type": "markdown",
     "metadata": {},
     "source": [
      "#Heating My Apartment"
     ]
    },
    {
     "cell_type": "markdown",
     "metadata": {},
     "source": [
      "####Data"
     ]
    },
    {
     "cell_type": "code",
     "collapsed": false,
     "input": [
      "import numpy as np\n",
      "time = np.array([0.0, 0.2857,  0.5714,  0.8571,  1.1429,  1.4286,  1.7143,  2.0,  2.2857,  2.5714,  2.8571,  3.1429,  3.4286,  3.7143,  4.0,  4.2857,  4.5714,  4.8571,  5.1429,  5.4286,  5.7143,  6.0,  6.2857,  6.5714,  6.8571,  7.1429,  7.4286,  7.7143,  8.0,  8.2857,  8.5714,  8.8571,  9.1429,  9.4286,  9.7143,  10.0,  10.2857,  10.5714,  10.8571,  11.1429,  11.4286,  11.7143,  12.0,  12.2857,  12.5714,  12.8571,  13.1429,  13.4286,  13.7143,  14.0])\n",
      "temperature = np.array([67.9925, 67.5912,  67.4439,  66.7896,  66.4346,  66.3176,  65.7527,  65.1487,  65.7247,  65.1831,  64.5981,  64.5213,  63.6746,  63.9106,  62.6127,  63.3892,  62.6511,  62.601,  61.9718,  60.5553,  61.5862,  61.3173,  60.5913,  59.7061,  59.6535,  58.9301,  59.346,  59.2083,  60.3429,  58.752,  57.6269,  57.5139,  59.0293,  56.7979,  56.2996,  56.4188,  57.1257,  56.1569,  56.3077,  55.893,  55.4356,  56.7985,  55.6536,  55.8353,  54.4404,  54.2872,  53.9584,  53.3222,  53.2458,  53.711])"
     ],
     "language": "python",
     "metadata": {},
     "outputs": [],
     "prompt_number": 15
    },
    {
     "cell_type": "markdown",
     "metadata": {},
     "source": [
      "####Question 4.1"
     ]
    },
    {
     "cell_type": "markdown",
     "metadata": {},
     "source": [
      "Central Limit Theorem:\n",
      "$$f'(t_i) = \\frac{1}{2}\\left[\\frac{f(t_{i+1})- f(t_i)}{t_{i + 1} - t_{i}} + \\frac{f(t_{i})- f(t_{i-1})}{t_{i} - t_{i-1}}\\right]$$"
     ]
    },
    {
     "cell_type": "code",
     "collapsed": false,
     "input": [
      "#Below uses the Central Difference Rule to calculate the derivative at every point\n",
      "forward = (temperature[1:] - temperature[:-1]) / (time[1:] - time[:-1])\n",
      "backward = forward \n",
      "derivative = 0.5 * (forward[:-1] + backward[1:])\n",
      "print derivative"
     ],
     "language": "python",
     "metadata": {},
     "outputs": [
      {
       "output_type": "stream",
       "stream": "stdout",
       "text": [
        "[-0.960098   -1.40287014 -1.76614594 -0.82582392 -1.19338467 -2.04567728\n",
        " -0.04900245  0.06020301 -1.97164858 -1.15816088 -1.61615878 -1.06877844\n",
        " -1.85841792 -0.91249562  0.06720336 -1.37941897 -1.18844915 -3.57976872\n",
        " -0.67483374  1.33356668 -1.74116206 -2.81974099 -1.64123206 -1.35762493\n",
        " -0.53770894  0.48687434  1.74466223 -0.79856493 -4.75323766 -2.16678334\n",
        "  2.45339477 -1.2539906  -4.77721386 -0.66345817  1.44574729 -0.45834792\n",
        " -1.43157158 -0.46159415 -1.52599737  1.58470424  0.38151908 -1.68568428\n",
        " -2.12320616 -2.70931047 -0.84334084 -1.6886331  -1.24711236  0.68043402]\n"
       ]
      }
     ],
     "prompt_number": 16
    },
    {
     "cell_type": "markdown",
     "metadata": {},
     "source": [
      "####Question 4.2"
     ]
    },
    {
     "cell_type": "markdown",
     "metadata": {},
     "source": [
      "$$(1) \\space \\frac{dQ}{dt} = \\alpha * (T - T_{c})$$\n",
      "\n",
      "***\n",
      "\n",
      "$$(2)\\space Q = c_{p}*T$$\n",
      "\n",
      "***\n",
      "\n",
      "Take the derivative of (2) with respect to time: $$\\frac{d}{dt}*(Q = c_{p} * T)$$\n",
      "\n",
      "***\n",
      "After some computing and rearraging this gives: $$(3) \\space \\frac{dQ}{dt} = c_{p} * \\frac{dT}{dt}$$ \n",
      "\n",
      "***\n",
      "Plugging (3) into (1) and solving for $\\frac{\\alpha}{c_{p}}$ gives:\n",
      "\n",
      "***\n",
      "$$\\frac{\\alpha}{c_{p}} = \\frac{dT}{dt} * \\frac{1}{T - T_{c}}$$"
     ]
    },
    {
     "cell_type": "markdown",
     "metadata": {},
     "source": [
      "####Question 4.3"
     ]
    },
    {
     "cell_type": "markdown",
     "metadata": {},
     "source": [
      "$$\\frac{\\alpha}{c_{p}} = \\frac{dT}{dt} * \\frac{1}{T - T_{c}}$$"
     ]
    },
    {
     "cell_type": "code",
     "collapsed": false,
     "input": [
      "T_c = 10 #The outside temperature which is constant\n",
      "\n",
      "constant = derivative * (-1 / (temperature[1:-1] - T_c)) #Constant is equal to alpha divided by heat capacity\n",
      "\n",
      "print constant\n",
      "  "
     ],
     "language": "python",
     "metadata": {},
     "outputs": [
      {
       "output_type": "stream",
       "stream": "stdout",
       "text": [
        "[ 0.01667092  0.02442157  0.03109981  0.01463329  0.02119026  0.03669199\n",
        "  0.00088855 -0.00108036  0.03572921  0.02121248  0.0296427   0.01991218\n",
        "  0.03447222  0.01734364 -0.00125874  0.02619924  0.02259366  0.06887906\n",
        "  0.01334843 -0.02585123  0.03392934  0.05573569  0.03301873  0.02734198\n",
        "  0.01098933 -0.00986654 -0.03545463  0.01586251  0.09749831  0.04549495\n",
        " -0.05163531  0.02557635  0.1020818   0.01432967 -0.03114573  0.00972607\n",
        "  0.03101533  0.00996798  0.0332512  -0.03487803 -0.00815238  0.03692336\n",
        "  0.04632251  0.06096503  0.01904254  0.03841434  0.02878691 -0.01573411]\n"
       ]
      }
     ],
     "prompt_number": 17
    },
    {
     "cell_type": "markdown",
     "metadata": {},
     "source": [
      "####Question 4.4"
     ]
    },
    {
     "cell_type": "markdown",
     "metadata": {},
     "source": [
      "$$Z = 1.96$$\n",
      "WIth a 95% confidence interval: $$\\mu - (Z * \\sigma) < c_{p} < \\mu + (Z * \\sigma)$$"
     ]
    },
    {
     "cell_type": "code",
     "collapsed": false,
     "input": [
      "mu = np.mean(constant) #Calculates the mean of alpha divided by heat capacity\n",
      "sigma = np.sqrt(np.var(constant)) #Calculates the standard deviation of alpha divided by the heat capacity \n",
      "\n",
      "z = 1.96\n",
      "upper_limit = mu + (z * sigma) #Calculates the greatest possible value for the constant with 95% certainty\n",
      "lower_limit = mu - (z * sigma) #Calculates the lowest possible value for the constant with 95% certainty\n",
      "\n",
      "print 'With a confidence level of 5%, alpha divided by heat capacity is between {} and {}.' .format(lower_limit,upper_limit)"
     ],
     "language": "python",
     "metadata": {},
     "outputs": [
      {
       "output_type": "stream",
       "stream": "stdout",
       "text": [
        "With a confidence level of 5%, alpha divided by heat capacity is between -0.0375406697501 and 0.0790467566564.\n"
       ]
      }
     ],
     "prompt_number": 18
    },
    {
     "cell_type": "markdown",
     "metadata": {},
     "source": [
      "####Question 4.5"
     ]
    },
    {
     "cell_type": "markdown",
     "metadata": {},
     "source": [
      "$$Q = I * V * time$$\n",
      "$$T = T_{f} - T_{i}$$\n",
      "$$c_{p} = \\frac{Q}{T}$$"
     ]
    },
    {
     "cell_type": "code",
     "collapsed": false,
     "input": [
      "time = 4500 \n",
      "delta_temp = 14.29\n",
      "I = 20.5\n",
      "V = 220\n",
      "P = I * V\n",
      "Q = P * time\n",
      "c_p = (Q / delta_temp) / 1000\n",
      "print 'The heat capacity is {:.7} kJ per degree fahrenheit.' .format(c_p)"
     ],
     "language": "python",
     "metadata": {},
     "outputs": [
      {
       "output_type": "stream",
       "stream": "stdout",
       "text": [
        "The heat capacity is 1420.224 kJ per degree fahrenheit.\n"
       ]
      }
     ],
     "prompt_number": 19
    },
    {
     "cell_type": "markdown",
     "metadata": {},
     "source": [
      "####Question 4.6"
     ]
    },
    {
     "cell_type": "markdown",
     "metadata": {},
     "source": [
      "$$\\alpha = c_{p} * \\frac{\\alpha}{c_{p}}$$ Note: The average value of $\\frac{\\alpha}{c_{p}}$ is used."
     ]
    },
    {
     "cell_type": "code",
     "collapsed": false,
     "input": [
      "T_c = 10 #Outside temperature\n",
      "\n",
      "constant = derivative * (-1 / (temperature[1:-1] - T_c)) #Constant is equal to alpha divided by heat capacity\n",
      "\n",
      "mu = np.mean(constant) #Mean value for alpha divided by heat capacity \n",
      "c_p_1 = 1420.22393282 * 1000 #Heat capacity in joules per degree fahrenheit \n",
      "\n",
      "alpha = (c_p_1 * mu) / 1000\n",
      "\n",
      "print 'The heat transfer coefficiet is {:.5} kW per degree fahrenheit' .format(alpha)"
     ],
     "language": "python",
     "metadata": {},
     "outputs": [
      {
       "output_type": "stream",
       "stream": "stdout",
       "text": [
        "The heat transfer coefficiet is 29.474 kW per degree fahrenheit\n"
       ]
      }
     ],
     "prompt_number": 20
    },
    {
     "cell_type": "markdown",
     "metadata": {},
     "source": [
      "#Heating My Apartment Part 2"
     ]
    },
    {
     "cell_type": "markdown",
     "metadata": {},
     "source": [
      "####Question 5.1"
     ]
    },
    {
     "cell_type": "markdown",
     "metadata": {},
     "source": [
      "$$Temperature(hour) = 15*sin(\\frac{2*\\pi}{24} * (hour - 20))$$"
     ]
    },
    {
     "cell_type": "code",
     "collapsed": false,
     "input": [
      "%matplotlib inline\n",
      "import matplotlib.pyplot as plt\n",
      "from math import pi\n",
      "import seaborn\n",
      "import numpy as np\n",
      "seaborn.set_context(\"poster\")\n",
      "\n",
      "t = np.arange(0,86400) #Range of Hours for one period\n",
      "temp = 15*np.sin(((2*pi)/86400)*(t-20)) #Function for the sine curve representing temperature \n",
      "\n",
      "plt.plot(t,temp)\n",
      "plt.xlabel('Times (Hours)')\n",
      "plt.ylabel('Temperature (Degrees Fahrenheit)')\n",
      "plt.title('Temperature During the Winter')\n",
      "plt.show()"
     ],
     "language": "python",
     "metadata": {},
     "outputs": [
      {
       "metadata": {},
       "output_type": "display_data",
       "png": "[encoded data removed]",
       "text": [
        "<matplotlib.figure.Figure at 0x18ca6f28>"
       ]
      }
     ],
     "prompt_number": 26
    },
    {
     "cell_type": "markdown",
     "metadata": {},
     "source": [
      "####Question 5.2"
     ]
    },
    {
     "cell_type": "markdown",
     "metadata": {},
     "source": [
      "$$\\frac{dQ}{dt} = 29474 * (15*sin((2\\pi/86400)*(t-20))-68)$$"
     ]
    },
    {
     "cell_type": "markdown",
     "metadata": {},
     "source": [
      "####Question 5.3\n",
      "\n",
      "Trapezoidal Rule: $$\\int_a^b f(x)\\,dx \\approx \\frac{1}{2} \\sum_{i=1}^N (x_{i + 1} - x_i)(f(x_{i + 1}) + f(x_i))$$"
     ]
    },
    {
     "cell_type": "code",
     "collapsed": false,
     "input": [
      "alpha = (c_p_1 * mu) / 1000\n",
      "alpha_1 = alpha * 1000 #Heat Transfer Coefficient back into watt per degree fahrenheit\n",
      "\n",
      "t = np.linspace(0,7776000,86400) #the independent variable is a three month period\n",
      "y = alpha_1*(15*np.sin((2*pi/86400)*(t-20)) - 68) #function for dQ/dt using Newton's Law\n",
      "little_traps = -0.5 * (t[1:] - t[:-1]) * (y[1:] + y[:-1]) #Trapezoidal Rule \n",
      "trap = np.sum(little_traps) #Sums up all the little trapezoids to calculate the area under the curve\n",
      "print 'Total thermal energy for 3 months is {} joules or {} kW.' .format(trap, trap / (7776000 * 1000))"
     ],
     "language": "python",
     "metadata": {},
     "outputs": [
      {
       "output_type": "stream",
       "stream": "stdout",
       "text": [
        "Total thermal energy for 3 months is 1.55848916355e+13 joules or 2004.22989139 kW.\n"
       ]
      }
     ],
     "prompt_number": 27
    },
    {
     "cell_type": "markdown",
     "metadata": {},
     "source": [
      "####Question 5.4"
     ]
    },
    {
     "cell_type": "markdown",
     "metadata": {},
     "source": [
      "$$Cost = \\frac{Energy}{Time} * Time * \\frac{Cost}{Time}$$"
     ]
    },
    {
     "cell_type": "code",
     "collapsed": false,
     "input": [
      "power_in_kW_hours = trap / (7776000*1000) #Calculation of the total power needed in 3 months (90 days)\n",
      "total_cost = (power_in_kW_hours * 15) / 100 #Calculation of total cost for the 3 months of winter in dollars\n",
      "print 'The electric bill for the winter will be {} dollars.' .format(total_cost)"
     ],
     "language": "python",
     "metadata": {},
     "outputs": [
      {
       "output_type": "stream",
       "stream": "stdout",
       "text": [
        "The electric bill for the winter will be 300.634483709 dollars.\n"
       ]
      }
     ],
     "prompt_number": 23
    }
   ],
   "metadata": {}
  }
 ]
}