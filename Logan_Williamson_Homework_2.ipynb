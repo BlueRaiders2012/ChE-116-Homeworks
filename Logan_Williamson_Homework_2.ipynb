{
 "cells": [
  {
   "cell_type": "markdown",
   "metadata": {},
   "source": [
    "#Logan Williamson"
   ]
  },
  {
   "cell_type": "markdown",
   "metadata": {},
   "source": [
    "##ChE 116 Homework 2"
   ]
  },
  {
   "cell_type": "markdown",
   "metadata": {},
   "source": [
    "# Manipulating Probability Expressions\n"
   ]
  },
  {
   "cell_type": "markdown",
   "metadata": {},
   "source": [
    "####Question 1.1\n",
    "\n",
    "$\\sum_{\\mathcal{X}}P(x|y) = 1$ due to the Law of Total Probability."
   ]
  },
  {
   "cell_type": "markdown",
   "metadata": {},
   "source": [
    "####Question 1.2\n",
    "\n",
    "$\\sum_{\\mathcal{Y}}P(x|y)P(y) = P(x)$ due to  the definition of Marginal of Conditional probability."
   ]
  },
  {
   "cell_type": "markdown",
   "metadata": {},
   "source": [
    "####Question 1.3\n",
    "\n",
    "$\\sum_{\\mathcal{Y}}P(x,y) = P(x)$ due to the defintion of Marginal probability. "
   ]
  },
  {
   "cell_type": "markdown",
   "metadata": {},
   "source": [
    "####Question 1.4\n",
    "\n",
    "$\\frac{P(x,y)}{P(y)} = P(x|y)$ due to the defintion of Conditional Probability."
   ]
  },
  {
   "cell_type": "markdown",
   "metadata": {},
   "source": [
    "####Question 1.5\n",
    "\n",
    "$P(x|y) = P(x)$ iff x,y are independent due to the definition of Independence."
   ]
  },
  {
   "cell_type": "markdown",
   "metadata": {},
   "source": [
    "#Utilizing Probability Expressions"
   ]
  },
  {
   "cell_type": "markdown",
   "metadata": {},
   "source": [
    "####Question 2.1\n",
    "\n",
    "$n = 6$, $Q = 18$, $P = \\frac{1}{3}$"
   ]
  },
  {
   "cell_type": "markdown",
   "metadata": {},
   "source": [
    "####Question 2.2\n",
    "\n",
    "$n=1$, $Q=4$, $P = \\frac{1}{4}$"
   ]
  },
  {
   "cell_type": "markdown",
   "metadata": {},
   "source": [
    "####Question 2.3\n",
    "\n",
    "$n = 2$, $Q = 18$, $P = \\frac{1}{9}$"
   ]
  },
  {
   "cell_type": "markdown",
   "metadata": {},
   "source": [
    "####Question 2.4\n",
    "\n",
    "$n = 5$, $Q = 11$, $P = \\frac{5}{11}$"
   ]
  },
  {
   "cell_type": "markdown",
   "metadata": {},
   "source": [
    "####Question 2.5\n",
    "\n",
    "$n = 1$, $Q = 2$, $P = \\frac{1}{2}$"
   ]
  },
  {
   "cell_type": "markdown",
   "metadata": {},
   "source": [
    "####Question 2.6\n",
    "\n",
    "$n = 4$, $Q = 18$, $P = \\frac{2}{9}$"
   ]
  },
  {
   "cell_type": "markdown",
   "metadata": {},
   "source": [
    "####Question 2.7\n",
    "\n",
    "X and Y:\n",
    "\n",
    "$$P(X=3|Y=A) = \\frac{1}{2}$$\n",
    "$$P(X = 3) = \\frac{4}{9}$$\n",
    "\n",
    "Since these are not equal, X and Y are dependent. \n",
    "\n",
    "Y and Z:\n",
    "\n",
    "$$P(Y=A,Z) = \\frac{4}{18}$$\n",
    "$$P(Y=A) * P(Z) = \\frac{11}{81}$$\n",
    "\n",
    "Since these are not equal, Y and Z are dependent.\n",
    "\n",
    "By the principle of induction, X and Z are also dependent.\n",
    "\n"
   ]
  },
  {
   "cell_type": "markdown",
   "metadata": {},
   "source": [
    "#Ebola Vaccine"
   ]
  },
  {
   "cell_type": "markdown",
   "metadata": {},
   "source": [
    "####Question 3.1"
   ]
  },
  {
   "cell_type": "markdown",
   "metadata": {},
   "source": [
    "$E = 1$ indicates person has Ebola,\n",
    "$T = 1$ indicates positive test\n",
    "\n",
    "$P(E=1) = 0.01$,\n",
    "$P(T=1|E=1) = 0.95$\n",
    "\n",
    "$$P(E=1|T=1) = \\frac{P(T=1|E=1)P(E=1)}{P(T=1)}$$\n",
    "\n",
    "$$P(E=1|T=1) = \\frac{P(T=1|E=1)P(E=1)}{P(T=1|E=1)P(E=1)+P(T=1|E=0)P(E=0)}$$\n"
   ]
  },
  {
   "cell_type": "code",
   "execution_count": 18,
   "metadata": {
    "collapsed": false
   },
   "outputs": [
    {
     "name": "stdout",
     "output_type": "stream",
     "text": [
      "The probability that you have Ebola given that the test says you have Ebola is 16.1%\n"
     ]
    }
   ],
   "source": [
    "#E is the probability that you have Ebola\n",
    "E = 0.01\n",
    "#T is the probability that the test says you have Ebola given you have Ebola\n",
    "T = 0.95\n",
    "\n",
    "P = (T*E)/((T*E)+(1-T)*(1-E))\n",
    "\n",
    "print 'The probability that you have Ebola given that the test says you have Ebola is {:.1%}'.format(P)"
   ]
  },
  {
   "cell_type": "markdown",
   "metadata": {},
   "source": [
    "####Question 3.2"
   ]
  },
  {
   "cell_type": "markdown",
   "metadata": {},
   "source": [
    "$n =$ number of trials,\n",
    "$Z$ indicates a postitive test after n trials\n",
    "$$ Want: P(E=0|Z) < 0.001$$\n",
    "\n",
    "\n",
    "$$P(E=0|Z) = \\frac{P(E=0,Z)}{P(Z)}$$\n",
    "\n",
    "\n",
    "$$P(E=0|Z) =\\frac{P(E=0)P(Z|E=0)}{P(Z)}$$\n",
    "\n",
    "$$P(E=0|Z) = \\frac{P(E=0)P(T=1|E=0)^{n}}{P(T=1|E=0)^{n}P(E=0)+P(T=1|E=1)^{n}P(E=1)}$$"
   ]
  },
  {
   "cell_type": "code",
   "execution_count": 22,
   "metadata": {
    "collapsed": false
   },
   "outputs": [
    {
     "name": "stdout",
     "output_type": "stream",
     "text": [
      "The probability of a false positive test after four trials is 0.000759\n"
     ]
    }
   ],
   "source": [
    "#N is the number of trials\n",
    "n = 4\n",
    "\n",
    "P = (1-E)*(1-T)**n/((1-T)**n*(1-E)+T**n*E)\n",
    "\n",
    "print 'The probability of a false positive test after four trials is {:.3}' .format(P)"
   ]
  },
  {
   "cell_type": "markdown",
   "metadata": {},
   "source": [
    "$\\therefore$ 4 tests are necessary."
   ]
  },
  {
   "cell_type": "markdown",
   "metadata": {},
   "source": [
    "####Question 3.3\n",
    "\n",
    "$$P(A=1|B=0) = \\frac{P(B=0)(A=1)P(A=1)*P(B=1|A=0)}{P(B=0)P(B=1)}$$"
   ]
  },
  {
   "cell_type": "code",
   "execution_count": 47,
   "metadata": {
    "collapsed": false
   },
   "outputs": [
    {
     "data": {
      "text/plain": [
       "0.0004502962949620851"
      ]
     },
     "execution_count": 47,
     "metadata": {},
     "output_type": "execute_result"
    }
   ],
   "source": [
    "(0.05)*(0.01)*(0.05)/((0.941)*(0.059))"
   ]
  },
  {
   "cell_type": "markdown",
   "metadata": {},
   "source": [
    "It can be seen that the probability that the patient has Ebola is very low, and therefore there is no need for the pubic to worry."
   ]
  },
  {
   "cell_type": "markdown",
   "metadata": {},
   "source": [
    "####Question 3.4\n",
    "\n",
    "Repeat screenings are not independent. The accuracy of one trial will affect the outcome of future trials. You will learn from the mistakes you make in previous trials, which will increase the accuracy of the results. Therefore, the screenings are dependent."
   ]
  },
  {
   "cell_type": "markdown",
   "metadata": {},
   "source": [
    "#Python Math and Boolean"
   ]
  },
  {
   "cell_type": "markdown",
   "metadata": {},
   "source": [
    "####Question 4.1"
   ]
  },
  {
   "cell_type": "code",
   "execution_count": 7,
   "metadata": {
    "collapsed": false
   },
   "outputs": [
    {
     "name": "stdout",
     "output_type": "stream",
     "text": [
      "True\n"
     ]
    }
   ],
   "source": [
    "print 2**16 > 10**4"
   ]
  },
  {
   "cell_type": "markdown",
   "metadata": {},
   "source": [
    "####Question 4.2"
   ]
  },
  {
   "cell_type": "code",
   "execution_count": 3,
   "metadata": {
    "collapsed": false
   },
   "outputs": [
    {
     "data": {
      "text/plain": [
       "(0.8, -3)"
      ]
     },
     "execution_count": 3,
     "metadata": {},
     "output_type": "execute_result"
    }
   ],
   "source": [
    "import math\n",
    "math.frexp (.1)"
   ]
  },
  {
   "cell_type": "code",
   "execution_count": 6,
   "metadata": {
    "collapsed": false
   },
   "outputs": [
    {
     "data": {
      "text/plain": [
       "0.1"
      ]
     },
     "execution_count": 6,
     "metadata": {},
     "output_type": "execute_result"
    }
   ],
   "source": [
    "(0.8*2**-3)"
   ]
  },
  {
   "cell_type": "markdown",
   "metadata": {},
   "source": [
    "####Question 4.3"
   ]
  },
  {
   "cell_type": "code",
   "execution_count": 7,
   "metadata": {
    "collapsed": false
   },
   "outputs": [
    {
     "name": "stdout",
     "output_type": "stream",
     "text": [
      "false\n"
     ]
    }
   ],
   "source": [
    "if (0.1 + 0.2 == (1.0 + 2.0)/10):\n",
    "    print 'true'\n",
    "else:\n",
    "    print 'false'"
   ]
  },
  {
   "cell_type": "markdown",
   "metadata": {},
   "source": [
    "Although 0.1 + 0.2 and (1.0 + 2.0)/10 are equal, they will not appear this way when using floats (see above). This is because floats are an approximation of the actual value using binary code. For this reason it is not recommended to combine floats and Boolean logic. "
   ]
  },
  {
   "cell_type": "markdown",
   "metadata": {},
   "source": [
    "####Question 4.4"
   ]
  },
  {
   "cell_type": "code",
   "execution_count": 10,
   "metadata": {
    "collapsed": false
   },
   "outputs": [
    {
     "name": "stdout",
     "output_type": "stream",
     "text": [
      "More ways to shuffle a deck of cards\n"
     ]
    }
   ],
   "source": [
    "if (math.factorial(52) > 10**23):\n",
    "    print 'More ways to shuffle a deck of cards'\n",
    "else:\n",
    "    print 'More stars in the universe'"
   ]
  },
  {
   "cell_type": "markdown",
   "metadata": {},
   "source": [
    "####Question 4.5"
   ]
  },
  {
   "cell_type": "code",
   "execution_count": 42,
   "metadata": {
    "collapsed": false
   },
   "outputs": [],
   "source": [
    "import numpy as np\n",
    "P = np.zeros( (3,3) )\n",
    "P[0,0] = 1. / 9\n",
    "P[0,1] = 1. / 9\n",
    "P[0,2] = 0.\n",
    "P[1,0] = 1. / 3\n",
    "P[1,1] = 0\n",
    "P[1,2] = 1. / 6\n",
    "P[2,0] = 1. / 9\n",
    "P[2,1] = 1. / 18\n",
    "P[2,2] = 1. / 9"
   ]
  },
  {
   "cell_type": "code",
   "execution_count": 43,
   "metadata": {
    "collapsed": false
   },
   "outputs": [
    {
     "name": "stdout",
     "output_type": "stream",
     "text": [
      "0.111111111111\n"
     ]
    }
   ],
   "source": [
    "#How to calculate P(y=0|x=0):\n",
    "\n",
    "prob_y0_given_x0 = P[0,0]\n",
    "print prob_y0_given_x0\n"
   ]
  },
  {
   "cell_type": "code",
   "execution_count": 44,
   "metadata": {
    "collapsed": false
   },
   "outputs": [
    {
     "name": "stdout",
     "output_type": "stream",
     "text": [
      "0.555555555556\n"
     ]
    }
   ],
   "source": [
    "#How to calculate P(y=0):\n",
    "\n",
    "prob_y0 = P[0,0] + P[1,0] + P[2,0]\n",
    "print prob_y0"
   ]
  },
  {
   "cell_type": "markdown",
   "metadata": {},
   "source": [
    "Since prob_y0_given_x0 and prob_y0 are not equal (see above), X and Y are dependent based on the properties of independence which says\n",
    "$$P(Y|X)=P(Y)$$ if X and Y are independent."
   ]
  },
  {
   "cell_type": "markdown",
   "metadata": {},
   "source": [
    "####Question 4.6"
   ]
  },
  {
   "cell_type": "code",
   "execution_count": 45,
   "metadata": {
    "collapsed": false
   },
   "outputs": [
    {
     "name": "stdout",
     "output_type": "stream",
     "text": [
      "0.277777777778\n"
     ]
    }
   ],
   "source": [
    "#How to calculate P(x=2)\n",
    "\n",
    "px2 = P[2,0] + P[2,1] + P[2,2]\n",
    "print px2"
   ]
  },
  {
   "cell_type": "markdown",
   "metadata": {},
   "source": [
    "####Question 4.7"
   ]
  },
  {
   "cell_type": "code",
   "execution_count": 46,
   "metadata": {
    "collapsed": false
   },
   "outputs": [
    {
     "data": {
      "text/plain": [
       "0.33333333333333331"
      ]
     },
     "execution_count": 46,
     "metadata": {},
     "output_type": "execute_result"
    }
   ],
   "source": [
    "P[2,1]/(P[0,1]+P[1,1]+P[2,1])"
   ]
  },
  {
   "cell_type": "markdown",
   "metadata": {},
   "source": [
    "#Probability of Sum of Two Dice"
   ]
  },
  {
   "cell_type": "markdown",
   "metadata": {},
   "source": [
    "####Question 5"
   ]
  },
  {
   "cell_type": "markdown",
   "metadata": {},
   "source": [
    "$n = -|x-7| + 6$,\n",
    "$Q = 36$,\n",
    "$P= \\frac{n}{Q}$"
   ]
  },
  {
   "cell_type": "code",
   "execution_count": 37,
   "metadata": {
    "collapsed": false
   },
   "outputs": [
    {
     "name": "stdout",
     "output_type": "stream",
     "text": [
      "The probability of rolling a sum of 2.0 is 0.0277777777778\n"
     ]
    }
   ],
   "source": [
    "x = 2.0 #Enter desired sum of two die here ranging from 2 to 12\n",
    "Q = 36.0\n",
    "n = -abs(x-7)+6\n",
    "P = n/Q\n",
    "\n",
    "print 'The probability of rolling a sum of', x, 'is', P"
   ]
  },
  {
   "cell_type": "markdown",
   "metadata": {},
   "source": [
    "#Sequence Probability"
   ]
  },
  {
   "cell_type": "markdown",
   "metadata": {},
   "source": [
    "####Question 6"
   ]
  },
  {
   "cell_type": "markdown",
   "metadata": {},
   "source": [
    "Model 1"
   ]
  },
  {
   "cell_type": "code",
   "execution_count": 51,
   "metadata": {
    "collapsed": false
   },
   "outputs": [
    {
     "name": "stdout",
     "output_type": "stream",
     "text": [
      "The probability is 1/8.\n"
     ]
    }
   ],
   "source": [
    "#s is the amino acid identity\n",
    "#i is the position in the sequence\n",
    "\n",
    "\n",
    "s = 'v'\n",
    "i = 24\n",
    "\n",
    "\n",
    "\n",
    "if (i==23 or i==24 or i==25):\n",
    "    if (s=='v' or s=='a' or s=='i' or s=='l'):\n",
    "        print 'The probability is 1/8.'\n",
    "    else:\n",
    "        print 'The probability is 1/32.'\n",
    "else:\n",
    "    print 'The probabiilty is 1/20.'"
   ]
  },
  {
   "cell_type": "markdown",
   "metadata": {},
   "source": [
    "Model 2"
   ]
  },
  {
   "cell_type": "code",
   "execution_count": 54,
   "metadata": {
    "collapsed": false
   },
   "outputs": [
    {
     "name": "stdout",
     "output_type": "stream",
     "text": [
      "The probability is 50/109.\n"
     ]
    }
   ],
   "source": [
    "#s is the amino acid identity\n",
    "#i is the position in the sequence\n",
    "\n",
    "\n",
    "s = 'd'\n",
    "i = 99\n",
    "\n",
    "if (i==24 or i==25):\n",
    "    if(s=='v' or s=='a' or s=='i' or s=='l'):\n",
    "        print 'The probability is 1/8.'\n",
    "    else:\n",
    "        print 'The probability is 1/32.'\n",
    "\n",
    "elif (i==99):\n",
    "    if(s=='d' or s=='e'):\n",
    "        print 'The probability is 50/109.'\n",
    "    else:\n",
    "        print 'The probability is 1/218.'\n",
    "else:\n",
    "    print 'The probabiilty is 1/20.'\n",
    "        "
   ]
  },
  {
   "cell_type": "code",
   "execution_count": null,
   "metadata": {
    "collapsed": false
   },
   "outputs": [],
   "source": []
  }
 ],
 "metadata": {
  "kernelspec": {
   "display_name": "Python 2",
   "language": "python",
   "name": "python2"
  },
  "language_info": {
   "codemirror_mode": {
    "name": "ipython",
    "version": 2
   },
   "file_extension": ".py",
   "mimetype": "text/x-python",
   "name": "python",
   "nbconvert_exporter": "python",
   "pygments_lexer": "ipython2",
   "version": "2.7.8"
  }
 },
 "nbformat": 4,
 "nbformat_minor": 0
}
