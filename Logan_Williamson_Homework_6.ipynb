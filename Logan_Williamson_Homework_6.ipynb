{
 "metadata": {
  "name": "",
  "signature": "sha256:7e66d90f26fe3098e29a0ccb5b5ed3019990fa2792b5496da902730a67b05fa1"
 },
 "nbformat": 3,
 "nbformat_minor": 0,
 "worksheets": [
  {
   "cells": [
    {
     "cell_type": "markdown",
     "metadata": {},
     "source": [
      "#Logan Williamson"
     ]
    },
    {
     "cell_type": "markdown",
     "metadata": {},
     "source": [
      "##ChE 116 Homework 6"
     ]
    },
    {
     "cell_type": "markdown",
     "metadata": {},
     "source": [
      "#Warmup"
     ]
    },
    {
     "cell_type": "markdown",
     "metadata": {},
     "source": [
      "####Queston 0.1"
     ]
    },
    {
     "cell_type": "markdown",
     "metadata": {},
     "source": [
      "###Prediction Interval: \n",
      "\n",
      "The height of 50 students ($N = 50$) in ChE 116 is measured in inches. The mean height of ChE 116 students is $\\mu = 60$ inches and the standard deviation is $\\sigma = 8$ inches. If a random student in the class is selected what interval will their height fall into with a 95% likelihood?\n",
      "\n",
      "$$Z_{97.5}(s) = \\frac{s - \\mu}{\\sigma} = 1.96$$\n",
      "***\n",
      "$$Y = Z * \\sigma = 1.96 * 8$$\n",
      "***\n",
      "$$P(60 - (1.96 * 8) < x < 60 + (1.96 * 8))$$"
     ]
    },
    {
     "cell_type": "markdown",
     "metadata": {},
     "source": [
      "###Confidence Interval using Normal Distribution:\n",
      "\n",
      "The height of 64 students ($N = 64$) in ChE 116 is measured in inches. The sample mean is calculated to be $\\bar{x} = 64$ inches. The standard deviation of all students in the class is known to be $\\sigma = 8$ inches. Find an interval which likely includes the population mean height of ChE 116 students with a confidence interval of 90%.\n",
      "\n",
      "$$Z_{95}(s) = \\frac{s - \\mu_{error}}{\\sigma_{error}} = 1.65$$\n",
      "***\n",
      "$$Z(y) = \\frac{y - 0}{\\frac{8}{\\sqrt{64}}}$$\n",
      "***\n",
      "$$y = 1 * 1.65 = 1.65$$\n",
      "***\n",
      "$$P(\\bar{x} - y < \\mu < \\bar{x} + y) = 0.90$$\n",
      "***\n",
      "$$\\mu = \\bar{x} \\pm y = 64 \\pm 1.65$$ "
     ]
    },
    {
     "cell_type": "markdown",
     "metadata": {},
     "source": [
      "###Confidence Interval using T-Distribution:\n",
      "\n",
      "The height of 9 students ($N = 9$) in ChE 116 is measured in inches. The sample mean is calculated to be $\\bar{x} = 64$ inches and the sample standard devation is calculated to be $\\sigma_{x} = 3$ inches. Find an interval that contains the population mean ($\\mu$) with 95% cetainty. The T value for a 95% confidence interval and 9 samples in 2.26 (see cell below).\n",
      "\n",
      "$$T_{97.5}(s) = \\frac{s - \\mu_{error}}{\\sigma_{error}} = 2.26$$\n",
      "***\n",
      "$$T(y) = \\frac{y - 0}{\\frac{3}{\\sqrt{9}}}$$\n",
      "***\n",
      "$$ y = 1 * 2.26 = 2.26$$\n",
      "***\n",
      "$$\\mu = \\bar{x} \\pm y = 64 \\pm 2.26$$"
     ]
    },
    {
     "cell_type": "code",
     "collapsed": false,
     "input": [
      "import scipy.stats\n",
      "print 'The T-value for 95% CI and 9 samples is {:.3}' .format(scipy.stats.t.ppf(0.975,9))"
     ],
     "language": "python",
     "metadata": {},
     "outputs": []
    },
    {
     "cell_type": "markdown",
     "metadata": {},
     "source": [
      "####Question 0.2"
     ]
    },
    {
     "cell_type": "markdown",
     "metadata": {},
     "source": [
      "In Homework 1, question 2.4 I added the probabilities instead of multiplying them. This is fixed very simply by changing the sign from addition to multiplication. (See Below)"
     ]
    },
    {
     "cell_type": "code",
     "collapsed": false,
     "input": [
      "print (3.0 / 6.0) * (1.0 / 6.0)"
     ],
     "language": "python",
     "metadata": {},
     "outputs": []
    },
    {
     "cell_type": "markdown",
     "metadata": {},
     "source": [
      "#Book Problems"
     ]
    },
    {
     "cell_type": "markdown",
     "metadata": {},
     "source": [
      "##Bulmer"
     ]
    },
    {
     "cell_type": "markdown",
     "metadata": {},
     "source": [
      "####Ex 6.10"
     ]
    },
    {
     "cell_type": "markdown",
     "metadata": {},
     "source": [
      "$$P(0) = e^{-2 * 0.75} = 0.223$$"
     ]
    },
    {
     "cell_type": "markdown",
     "metadata": {},
     "source": [
      "####Ex 7.1"
     ]
    },
    {
     "cell_type": "markdown",
     "metadata": {},
     "source": [
      "A. $$P[X < 90] = P[\\frac{x-100}{16} < \\frac{90-100}{16}] = Z(-0.625) = 1 - Z(0.625) = 1 - 0.733775 = 0.266$$\n",
      "\n",
      "B. $$P[X > 130] =  1 - P[\\frac{x-100}{16} < \\frac{130-100}{16}] =  1- Z(1.875) = 1 - 0.9695 = 0.030$$\n",
      " \n",
      "C. $$P[X < 100] = P[\\frac{X - 100}{16} < \\frac{100-100}{16}] = Z(0) = 0.5$$\n",
      "***\n",
      "   $$P[95 < X < 105] = 10 * \\frac{z(0)}{16} = 10 * \\frac{0.3989}{16} = 10 * 0.0249 = 0.249$$\n",
      "   **Note: Z(0) is the cumulative probability function and z(0) is the probabiliy density function"
     ]
    },
    {
     "cell_type": "markdown",
     "metadata": {},
     "source": [
      "##Langley"
     ]
    },
    {
     "cell_type": "markdown",
     "metadata": {},
     "source": [
      "####Question 15"
     ]
    },
    {
     "cell_type": "code",
     "collapsed": false,
     "input": [
      "import numpy as np\n",
      "pages = [22, 26, 34, 26, 24, 20, 28, 24, 24, 26, 26, 28, 26, 30, 20, 24, 28, 26, 24, 22, 24, 26, 22, 26, 28, 24, 24, 28, 28, 26, 22, 30, 24]\n",
      "\n",
      "x_bar = np.mean(pages)\n",
      "sigma_x = np.std(pages)\n",
      "\n",
      "print 'The arithmatic mean is {} and the sample stardard deviation is {}' .format(x_bar, sigma_x)"
     ],
     "language": "python",
     "metadata": {},
     "outputs": []
    },
    {
     "cell_type": "markdown",
     "metadata": {},
     "source": [
      "####Question 17"
     ]
    },
    {
     "cell_type": "code",
     "collapsed": false,
     "input": [
      "n = range(1,8)\n",
      "x_bar = np.mean(n)\n",
      "median = np.median(n)\n",
      "\n",
      "print 'The arithmatic mean is {} and the median is {}' .format(x_bar, median)"
     ],
     "language": "python",
     "metadata": {},
     "outputs": []
    },
    {
     "cell_type": "markdown",
     "metadata": {},
     "source": [
      "####Question 25"
     ]
    },
    {
     "cell_type": "code",
     "collapsed": false,
     "input": [
      "from scipy import stats\n",
      "width = [54.14, 54.13, 54.12, 54.15, 54.16, 54.14, 54.15, 54.14, 54.15, 54.12, 54.13, 54.15, 54.15, 54.13, 54.13, 54.15, 54.15, 54.17, 54.14, 54.16, 54.19, 54.17, 54.16, 54.17, 54.19, 54.13, 54.12, 54.14, 54.16, 54.15, 54.15, 54.17, 54.16, 54.17, 54.20, 54.16, 54.15, 54.15, 54.15, 54.14, 54.11, 54.14, 54.18, 54.15, 54.15, 54.16, 54.15, 54.14, 54.15, 54.18]\n",
      "print len(width)\n",
      "x_bar = np.mean(width)\n",
      "median = np.median(width)\n",
      "mode = stats.mode(width)\n",
      "print 'The arithmatic mean is {:.4}, the median is {}, and the mode is{}' .format(x_bar, median, mode)"
     ],
     "language": "python",
     "metadata": {},
     "outputs": []
    },
    {
     "cell_type": "markdown",
     "metadata": {},
     "source": [
      "The mean, median, and mode are exactly the same."
     ]
    },
    {
     "cell_type": "markdown",
     "metadata": {},
     "source": [
      "#CLT Theory"
     ]
    },
    {
     "cell_type": "markdown",
     "metadata": {},
     "source": [
      "####Question 2.1"
     ]
    },
    {
     "cell_type": "markdown",
     "metadata": {},
     "source": [
      "No, sample size of 5 is too small."
     ]
    },
    {
     "cell_type": "markdown",
     "metadata": {},
     "source": [
      "####Question 2.2"
     ]
    },
    {
     "cell_type": "markdown",
     "metadata": {},
     "source": [
      "Yes"
     ]
    },
    {
     "cell_type": "markdown",
     "metadata": {},
     "source": [
      "####Question 2.3"
     ]
    },
    {
     "cell_type": "markdown",
     "metadata": {},
     "source": [
      "No, you didnt sum or average the electric bills."
     ]
    },
    {
     "cell_type": "markdown",
     "metadata": {},
     "source": [
      "####Question 2.4"
     ]
    },
    {
     "cell_type": "markdown",
     "metadata": {},
     "source": [
      "Yes"
     ]
    },
    {
     "cell_type": "markdown",
     "metadata": {},
     "source": [
      "####Question 2.5"
     ]
    },
    {
     "cell_type": "markdown",
     "metadata": {},
     "source": [
      "Yes"
     ]
    },
    {
     "cell_type": "markdown",
     "metadata": {},
     "source": [
      "#Confidence Intervals"
     ]
    },
    {
     "cell_type": "code",
     "collapsed": false,
     "input": [
      "data_3_1 = [5.81, 5.27,  5.4,  4.9,  5.83,  3.2,  6.76,  4.29,  4.76,  5.51]\n",
      "data_3_2 = [51.47, 48.18,  48.35,  53.57]\n",
      "data_3_3 = [91.8, 104.04,  129.62,  99.34,  75.92,  56.03,  103.87,  66.27,  88.41,  105.17,  115.05,  111.13,  86.2,  113.48,  96.25,  100.81,  96.56,  89.02,  111.9,  106.55,  117.35,  87.61,  81.97,  106.32,  78.38,  102.38,  80.87,  110.6,  89.09,  132.1]\n",
      "data_3_4 = [5.89, 3.73,  -10.77,  -13.92,  0.73,  -2.52,  -9.69,  14.15,  -8.16,  2.62,  -0.93,  -13.46,  -2.95,  -7.13,  1.01,  1.45,  16.0,  -17.47,  9.58,  13.3]"
     ],
     "language": "python",
     "metadata": {},
     "outputs": []
    },
    {
     "cell_type": "markdown",
     "metadata": {},
     "source": [
      "####Queston 3.1"
     ]
    },
    {
     "cell_type": "code",
     "collapsed": false,
     "input": [
      "N = len(data_3_1) #To determine if Normal or T distribution will be used\n",
      "x_bar = np.mean(data_3_1) #Calculates Sample Mean\n",
      "sigma_x =  np.std(data_3_1) #Calculates Sample STD\n",
      "\n",
      "print 'The sample space is {} so T scores will be used' .format(N)\n",
      "print 'The sample mean is {}' .format(x_bar)\n",
      "print 'The sample std is {}' .format(sigma_x)"
     ],
     "language": "python",
     "metadata": {},
     "outputs": []
    },
    {
     "cell_type": "markdown",
     "metadata": {},
     "source": [
      "$$T = \\frac{(y - \\mu_e)}{(\\sigma_{x} / \\sqrt{N})}$$\n",
      "$$y = T * (\\sigma_{x} / \\sqrt{N})$$\n",
      "$$\\mu = \\bar{x} \\pm y$$"
     ]
    },
    {
     "cell_type": "code",
     "collapsed": false,
     "input": [
      "from math import sqrt\n",
      "import scipy.stats\n",
      "T = scipy.stats.t.ppf(0.95, 10) #The upper T-value\n",
      "print 'T = {}' .format(T)"
     ],
     "language": "python",
     "metadata": {},
     "outputs": []
    },
    {
     "cell_type": "code",
     "collapsed": false,
     "input": [
      "y = T * (sigma_x / sqrt(N))\n",
      "print 'y = {}' .format(y)"
     ],
     "language": "python",
     "metadata": {},
     "outputs": []
    },
    {
     "cell_type": "markdown",
     "metadata": {},
     "source": [
      "With a 90% confidence interval, the mean will be:\n",
      "$$\\mu = 5.173 \\pm 0.5268$$"
     ]
    },
    {
     "cell_type": "markdown",
     "metadata": {},
     "source": [
      "####Question 3.2"
     ]
    },
    {
     "cell_type": "code",
     "collapsed": false,
     "input": [
      "N = len(data_3_2) #To determine if Normal or T distribution will be used\n",
      "x_bar = np.mean(data_3_2) #Calculates Sample Mean\n",
      "sigma_x =  np.std(data_3_2) #Calculates Sample STD\n",
      "\n",
      "print 'The sample space is {} so T scores will be used' .format(N)\n",
      "print 'The sample mean is {}' .format(x_bar)\n",
      "print 'The sample std is {}' .format(sigma_x)"
     ],
     "language": "python",
     "metadata": {},
     "outputs": []
    },
    {
     "cell_type": "markdown",
     "metadata": {},
     "source": [
      "$$T = \\frac{(y - \\mu_e)}{(\\sigma_{x} / \\sqrt{N})}$$\n",
      "$$y = T * (\\sigma_{x} / \\sqrt{N})$$\n",
      "$$\\mu = \\bar{x} \\pm y$$"
     ]
    },
    {
     "cell_type": "code",
     "collapsed": false,
     "input": [
      "T = scipy.stats.t.ppf(0.975, 4) #The upper T-value\n",
      "print 'T = {}' .format(T)"
     ],
     "language": "python",
     "metadata": {},
     "outputs": []
    },
    {
     "cell_type": "code",
     "collapsed": false,
     "input": [
      "y = T * (sigma_x / sqrt(N)) #Determines how far away from the sample mean we must go on both sides to be 90$ certain\n",
      "print 'y = {}' .format(y)"
     ],
     "language": "python",
     "metadata": {},
     "outputs": []
    },
    {
     "cell_type": "markdown",
     "metadata": {},
     "source": [
      "With a 95% confidence interval, the mean will be:\n",
      "$$\\mu = 50.3925 \\pm 5.874$$"
     ]
    },
    {
     "cell_type": "markdown",
     "metadata": {},
     "source": [
      "####Question 3.3"
     ]
    },
    {
     "cell_type": "code",
     "collapsed": false,
     "input": [
      "N = len(data_3_3) #To determine if Normal or T distribution will be used\n",
      "x_bar = np.mean(data_3_3) #Calculates Sample Mean\n",
      "sigma_x =  np.std(data_3_3) #Calculates Sample STD\n",
      "\n",
      "print 'The sample space is {} so Z scores will be used' .format(N)\n",
      "print 'The sample mean is {}' .format(x_bar)\n",
      "print 'The sample std is {}' .format(sigma_x)"
     ],
     "language": "python",
     "metadata": {},
     "outputs": []
    },
    {
     "cell_type": "markdown",
     "metadata": {},
     "source": [
      "$$Z = \\frac{(y - \\mu_e)}{(\\sigma_{x} / \\sqrt{N})}$$\n",
      "$$y = Z * (\\sigma_{x} / \\sqrt{N})$$\n",
      "$$\\mu = \\bar{x} \\pm y$$"
     ]
    },
    {
     "cell_type": "code",
     "collapsed": false,
     "input": [
      "Z = scipy.stats.norm.ppf(0.995) #The upper Z-value\n",
      "print 'Z = {}' .format(Z)"
     ],
     "language": "python",
     "metadata": {},
     "outputs": []
    },
    {
     "cell_type": "code",
     "collapsed": false,
     "input": [
      "y = Z * (sigma_x / sqrt(N)) #Determines how far away from the sample mean we must go on both sides to be 90$ certain\n",
      "print 'y = {}' .format(y)"
     ],
     "language": "python",
     "metadata": {},
     "outputs": []
    },
    {
     "cell_type": "markdown",
     "metadata": {},
     "source": [
      "With a 99% confidence interval, the mean will be:\n",
      "$$\\mu = 97.803 \\pm 7.971$$"
     ]
    },
    {
     "cell_type": "markdown",
     "metadata": {},
     "source": [
      "####Question 3.4"
     ]
    },
    {
     "cell_type": "code",
     "collapsed": false,
     "input": [
      "N = len(data_3_4) #To determine if Normal or T distribution will be used\n",
      "x_bar = np.mean(data_3_4) #Calculates Sample Mean\n",
      "sigma_x =  np.std(data_3_4) #Calculates Sample STD\n",
      "\n",
      "print 'The sample space is {} so T scores will be used' .format(N)\n",
      "print 'The sample mean is {}' .format(x_bar)\n",
      "print 'The sample std is {}' .format(sigma_x)"
     ],
     "language": "python",
     "metadata": {},
     "outputs": []
    },
    {
     "cell_type": "markdown",
     "metadata": {},
     "source": [
      "$$T = \\frac{(y - \\mu_e)}{(\\sigma_{x} / \\sqrt{N})}$$\n",
      "$$y = T * (\\sigma_{x} / \\sqrt{N})$$\n",
      "$$\\mu = \\bar{x} + y$$\n",
      "***\n",
      "Notice we only add y to $\\bar{x}$ now since this is single-sided confidence interval."
     ]
    },
    {
     "cell_type": "code",
     "collapsed": false,
     "input": [
      "T = scipy.stats.t.ppf(0.90, 20) #The upper T-value\n",
      "print 'T = {}' .format(T)"
     ],
     "language": "python",
     "metadata": {},
     "outputs": []
    },
    {
     "cell_type": "code",
     "collapsed": false,
     "input": [
      "y = T * (sigma_x / sqrt(N)) #Determines how far away from the sample mean we must go on both sides to be 90$ certain\n",
      "print 'y = {}' .format(y)"
     ],
     "language": "python",
     "metadata": {},
     "outputs": []
    },
    {
     "cell_type": "markdown",
     "metadata": {},
     "source": [
      "With a 90% confidence interval, the mean will be below:\n",
      "$$\\mu = -0.927 + 2.803$$"
     ]
    },
    {
     "cell_type": "markdown",
     "metadata": {},
     "source": [
      "#Math Equations"
     ]
    },
    {
     "cell_type": "markdown",
     "metadata": {},
     "source": [
      "####Question 4.1"
     ]
    },
    {
     "cell_type": "code",
     "collapsed": false,
     "input": [
      "from scipy.optimize import newton, minimize\n",
      "from math import cos\n",
      "\n",
      "root = newton(lambda x: cos(x**2) - x, x0 = 0)\n",
      "print 'root = {}' .format(root)"
     ],
     "language": "python",
     "metadata": {},
     "outputs": [
      {
       "output_type": "stream",
       "stream": "stdout",
       "text": [
        "root = 0.801070765209\n"
       ]
      }
     ],
     "prompt_number": 45
    },
    {
     "cell_type": "markdown",
     "metadata": {},
     "source": [
      "####Question 4.2"
     ]
    },
    {
     "cell_type": "code",
     "collapsed": false,
     "input": [
      "root = newton(lambda x: x**2 - 4839, x0 = 0)\n",
      "print 'root = {}' .format(root)"
     ],
     "language": "python",
     "metadata": {},
     "outputs": [
      {
       "output_type": "stream",
       "stream": "stdout",
       "text": [
        "root = 69.5629211578\n"
       ]
      }
     ],
     "prompt_number": 46
    },
    {
     "cell_type": "markdown",
     "metadata": {},
     "source": [
      "####Question 4.3"
     ]
    },
    {
     "cell_type": "code",
     "collapsed": false,
     "input": [
      "from scipy.integrate import quad\n",
      "from math import pi, sin\n",
      "\n",
      "def function (x):\n",
      "    ans, err = quad(lambda s: (sin(s))**2, pi , x)\n",
      "    return ans -1\n",
      "function (2*pi)\n",
      "\n",
      "\n",
      "root = newton(function, x)\n",
      "print 'Root = {}' .format(root)\n"
     ],
     "language": "python",
     "metadata": {},
     "outputs": [
      {
       "output_type": "stream",
       "stream": "stdout",
       "text": [
        "Root = 4.93041265958\n"
       ]
      }
     ],
     "prompt_number": 44
    },
    {
     "cell_type": "code",
     "collapsed": true,
     "input": [],
     "language": "python",
     "metadata": {},
     "outputs": []
    }
   ],
   "metadata": {}
  }
 ]
}