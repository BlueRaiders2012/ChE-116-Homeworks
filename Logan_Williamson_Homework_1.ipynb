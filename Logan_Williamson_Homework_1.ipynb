{
 "cells": [
  {
   "cell_type": "markdown",
   "metadata": {},
   "source": [
    "# Logan Williamson\n",
    "### ChE 116 \n",
    "### Homework 1"
   ]
  },
  {
   "cell_type": "markdown",
   "metadata": {},
   "source": [
    "# Simple Probability"
   ]
  },
  {
   "cell_type": "markdown",
   "metadata": {},
   "source": [
    "1.1 $P(A)+P(B)$"
   ]
  },
  {
   "cell_type": "markdown",
   "metadata": {},
   "source": [
    "1.2 $P(A)+P(B)=1$"
   ]
  },
  {
   "cell_type": "markdown",
   "metadata": {},
   "source": [
    "1.3 $P(A)*P(B)$"
   ]
  },
  {
   "cell_type": "markdown",
   "metadata": {},
   "source": [
    "1.4 In question 1.2 only ONE event is being observed, while in question 1.3 there are TWO events being observed. "
   ]
  },
  {
   "cell_type": "markdown",
   "metadata": {},
   "source": [
    "#Die Probability"
   ]
  },
  {
   "cell_type": "code",
   "execution_count": 13,
   "metadata": {
    "collapsed": false
   },
   "outputs": [
    {
     "data": {
      "text/plain": [
       "0.5"
      ]
     },
     "execution_count": 13,
     "metadata": {},
     "output_type": "execute_result"
    }
   ],
   "source": [
    "3.0 / 6.0"
   ]
  },
  {
   "cell_type": "code",
   "execution_count": 14,
   "metadata": {
    "collapsed": false
   },
   "outputs": [
    {
     "data": {
      "text/plain": [
       "0.8333333333333333"
      ]
     },
     "execution_count": 14,
     "metadata": {},
     "output_type": "execute_result"
    }
   ],
   "source": [
    "3.0 / 6.0 + 2.0 / 6.0"
   ]
  },
  {
   "cell_type": "code",
   "execution_count": 15,
   "metadata": {
    "collapsed": false
   },
   "outputs": [
    {
     "data": {
      "text/plain": [
       "0.5"
      ]
     },
     "execution_count": 15,
     "metadata": {},
     "output_type": "execute_result"
    }
   ],
   "source": [
    "3.0 / 6.0"
   ]
  },
  {
   "cell_type": "code",
   "execution_count": 17,
   "metadata": {
    "collapsed": false
   },
   "outputs": [
    {
     "data": {
      "text/plain": [
       "0.6666666666666666"
      ]
     },
     "execution_count": 17,
     "metadata": {},
     "output_type": "execute_result"
    }
   ],
   "source": [
    "3.0 / 6.0 + 1.0 / 6.0"
   ]
  },
  {
   "cell_type": "code",
   "execution_count": 18,
   "metadata": {
    "collapsed": false
   },
   "outputs": [
    {
     "data": {
      "text/plain": [
       "0.08333333333333333"
      ]
     },
     "execution_count": 18,
     "metadata": {},
     "output_type": "execute_result"
    }
   ],
   "source": [
    "(3.0 / 6.0) * (1.0 / 6.0)"
   ]
  },
  {
   "cell_type": "code",
   "execution_count": 25,
   "metadata": {
    "collapsed": false
   },
   "outputs": [
    {
     "name": "stdout",
     "output_type": "stream",
     "text": [
      "In question 2.4 the events do not have to happen on consecutive rolls so the probability is much higher than in question 2.5 in which event A and event B have to occur on back to back rolls.\n"
     ]
    }
   ],
   "source": [
    "print('In question 2.4 the events do not have to happen on consecutive rolls so the probability is much higher than in question 2.5 in which event A and event B have to occur on back to back rolls.')"
   ]
  },
  {
   "cell_type": "markdown",
   "metadata": {},
   "source": [
    "# Sample Spaces"
   ]
  },
  {
   "cell_type": "markdown",
   "metadata": {},
   "source": [
    "3.1 $6 * 6 = 36$"
   ]
  },
  {
   "cell_type": "markdown",
   "metadata": {},
   "source": [
    "3.2 ($0$, $\\infty$ )"
   ]
  },
  {
   "cell_type": "markdown",
   "metadata": {},
   "source": [
    "3.3 $Q_{16} = 2 ^{16}$ , $Q_{32} = 2 ^{32}$ .. The sample space increaes by a power of 16."
   ]
  },
  {
   "cell_type": "markdown",
   "metadata": {},
   "source": [
    "3.4 $Q_{16} = 2 ^ {16} - 1$"
   ]
  },
  {
   "cell_type": "markdown",
   "metadata": {},
   "source": [
    "3.5 $Q_{16} = 2 ^ {16} * (2 ^ {16} -1)$"
   ]
  },
  {
   "cell_type": "markdown",
   "metadata": {},
   "source": [
    "3.6 $Q = {3 H_{2} + O_{2}, 2 H_{2}O + H_{2}, H_{2}O_{2} + 2 H_{2}, 2 H_{3}O^{+}, 2 OH^{-} + 2 H_{2}}$ ...  $Q=5$"
   ]
  },
  {
   "cell_type": "markdown",
   "metadata": {},
   "source": [
    "3.7 ${AC,ACB,ACD,ACBD,BD,BDC,BDA,BDAC,CD,CB,CBD,CBA,CBDA,DA,DC,DCB,DAC,DACB}$ .... $Q = 18$"
   ]
  },
  {
   "cell_type": "markdown",
   "metadata": {},
   "source": [
    "# Combinations"
   ]
  },
  {
   "cell_type": "markdown",
   "metadata": {},
   "source": [
    "4.1 $n = 4$: $1 + 3$, $2 + 2$, $3 + 1$\n",
    "\n",
    "$P(4) = \\frac{3}{36} = \\frac{1}{12}$"
   ]
  },
  {
   "cell_type": "markdown",
   "metadata": {},
   "source": [
    "4.2 $n=7$: $1+6$, $2+5$, $3+4$, $4+3$, $5+2$, $6+1$\n",
    "\n",
    "$P(7) = \\frac{6}{36} = \\frac{1}{6}$"
   ]
  },
  {
   "cell_type": "markdown",
   "metadata": {},
   "source": [
    "4.3 $P(Correct Key) =\\frac {1} {2 ^ {16}}$"
   ]
  },
  {
   "cell_type": "markdown",
   "metadata": {},
   "source": [
    "4.4 $P(Correct Key) =\\frac {1}  {2 ^ {16} - 1}$"
   ]
  },
  {
   "cell_type": "markdown",
   "metadata": {},
   "source": [
    "4.5 $P(2) AND [NOT P(1)]$:\n",
    "$$\\frac{1}{2^{16}-1} * (1 - \\frac{1}{2^{16}})$$\n",
    "$$(\\frac{1}{2^{16}-1}) * (\\frac{2^{16}}{2^{16}} - \\frac{1}{2^{16}})$$\n",
    "$$(\\frac{1}{2^{16}-1}) * (\\frac{2^{16}-1}{2^{16}})$$\n",
    "$$Probability =\\frac {1}{2^{16}}$$\n"
   ]
  },
  {
   "cell_type": "markdown",
   "metadata": {},
   "source": [
    "4.6 P(m) AND NOT (P(m-1)...P(1)):\n",
    "$$(1 - \\frac{1}{2^{16}}) * (1 - \\frac{1}{2^{16}-1})*...*(1 - \\frac{1}{2^{16}-(m-2)})*(\\frac{1}{2^{16}-(m-1)})$$\n",
    "$$(\\frac{2^{16}-1}{2^{16}}) * (\\frac{2^{16}-2}{2^{16}-1})*...*(\\frac{2^{16}-(m-1)}{2^{16}-(m-2)}) * (\\frac{1}{2^{16}-(m-1)})$$\n",
    "$$P(m)=\\frac{1}{2^{16}}$$\n",
    "\n",
    "\n",
    "Explaination: The probability of guessing the key for any given single attempt (m) is $\\frac {1} {2^{16}}$.\n"
   ]
  },
  {
   "cell_type": "markdown",
   "metadata": {},
   "source": [
    "4.7 P(1) OR P(2) AND NOT P(1):\n",
    "$$\\frac {1}{2^{16}} + \\frac {1}{2^{16}-1} * (1 - \\frac {1}{2^{16}})$$\n",
    "$$\\frac {1}{2^{16}} + \\frac {1}{2^{16}-1} * \\frac {2^{16} -1}{2^{16}}$$\n",
    "$$\\frac {1}{2^{16}} + \\frac {1}{2^{16}}$$\n",
    "$$P = \\frac {2}{2^{16}}$$\n",
    "\n",
    "Explaination: This answer makes sense because the probability of guessing the key after each attempt is $\\frac{1}{2^{16}}$ so if you add the first and second attempts together the probabilty will be $\\frac{2}{2^{16}}$.\n"
   ]
  },
  {
   "cell_type": "markdown",
   "metadata": {},
   "source": [
    "4.8 $$P(m) = \\frac{1}{2^{16}}$$\n",
    "$$\\therefore P(m+1) = \\frac{1}{2^{16}-m}$$"
   ]
  },
  {
   "cell_type": "markdown",
   "metadata": {},
   "source": [
    "4.9 $$P(1)= \\frac{1}{2^{16}}$$\n",
    "$$P(2) = \\frac{1}{2^{16}-1}$$\n",
    "$$P(3) = \\frac{1}{2^{16}-2}$$\n",
    "$$P(4) = \\frac{1}{2^{16}-3}$$\n",
    "$$P(m) = \\frac{1}{2^{16}-(m-1)}$$\n",
    "\n",
    "Explaination: This makes sense because $P(2^{16}) = 1$ which is reasonable because this is the sample size for a 16 bit binary key."
   ]
  },
  {
   "cell_type": "markdown",
   "metadata": {},
   "source": [
    "4.10 In order for the probability of guessing the key to be > 0.5, you must make $2^{8} + 1$ guesses, which is exactly one more than half the sample size which is $2^{16}$."
   ]
  },
  {
   "cell_type": "markdown",
   "metadata": {},
   "source": [
    "4.11 In order for the probability of guessing the key to be > 0.5 if the key bit is doulbed to 32 bits, you must make $2^{16}+1$ guesses, which is exactly one more than half the sample size which is $2^{32}$."
   ]
  },
  {
   "cell_type": "markdown",
   "metadata": {},
   "source": [
    "4.12 $P(2 Gas Molecules) = \\frac {1}{5}$ because 4 out of the 5 possible combinations are not gasses."
   ]
  },
  {
   "cell_type": "markdown",
   "metadata": {},
   "source": [
    "4.13 $P(AD) = \\frac{2}{18}$ because there are two paths (ACD,ACBD) that start with A and end with D and the sample size is 18."
   ]
  },
  {
   "cell_type": "code",
   "execution_count": null,
   "metadata": {
    "collapsed": false
   },
   "outputs": [],
   "source": []
  }
 ],
 "metadata": {
  "kernelspec": {
   "display_name": "Python 2",
   "language": "python",
   "name": "python2"
  },
  "language_info": {
   "codemirror_mode": {
    "name": "ipython",
    "version": 2
   },
   "file_extension": ".py",
   "mimetype": "text/x-python",
   "name": "python",
   "nbconvert_exporter": "python",
   "pygments_lexer": "ipython2",
   "version": "2.7.8"
  }
 },
 "nbformat": 4,
 "nbformat_minor": 0
}
