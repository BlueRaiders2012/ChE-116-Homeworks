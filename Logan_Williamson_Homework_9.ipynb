{
 "metadata": {
  "name": "",
  "signature": "sha256:2a45d69d618c072f38d2ff8f99d67b9e8960d1404990f92a75c3f5fd75376a72"
 },
 "nbformat": 3,
 "nbformat_minor": 0,
 "worksheets": [
  {
   "cells": [
    {
     "cell_type": "markdown",
     "metadata": {},
     "source": [
      "Logan Williamson\n",
      "====\n",
      "Homework 9\n",
      "====\n",
      "####CHE 116: Numerical Methods and Statistics\n",
      "Prof. Andrew White\n",
      "\n",
      "Version 1.0 (3/19/2015)\n",
      "\n",
      "----"
     ]
    },
    {
     "cell_type": "code",
     "collapsed": false,
     "input": [
      "%matplotlib inline\n",
      "import random\n",
      "import numpy as np\n",
      "import matplotlib.pyplot as plt\n",
      "from math import sqrt, pi, erf\n",
      "import seaborn\n",
      "seaborn.set_context(\"talk\")\n",
      "import scipy.optimize\n",
      "import scipy.stats"
     ],
     "language": "python",
     "metadata": {},
     "outputs": [],
     "prompt_number": 1
    },
    {
     "cell_type": "markdown",
     "metadata": {},
     "source": [
      "General Instructions\n",
      "====\n",
      "\n",
      "For full credit, you must have the following items for each problem:\n",
      "\n",
      "* [1 point] Describe what and why the method you're using is applicable. For example, 'I chose the signed rank test because these are two matched datasets describing one measurement'\n",
      "\n",
      "* [1 point] Write out the null hypothesis. For example, 'The null hypothesis is that the two measurements sets came from the same population (synonymous with probability distribution)'\n",
      "\n",
      "* [1 point] Report the p-value and your alpha value\n",
      "\n",
      "* [1 point] if you accept/reject the null hypothesis and answer the question\n",
      "\n",
      "*All the book problems are from Langley*"
     ]
    },
    {
     "cell_type": "markdown",
     "metadata": {},
     "source": [
      "1. $zM$ Tests (8 Points)\n",
      "====\n",
      "\n",
      "\n",
      "1. Page 158, Q41\n",
      "\n",
      "2. Page 159, Q42"
     ]
    },
    {
     "cell_type": "markdown",
     "metadata": {},
     "source": [
      "####1- \n",
      "The zM test is acceptable because we are comparing a sample vs a single normally distributed population and the standard deviation of the population is known. \n",
      "\n",
      "**Null Hypothesis**: The sample is copper"
     ]
    },
    {
     "cell_type": "code",
     "collapsed": false,
     "input": [
      "x = 1072.\n",
      "mu = 1080.\n",
      "sigma = 5.\n",
      "\n",
      "Z = (x - mu) / sigma\n",
      "interval_p = 0.5 * (erf(-Z / sqrt(2)) - erf(Z / sqrt(2)))\n",
      "\n",
      "print 'Z = ',-Z\n",
      "print 'p = ',1 -interval_p\n",
      "print 'alpha =',0.05\n",
      "print 'The probability of no significant difference between the sample and the mean = {:.2%}.' .format(1 - interval_p)"
     ],
     "language": "python",
     "metadata": {},
     "outputs": [
      {
       "output_type": "stream",
       "stream": "stdout",
       "text": [
        "Z =  1.6\n",
        "p =  0.109598583399\n",
        "alpha = 0.05\n",
        "The probability of no significant difference between the sample and the mean = 10.96%.\n"
       ]
      }
     ],
     "prompt_number": 3
    },
    {
     "cell_type": "markdown",
     "metadata": {},
     "source": [
      "**Conclusion**: The p-value is greater than alpha...**Accept the Null Hypothesis**..The sample is likely copper."
     ]
    },
    {
     "cell_type": "markdown",
     "metadata": {},
     "source": [
      "####2-\n",
      "The zM Test is adequete because we are comparing a sample (multiple trials) vs a single normally distributed population and the population mean and standard deviation is known. \n",
      "\n",
      "**Null Hypothesis**: The sample is copper"
     ]
    },
    {
     "cell_type": "code",
     "collapsed": false,
     "input": [
      "x = [1072., 1071., 1072., 1073.]\n",
      "x_bar = np.mean(x)\n",
      "mu = 1080.\n",
      "sigma = 5.\n",
      "n = 4\n",
      "\n",
      "Z = (sqrt(n)*(x_bar - mu)) / sigma\n",
      "interval_p = 0.5 * (erf(-Z / sqrt(2)) - erf(Z / sqrt(2)))\n",
      "\n",
      "print 'Sample Mean =',x_bar\n",
      "print 'Z = ',-Z\n",
      "print 'p = ',1 - interval_p\n",
      "print 'alpha =', 0.05\n",
      "print 'The probability of no significant difference between the sample and the mean = {:.2%}' .format(1 - interval_p)"
     ],
     "language": "python",
     "metadata": {},
     "outputs": [
      {
       "output_type": "stream",
       "stream": "stdout",
       "text": [
        "Sample Mean = 1072.0\n",
        "Z =  3.2\n",
        "p =  0.00137427587583\n",
        "alpha = 0.05\n",
        "The probability of no significant difference between the sample and the mean = 0.14%\n"
       ]
      }
     ],
     "prompt_number": 4
    },
    {
     "cell_type": "markdown",
     "metadata": {},
     "source": [
      "**Conclusion**: When the melting test is done 4 times rather than just once (even though the mean is the same), the p-value decreases from 0.11 to 0.001 causing p to be less than alpha, causing us to **reject the null hypothesis**, meaning that the sample is likely not copper. In other words, the likelihood that the sample is copper decreases."
     ]
    },
    {
     "cell_type": "markdown",
     "metadata": {},
     "source": [
      "2. $t$-Tests (4 Points)\n",
      "====\n",
      "\n",
      "1. Page 165, Q45"
     ]
    },
    {
     "cell_type": "markdown",
     "metadata": {},
     "source": [
      "####1-\n",
      "\n",
      "The Students t-test is applicable  because the sample consists of 3 or more measurements, the population mean is known, and the population standard deviation is unknown.\n",
      "\n",
      "**Null Hypothesis**: The secretary is not over-using the phone"
     ]
    },
    {
     "cell_type": "code",
     "collapsed": false,
     "input": [
      "samples = np.array([56., 51., 63., 60.])\n",
      "sigma_x = sqrt(np.var(samples, ddof=1))\n",
      "sample_mean = np.mean(samples)\n",
      "true_mean = 48.\n",
      "\n",
      "print 'The sample SD is {}, The sample mean is {}, and the true mean is {}' .format(sigma_x, sample_mean, true_mean)\n",
      "\n",
      "T = (sample_mean - true_mean) / (sigma_x / sqrt(len(samples)))\n",
      "print 'T =',T\n",
      "\n",
      "interval_p = scipy.stats.t.cdf(T, len(samples)) \n",
      "p = (1-interval_p)*2 #Must do 1 - interval_p because T value was reversed\n",
      "print 'p = ',p\n",
      "print 'alpha =', 0.05\n",
      "print 'The probability of no significant difference between the sample and the true mean = {:.2%}' .format(p)"
     ],
     "language": "python",
     "metadata": {},
     "outputs": [
      {
       "output_type": "stream",
       "stream": "stdout",
       "text": [
        "The sample SD is 5.19615242271, The sample mean is 57.5, and the true mean is 48.0\n",
        "T = 3.65655170487\n",
        "p =  0.0216459982273\n",
        "alpha = 0.05\n",
        "The probability of no significant difference between the sample and the true mean = 2.16%\n"
       ]
      }
     ],
     "prompt_number": 5
    },
    {
     "cell_type": "markdown",
     "metadata": {},
     "source": [
      "**Conclusion**: The p-value is less than alpha...the **null hypothesis is rejected**.. therefore the secretary is over-using the phone."
     ]
    },
    {
     "cell_type": "markdown",
     "metadata": {},
     "source": [
      "3. Wilcoxon's Sum of Rank Test (4 Points)\n",
      "====\n",
      "\n",
      "1. Page 177, Q47"
     ]
    },
    {
     "cell_type": "markdown",
     "metadata": {},
     "source": [
      "####1-\n",
      "\n",
      "Wilcoxon's Sum of Rank Test is applicable because we are measuring one thing (weight of gunpowder) and the data is unmatched because we are comparing two different brands.\n",
      "\n",
      "**Null Hypothesis**: There is no significant different between the mean weights of gunpowder in the two cartridges."
     ]
    },
    {
     "cell_type": "code",
     "collapsed": false,
     "input": [
      "favorite_brand = np.array([3.05, 3.01, 3.20, 3.16, 3.11, 3.09])\n",
      "new_brand = np.array([3.18, 3.23, 3.19, 3.28, 3.08, 3.18])\n",
      "x = scipy.stats.ranksums(favorite_brand, new_brand)\n",
      "print x\n",
      "print 'The p-value = {}' .format(x[1])\n",
      "print 'alpha =', 0.05\n",
      "print 'The probability of no significant difference between the two sample means = {:.2%}' .format(x[1])"
     ],
     "language": "python",
     "metadata": {},
     "outputs": [
      {
       "output_type": "stream",
       "stream": "stdout",
       "text": [
        "(-1.7614096918559585, 0.078169085824283446)\n",
        "The p-value = 0.0781690858243\n",
        "alpha = 0.05\n",
        "The probability of no significant difference between the two sample means = 7.82%\n"
       ]
      }
     ],
     "prompt_number": 6
    },
    {
     "cell_type": "markdown",
     "metadata": {},
     "source": [
      "**Conclusion**: The p-value is greater than alpha and therefore we **Accept the Null Hypothesis** meaning there is no significant difference between the mean weight of gunpowder in the two brands."
     ]
    },
    {
     "cell_type": "markdown",
     "metadata": {},
     "source": [
      "4. Wilcoxon's Signed Rank Test (4 Points)\n",
      "====\n",
      "\n",
      "1. Page 187, Q50"
     ]
    },
    {
     "cell_type": "markdown",
     "metadata": {},
     "source": [
      "####1- \n",
      "Wilcoxon's Signed Rank Test is applicable because the two sets of data both measure fuel milage, have greater than 6 samples, and the data is matched.\n",
      "\n",
      "**Null Hypothesis**: There is no significant difference in gas milage between plain gasoline and plain gasoline with added lube."
     ]
    },
    {
     "cell_type": "code",
     "collapsed": false,
     "input": [
      "plain_gas = np.array([17.1, 29.5, 23.8, 37.3, 19.6, 24.2, 30.0, 20.9])\n",
      "with_lube = np.array([14.2, 30.3, 21.5, 36.3, 19.6, 24.5, 26.7, 20.6])\n",
      "x = scipy.stats.wilcoxon(plain_gas, with_lube)\n",
      "print x\n",
      "print 'The p-value =',x[1]\n",
      "print 'alpha =',0.05\n",
      "print 'The probability of no significant difference between the two samples = {:.2%}' .format(x[1])"
     ],
     "language": "python",
     "metadata": {},
     "outputs": [
      {
       "output_type": "stream",
       "stream": "stdout",
       "text": [
        "(5.0, 0.12819017434510785)\n",
        "The p-value = 0.128190174345\n",
        "alpha = 0.05\n",
        "The probability of no significant difference between the two samples = 12.82%\n"
       ]
      },
      {
       "output_type": "stream",
       "stream": "stderr",
       "text": [
        "C:\\Users\\User\\Anaconda\\lib\\site-packages\\scipy\\stats\\morestats.py:1967: UserWarning: Warning: sample size too small for normal approximation.\n",
        "  warnings.warn(\"Warning: sample size too small for normal approximation.\")\n"
       ]
      }
     ],
     "prompt_number": 7
    },
    {
     "cell_type": "markdown",
     "metadata": {},
     "source": [
      "**Conclusion**: The p-value is greater than alpha therefore we **Accept the Null Hypotheis** meaning there is likley no significant difference in fuel milage between the plain gas and the gas with added lubricant."
     ]
    },
    {
     "cell_type": "markdown",
     "metadata": {},
     "source": [
      "5. Spearman's Correlation Test (4 Points)\n",
      "====\n",
      "\n",
      "1. Page 210, Q55"
     ]
    },
    {
     "cell_type": "markdown",
     "metadata": {},
     "source": [
      "####1-\n",
      "Spearman's Correlation Test is applicable because we are measuring two different things (Temperature and Yield) and the measurements come in tuples (matched).\n",
      "\n",
      "**Null Hypothesis**: Temperature and Yield are uncorrelated."
     ]
    },
    {
     "cell_type": "code",
     "collapsed": false,
     "input": [
      "temperature = np.array([15, 18, 21, 24, 27, 30, 33])\n",
      "_yield = np.array([66, 69, 69, 70, 64, 73, 75])\n",
      "x = scipy.stats.pearsonr(temperature, _yield)\n",
      "print x\n",
      "print 'The p-value =', x[1]\n",
      "print 'alpha =',0.05\n",
      "print 'The probability that the samples are uncorrelated = {:.2%}' .format(x[1])"
     ],
     "language": "python",
     "metadata": {},
     "outputs": [
      {
       "output_type": "stream",
       "stream": "stdout",
       "text": [
        "(0.61237243569579447, 0.14381080871160398)\n",
        "The p-value = 0.143810808712\n",
        "alpha = 0.05\n",
        "The probability that the samples are uncorrelated = 14.38%\n"
       ]
      }
     ],
     "prompt_number": 8
    },
    {
     "cell_type": "markdown",
     "metadata": {},
     "source": [
      "**Conclusion**: P-value greater than alpha..**Accept Null Hypothesis**..it is not likely that temperature and yield are correlated."
     ]
    },
    {
     "cell_type": "markdown",
     "metadata": {},
     "source": [
      "6.Poisson Test (4 Points)\n",
      "===\n",
      "\n",
      "1. Page 236, Q61"
     ]
    },
    {
     "cell_type": "markdown",
     "metadata": {},
     "source": [
      "####1-\n",
      "Poisson's Test is applicable because there is less than 40 samples (25 people), and the number of allergic reactions is less than 10% of the sample population(2 people).\n",
      "\n",
      "**Null Hypothesis**: The number of allergic reactions in your experiment is statistically significant, meaning the initial experiment was inadequete."
     ]
    },
    {
     "cell_type": "code",
     "collapsed": false,
     "input": [
      "average_allergic_reactions = 0.1 #1 out of 250 is the same as 0.1 out of 25\n",
      "allergic_reactions = 2\n",
      "x = (1 - scipy.stats.poisson.cdf(allergic_reactions, mu = average_allergic_reactions )) * 2\n",
      "print x\n",
      "print 'The p-value =',x\n",
      "print 'alpha =',0.05\n",
      "print 'The probability of your experiment having statistical significance = {:.2%}' .format(x)"
     ],
     "language": "python",
     "metadata": {},
     "outputs": [
      {
       "output_type": "stream",
       "stream": "stdout",
       "text": [
        "0.000309306140529\n",
        "The p-value = 0.000309306140529\n",
        "alpha = 0.05\n",
        "The probability of your experiment having statistical significance = 0.03%\n"
       ]
      }
     ],
     "prompt_number": 9
    },
    {
     "cell_type": "markdown",
     "metadata": {},
     "source": [
      "**Conclusion**: The p-value is less than alpha.. **Reject the Null Hypothesis** .. your experiment likely has no statistical significance and your results are simply by chance."
     ]
    },
    {
     "cell_type": "markdown",
     "metadata": {},
     "source": [
      "7. Binomial Test (4 Points)\n",
      "====\n",
      "\n",
      "1. Page 243, Q65"
     ]
    },
    {
     "cell_type": "markdown",
     "metadata": {},
     "source": [
      "####1-\n",
      "The Binomial Test is applicable because the average number of sports injuries is 10% of the population and in the university test there is more injuries than expected but this number is still less than 20. Also the population is made up of two mutually exclusive classes, either injured or not injured.\n",
      "\n",
      "**Null Hypothesis**: The university survery of 100 student-athletes has statistical significance."
     ]
    },
    {
     "cell_type": "code",
     "collapsed": false,
     "input": [
      "x = 17 #17 injured athletes in the survey\n",
      "n = 100 #100 student-athletes in the university survey\n",
      "p = 0.10 #The average injury rate is 10 percent\n",
      "interval_p = (1 - scipy.stats.binom.cdf(x, n, p)) * 2\n",
      "print 'The p-value =', interval_p\n",
      "print 'alpha =',0.05\n",
      "print 'The probablity of the university survey having statistical significance = {:.2%}' .format(interval_p)            "
     ],
     "language": "python",
     "metadata": {},
     "outputs": [
      {
       "output_type": "stream",
       "stream": "stdout",
       "text": [
        "The p-value = 0.0200145585243\n",
        "alpha = 0.05\n",
        "The probablity of the university survey having statistical significance = 2.00%\n"
       ]
      }
     ],
     "prompt_number": 10
    },
    {
     "cell_type": "markdown",
     "metadata": {},
     "source": [
      "**Conclusion**: The p-value is less than alpha... **Reject the Null Hypothesis** ... The university survey likely has no statistical significance and therefore is not adequete evidence of increased danger in university sports."
     ]
    },
    {
     "cell_type": "markdown",
     "metadata": {},
     "source": [
      "8. Illegeal Performance Enhancing Drugs and Programming (8 Points)\n",
      "===\n",
      "\n",
      "A scientist named Fave Doster is investigating the relationship between weight-lifting and programming. He has gathered 3 datasets. Each dataset contains measurements of the sum of the single repetition maximum lifted weight for three exercises. We will call that sum \"strength\" for short. Dataset 1 is the strength of people who use steriods and take regular protein and creatine supplements. Dataset 2 is the strength of people who do not use supplements and do not program. Dataset 3 is the same people as dataset 2 after taking CHE 116 and learning python. Fave Doster's hypothesis is that if you program in python, you won't be as strong as those who use steriods, creatine and protein supplements. Is Fave Doster's hypothesis correct? Use two different hypothesis tests to provide evidence for or against. The data is below."
     ]
    },
    {
     "cell_type": "code",
     "collapsed": false,
     "input": [
      "data_1 = [912.0, 876.0,  722.0,  645.0,  936.0,  687.0,  825.0,  576.0,  757.0,  617.0,  806.0,  898.0,  823.0,  1033.0,  1057.0,  1202.0,  776.0,  519.0,  689.0,  574.0,  1012.0,  640.0,  834.0,  906.0,  906.0]\n",
      "data_2 = [111.0, 146.0,  210.0,  230.0,  319.0,  115.0,  221.0,  219.0,  152.0,  114.0,  226.0,  187.0,  224.0,  207.0,  28.0,  358.0,  243.0,  200.0,  254.0,  252.0,  304.0,  314.0,  263.0,  136.0,  211.0]\n",
      "data_3 = [549.0, 873.0,  548.0,  823.0,  1163.0,  697.0,  1131.0,  799.0,  1130.0,  602.0,  1012.0,  968.0,  927.0,  678.0,  543.0,  681.0,  618.0,  929.0,  800.0,  897.0,  1163.0,  876.0,  678.0,  650.0,  735.0]"
     ],
     "language": "python",
     "metadata": {},
     "outputs": [],
     "prompt_number": 11
    },
    {
     "cell_type": "markdown",
     "metadata": {},
     "source": [
      "##Test 1: Wilcoxon's Sum of Rank Test for Data Sets 1 and 3\n",
      "\n",
      "This test is applicable because the data sets are measuring one variable (Strength) and the data is unmatched because there are different people doing the test in data set 1 than in data set 3.\n",
      "\n",
      "**Null Hypothesis**: People who program in python are as strong as those who use steroids, creatine, and protein supplements. "
     ]
    },
    {
     "cell_type": "code",
     "collapsed": false,
     "input": [
      "steroids_creatine_protein = np.array(data_1)\n",
      "program_in_python = np.array(data_3)\n",
      "x = scipy.stats.ranksums(steroids_creatine_protein, program_in_python)\n",
      "print x\n",
      "print 'The p-value = {}' .format(x[1])\n",
      "print 'alpha =', 0.05\n",
      "print 'The probability of no significant difference between the two sample means = {:.2%}' .format(x[1])"
     ],
     "language": "python",
     "metadata": {},
     "outputs": [
      {
       "output_type": "stream",
       "stream": "stdout",
       "text": [
        "(0.038805700005813272, 0.96904530031179115)\n",
        "The p-value = 0.969045300312\n",
        "alpha = 0.05\n",
        "The probability of no significant difference between the two sample means = 96.90%\n"
       ]
      }
     ],
     "prompt_number": 17
    },
    {
     "cell_type": "markdown",
     "metadata": {},
     "source": [
      "**Conclusion**: The p-value is greater than alpha.. **Accept the Null Hypothesis** ... People who program in python are likely as strong as those who use steroids, creatine, and protein supplements. Therefore, **Fave Doster's hypothesis is rejected**."
     ]
    },
    {
     "cell_type": "markdown",
     "metadata": {},
     "source": [
      "##Test 2: Kruskal-Wallis Test for Data Sets 1 and 3\n",
      "\n",
      "This test is applicable because the data sets are measuring one variable (strength) and the data is unmatched because different people are being measured in data sets 1 and 3.\n",
      "\n",
      "**Null Hypothesis**: People who program in python are as strong as those who use steroids, creatine, and protein supplements."
     ]
    },
    {
     "cell_type": "code",
     "collapsed": false,
     "input": [
      "steroids_creatine_protein = np.array(data_1)\n",
      "program_in_python = np.array(data_3)\n",
      "x = scipy.stats.mstats.kruskalwallis(steroids_creatine_protein, program_in_python)\n",
      "print x\n",
      "print 'The p-value = {}' .format(x[1])\n",
      "print 'alpha =', 0.05\n",
      "print 'The probability of no significant difference between the two sample means = {:.2%}' .format(x[1])"
     ],
     "language": "python",
     "metadata": {},
     "outputs": [
      {
       "output_type": "stream",
       "stream": "stdout",
       "text": [
        "(0.0015063163456205532, 0.96904084232666599)\n",
        "The p-value = 0.969040842327\n",
        "alpha = 0.05\n",
        "The probability of no significant difference between the two sample means = 96.90%\n"
       ]
      }
     ],
     "prompt_number": 19
    },
    {
     "cell_type": "markdown",
     "metadata": {},
     "source": [
      "**Conclusion**: The p-value is greater than alpha.. **Accept the Null Hypothesis** ... People who program in python are likely as strong as those who use steroids, creatine, and protein supplements. Therefore, **Fave Doster's hypothesis is rejected**."
     ]
    },
    {
     "cell_type": "markdown",
     "metadata": {},
     "source": [
      "**Overall Conclusion**: Both hypothesis tests strongly suggest that people who program in python are as strong as those who use steroids, creatine, and protein suppplements, and therefore Fave Doster's hypothesis is very likely false."
     ]
    },
    {
     "cell_type": "code",
     "collapsed": false,
     "input": [],
     "language": "python",
     "metadata": {},
     "outputs": []
    }
   ],
   "metadata": {}
  }
 ]
}